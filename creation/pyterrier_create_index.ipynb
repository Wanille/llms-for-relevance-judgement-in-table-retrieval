{
 "cells": [
  {
   "cell_type": "markdown",
   "metadata": {},
   "source": [
    "## Index tables to pyterrier"
   ]
  },
  {
   "cell_type": "code",
   "execution_count": 1,
   "metadata": {},
   "outputs": [
    {
     "name": "stderr",
     "output_type": "stream",
     "text": [
      "/home/vscode/.local/lib/python3.12/site-packages/tqdm/auto.py:21: TqdmWarning: IProgress not found. Please update jupyter and ipywidgets. See https://ipywidgets.readthedocs.io/en/stable/user_install.html\n",
      "  from .autonotebook import tqdm as notebook_tqdm\n"
     ]
    }
   ],
   "source": [
    "import pyterrier as pt\n",
    "from LLmsfJiT import connect, config, get_tables_from_qrels, read_jsonl, Table\n",
    "import itertools\n",
    "import pandas as pd\n",
    "import numpy as np"
   ]
  },
  {
   "cell_type": "code",
   "execution_count": 2,
   "metadata": {},
   "outputs": [
    {
     "name": "stderr",
     "output_type": "stream",
     "text": [
      "PyTerrier 0.10.0 has loaded Terrier 5.8 (built by craigm on 2023-11-01 18:05) and terrier-helper 0.0.8\n",
      "\n",
      "No etc/terrier.properties, using terrier.default.properties for bootstrap configuration.\n"
     ]
    }
   ],
   "source": [
    "pt.init()"
   ]
  },
  {
   "cell_type": "code",
   "execution_count": 3,
   "metadata": {},
   "outputs": [
    {
     "name": "stdout",
     "output_type": "stream",
     "text": [
      "Connected to postgres\n"
     ]
    }
   ],
   "source": [
    "conf = config(\"../database.ini\")\n",
    "conn, cur = connect(conf[\"postgres\"])"
   ]
  },
  {
   "cell_type": "markdown",
   "metadata": {},
   "source": [
    "## Generate a larger subset of wtr files"
   ]
  },
  {
   "cell_type": "code",
   "execution_count": 4,
   "metadata": {},
   "outputs": [],
   "source": [
    "tables = [\n",
    "    Table(\n",
    "        t[\"relation\"],\n",
    "        t[\"json_loc\"],\n",
    "        t[\"pageTitle\"],\n",
    "        t[\"title\"],\n",
    "        t[\"tableType\"],\n",
    "        t[\"hasHeader\"],\n",
    "        t[\"textBeforeTable\"],\n",
    "        t[\"textAfterTable\"],\n",
    "        t[\"entities\"],\n",
    "        t[\"headerPosition\"],\n",
    "        t[\"headerRowIndex\"],\n",
    "        t[\"tableOrientation\"],\n",
    "        t[\"url\"],\n",
    "        t[\"hasKeyColumn\"],\n",
    "        t[\"keyColumnIndex\"],\n",
    "    )\n",
    "    for t in read_jsonl(\"../web_tables.json\")\n",
    "    ]"
   ]
  },
  {
   "cell_type": "code",
   "execution_count": 4,
   "metadata": {},
   "outputs": [],
   "source": [
    "rated_tables = get_tables_from_qrels(conn, cur, \"../rel_files/rel_table_qrels.txt\")\n",
    "tables = [rt.table for rt in rated_tables]"
   ]
  },
  {
   "cell_type": "code",
   "execution_count": 5,
   "metadata": {},
   "outputs": [],
   "source": [
    "table_df = pd.DataFrame(tables)"
   ]
  },
  {
   "cell_type": "code",
   "execution_count": 6,
   "metadata": {},
   "outputs": [],
   "source": [
    "def extract_header(row: pd.core.series.Series):\n",
    "    header_idx = row.header_row_index\n",
    "    rows = list(map(list, zip(*row.relation)))\n",
    "    header = \" \".join(rows[header_idx]) if header_idx != -1 else \"\"\n",
    "    return header\n",
    "\n",
    "table_df[\"header\"] = table_df.apply(extract_header, axis=1)"
   ]
  },
  {
   "cell_type": "code",
   "execution_count": 7,
   "metadata": {},
   "outputs": [],
   "source": [
    "test = None\n",
    "def extract_key_column(row: pd.core.series.Series):\n",
    "    global test\n",
    "    key_col = None\n",
    "    try:\n",
    "        key_col_idx = row.key_column_index\n",
    "        key_col = \" \".join(row.relation[key_col_idx]) if key_col_idx != -1 else \"\"\n",
    "    except:\n",
    "        key_col = \" \".join(row.relation[1])\n",
    "    return key_col\n",
    "\n",
    "table_df[\"key_column\"] = table_df.apply(extract_key_column, axis=1)"
   ]
  },
  {
   "cell_type": "code",
   "execution_count": 8,
   "metadata": {},
   "outputs": [],
   "source": [
    "def extract_table_content(row: pd.core.series.Series):\n",
    "    return ' '.join(list(itertools.chain(*row['relation'])))\n",
    "\n",
    "table_df[\"table_content\"] = table_df.apply(extract_table_content, axis=1)"
   ]
  },
  {
   "cell_type": "code",
   "execution_count": 9,
   "metadata": {},
   "outputs": [],
   "source": [
    "def gen_catchall(row: pd.core.series.Series):\n",
    "    return ' '.join([row.table_content, row.text_before, row.text_after, row.page_title, row.title])\n",
    "\n",
    "table_catchall = pd.concat([table_df[\"json_loc\"], table_df.apply(gen_catchall, axis=1)], axis=1)\n",
    "table_catchall.columns = [\"docno\", \"catchall\"]"
   ]
  },
  {
   "cell_type": "code",
   "execution_count": 10,
   "metadata": {},
   "outputs": [
    {
     "data": {
      "text/html": [
       "<div>\n",
       "<style scoped>\n",
       "    .dataframe tbody tr th:only-of-type {\n",
       "        vertical-align: middle;\n",
       "    }\n",
       "\n",
       "    .dataframe tbody tr th {\n",
       "        vertical-align: top;\n",
       "    }\n",
       "\n",
       "    .dataframe thead th {\n",
       "        text-align: right;\n",
       "    }\n",
       "</style>\n",
       "<table border=\"1\" class=\"dataframe\">\n",
       "  <thead>\n",
       "    <tr style=\"text-align: right;\">\n",
       "      <th></th>\n",
       "      <th>docno</th>\n",
       "      <th>catchall</th>\n",
       "    </tr>\n",
       "  </thead>\n",
       "  <tbody>\n",
       "    <tr>\n",
       "      <th>0</th>\n",
       "      <td>5/1438042988718.8_20150728002308-00068-ip-10-2...</td>\n",
       "      <td>Country name Afghanistan Albania Algeria Ameri...</td>\n",
       "    </tr>\n",
       "    <tr>\n",
       "      <th>1</th>\n",
       "      <td>28/1438042990112.92_20150728002310-00241-ip-10...</td>\n",
       "      <td>S.No. 1 2 3 4 5 6 7 8 9 10 11 12 13 14 15 16 1...</td>\n",
       "    </tr>\n",
       "    <tr>\n",
       "      <th>2</th>\n",
       "      <td>41/1438042986451.45_20150728002306-00283-ip-10...</td>\n",
       "      <td>S.No. 1 2 3 4 5 6 7 8 9 10 11 12 13 14 15 16 1...</td>\n",
       "    </tr>\n",
       "    <tr>\n",
       "      <th>3</th>\n",
       "      <td>2/1438042981856.5_20150728002301-00265-ip-10-2...</td>\n",
       "      <td>Country Japan Singapore Bulgaria Switzerland U...</td>\n",
       "    </tr>\n",
       "    <tr>\n",
       "      <th>4</th>\n",
       "      <td>21/1438042987174.71_20150728002307-00309-ip-10...</td>\n",
       "      <td>Country name Afghanistan Albania Algeria Ameri...</td>\n",
       "    </tr>\n",
       "    <tr>\n",
       "      <th>...</th>\n",
       "      <td>...</td>\n",
       "      <td>...</td>\n",
       "    </tr>\n",
       "    <tr>\n",
       "      <th>6944</th>\n",
       "      <td>25/1438042987155.85_20150728002307-00277-ip-10...</td>\n",
       "      <td>Rank 101 102 103 104 105 106 107 108 109 110 1...</td>\n",
       "    </tr>\n",
       "    <tr>\n",
       "      <th>6945</th>\n",
       "      <td>25/1438042987155.85_20150728002307-00015-ip-10...</td>\n",
       "      <td>Region Albania Armenia Azerbaijan Belize Benin...</td>\n",
       "    </tr>\n",
       "    <tr>\n",
       "      <th>6946</th>\n",
       "      <td>23/1438042990609.0_20150728002310-00259-ip-10-...</td>\n",
       "      <td>Games 2014 Winter 2014 Winter Age 23 23 City S...</td>\n",
       "    </tr>\n",
       "    <tr>\n",
       "      <th>6947</th>\n",
       "      <td>23/1438042989043.35_20150728002309-00291-ip-10...</td>\n",
       "      <td># 31 43  Name Jaroslav Janus Evan Oberg Sabast...</td>\n",
       "    </tr>\n",
       "    <tr>\n",
       "      <th>6948</th>\n",
       "      <td>30/1438042986357.49_20150728002306-00077-ip-10...</td>\n",
       "      <td>Games 1908 Summer 1908 Summer Age 22 22 City L...</td>\n",
       "    </tr>\n",
       "  </tbody>\n",
       "</table>\n",
       "<p>6949 rows × 2 columns</p>\n",
       "</div>"
      ],
      "text/plain": [
       "                                                  docno  \\\n",
       "0     5/1438042988718.8_20150728002308-00068-ip-10-2...   \n",
       "1     28/1438042990112.92_20150728002310-00241-ip-10...   \n",
       "2     41/1438042986451.45_20150728002306-00283-ip-10...   \n",
       "3     2/1438042981856.5_20150728002301-00265-ip-10-2...   \n",
       "4     21/1438042987174.71_20150728002307-00309-ip-10...   \n",
       "...                                                 ...   \n",
       "6944  25/1438042987155.85_20150728002307-00277-ip-10...   \n",
       "6945  25/1438042987155.85_20150728002307-00015-ip-10...   \n",
       "6946  23/1438042990609.0_20150728002310-00259-ip-10-...   \n",
       "6947  23/1438042989043.35_20150728002309-00291-ip-10...   \n",
       "6948  30/1438042986357.49_20150728002306-00077-ip-10...   \n",
       "\n",
       "                                               catchall  \n",
       "0     Country name Afghanistan Albania Algeria Ameri...  \n",
       "1     S.No. 1 2 3 4 5 6 7 8 9 10 11 12 13 14 15 16 1...  \n",
       "2     S.No. 1 2 3 4 5 6 7 8 9 10 11 12 13 14 15 16 1...  \n",
       "3     Country Japan Singapore Bulgaria Switzerland U...  \n",
       "4     Country name Afghanistan Albania Algeria Ameri...  \n",
       "...                                                 ...  \n",
       "6944  Rank 101 102 103 104 105 106 107 108 109 110 1...  \n",
       "6945  Region Albania Armenia Azerbaijan Belize Benin...  \n",
       "6946  Games 2014 Winter 2014 Winter Age 23 23 City S...  \n",
       "6947  # 31 43  Name Jaroslav Janus Evan Oberg Sabast...  \n",
       "6948  Games 1908 Summer 1908 Summer Age 22 22 City L...  \n",
       "\n",
       "[6949 rows x 2 columns]"
      ]
     },
     "execution_count": 10,
     "metadata": {},
     "output_type": "execute_result"
    }
   ],
   "source": [
    "table_catchall"
   ]
  },
  {
   "cell_type": "code",
   "execution_count": 12,
   "metadata": {},
   "outputs": [
    {
     "data": {
      "text/plain": [
       "<org.terrier.querying.IndexRef at 0x7efc52773390 jclass=org/terrier/querying/IndexRef jself=<LocalRef obj=0x557114c5b8c0 at 0x7efc5273a3f0>>"
      ]
     },
     "execution_count": 12,
     "metadata": {},
     "output_type": "execute_result"
    }
   ],
   "source": [
    "sf_indexer = pt.DFIndexer(\"../pyterrier_indexes/single_field_index_6949\")\n",
    "sf_indexer.index(table_catchall[\"catchall\"], table_catchall[\"docno\"])"
   ]
  },
  {
   "cell_type": "code",
   "execution_count": 12,
   "metadata": {},
   "outputs": [],
   "source": [
    "mf_table = table_df[[\"json_loc\", \"page_title\", \"text_before\", \"table_content\", \"text_after\", \"header\"]].copy()"
   ]
  },
  {
   "cell_type": "code",
   "execution_count": 13,
   "metadata": {},
   "outputs": [],
   "source": [
    "mf_table.columns = [\"docno\", \"page_title\", \"text_before\", \"text\", \"text_after\", \"header\"]"
   ]
  },
  {
   "cell_type": "code",
   "execution_count": 14,
   "metadata": {},
   "outputs": [],
   "source": [
    "mf_dict = mf_table.to_dict(\"records\")"
   ]
  },
  {
   "cell_type": "code",
   "execution_count": 15,
   "metadata": {},
   "outputs": [
    {
     "data": {
      "text/plain": [
       "<org.terrier.querying.IndexRef at 0x7f62a3d098b0 jclass=org/terrier/querying/IndexRef jself=<LocalRef obj=0x560dca184f88 at 0x7f636b9a40d0>>"
      ]
     },
     "execution_count": 15,
     "metadata": {},
     "output_type": "execute_result"
    }
   ],
   "source": [
    "mf_indexer = pt.IterDictIndexer(\"../rel_files/multi_field_index_topics\", meta={\"docno\": 100})\n",
    "mf_indexer.index(mf_dict)"
   ]
  },
  {
   "cell_type": "code",
   "execution_count": null,
   "metadata": {},
   "outputs": [],
   "source": []
  }
 ],
 "metadata": {
  "kernelspec": {
   "display_name": "Python 3",
   "language": "python",
   "name": "python3"
  },
  "language_info": {
   "codemirror_mode": {
    "name": "ipython",
    "version": 3
   },
   "file_extension": ".py",
   "mimetype": "text/x-python",
   "name": "python",
   "nbconvert_exporter": "python",
   "pygments_lexer": "ipython3",
   "version": "3.12.0"
  }
 },
 "nbformat": 4,
 "nbformat_minor": 2
}
