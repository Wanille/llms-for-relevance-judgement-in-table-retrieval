{
 "cells": [
  {
   "cell_type": "markdown",
   "metadata": {},
   "source": [
    "## Evaluate GPT Judgements for all modalities"
   ]
  },
  {
   "cell_type": "code",
   "execution_count": 26,
   "metadata": {},
   "outputs": [],
   "source": [
    "import pandas as pd\n",
    "from tools import read_trec_qrels\n",
    "from statsmodels.stats.inter_rater import fleiss_kappa, cohens_kappa, aggregate_raters, to_table"
   ]
  },
  {
   "cell_type": "code",
   "execution_count": 3,
   "metadata": {},
   "outputs": [],
   "source": [
    "columns = [\"topic_id\", \"it\", \"json_loc\", \"rel_t\"]\n",
    "df = pd.DataFrame(read_trec_qrels(\"runs/first_run_with_balanced_sample_bin.txt\"), columns=columns)"
   ]
  },
  {
   "cell_type": "code",
   "execution_count": 4,
   "metadata": {},
   "outputs": [
    {
     "data": {
      "text/html": [
       "<div>\n",
       "<style scoped>\n",
       "    .dataframe tbody tr th:only-of-type {\n",
       "        vertical-align: middle;\n",
       "    }\n",
       "\n",
       "    .dataframe tbody tr th {\n",
       "        vertical-align: top;\n",
       "    }\n",
       "\n",
       "    .dataframe thead th {\n",
       "        text-align: right;\n",
       "    }\n",
       "</style>\n",
       "<table border=\"1\" class=\"dataframe\">\n",
       "  <thead>\n",
       "    <tr style=\"text-align: right;\">\n",
       "      <th></th>\n",
       "      <th>topic_id</th>\n",
       "      <th>it</th>\n",
       "      <th>json_loc</th>\n",
       "      <th>rel_t</th>\n",
       "    </tr>\n",
       "  </thead>\n",
       "  <tbody>\n",
       "    <tr>\n",
       "      <th>0</th>\n",
       "      <td>23</td>\n",
       "      <td>0</td>\n",
       "      <td>45/1438042989897.84_20150728002309-00081-ip-10...</td>\n",
       "      <td>1</td>\n",
       "    </tr>\n",
       "    <tr>\n",
       "      <th>1</th>\n",
       "      <td>23</td>\n",
       "      <td>0</td>\n",
       "      <td>28/1438042989301.17_20150728002309-00289-ip-10...</td>\n",
       "      <td>1</td>\n",
       "    </tr>\n",
       "    <tr>\n",
       "      <th>2</th>\n",
       "      <td>20</td>\n",
       "      <td>0</td>\n",
       "      <td>37/1438042982013.25_20150728002302-00168-ip-10...</td>\n",
       "      <td>0</td>\n",
       "    </tr>\n",
       "    <tr>\n",
       "      <th>3</th>\n",
       "      <td>29</td>\n",
       "      <td>0</td>\n",
       "      <td>36/1438042988598.68_20150728002308-00147-ip-10...</td>\n",
       "      <td>0</td>\n",
       "    </tr>\n",
       "    <tr>\n",
       "      <th>4</th>\n",
       "      <td>14</td>\n",
       "      <td>0</td>\n",
       "      <td>29/1438042987628.47_20150728002307-00142-ip-10...</td>\n",
       "      <td>0</td>\n",
       "    </tr>\n",
       "  </tbody>\n",
       "</table>\n",
       "</div>"
      ],
      "text/plain": [
       "  topic_id it                                           json_loc rel_t\n",
       "0       23  0  45/1438042989897.84_20150728002309-00081-ip-10...     1\n",
       "1       23  0  28/1438042989301.17_20150728002309-00289-ip-10...     1\n",
       "2       20  0  37/1438042982013.25_20150728002302-00168-ip-10...     0\n",
       "3       29  0  36/1438042988598.68_20150728002308-00147-ip-10...     0\n",
       "4       14  0  29/1438042987628.47_20150728002307-00142-ip-10...     0"
      ]
     },
     "execution_count": 4,
     "metadata": {},
     "output_type": "execute_result"
    }
   ],
   "source": [
    "df.head()"
   ]
  },
  {
   "cell_type": "code",
   "execution_count": 5,
   "metadata": {},
   "outputs": [],
   "source": [
    "additional_modalities = {\n",
    "    \"entity\": (\"runs/balanced_sample_bin_entity.txt\", \"e\"),\n",
    "    \"page_title\": (\"runs/balanced_sample_bin_page_title.txt\", \"pt\"),\n",
    "    \"text_before\": (\"runs/balanced_sample_bin_text_before.txt\", \"tb\"),\n",
    "    \"text_after\": (\"runs/balanced_sample_bin_text_after.txt\", \"ta\"),\n",
    "    \"table\": (\"runs/first_run_with_balanced_sample_bin.txt\", \"t\")\n",
    "}\n",
    "\n",
    "for mod in additional_modalities.keys():\n",
    "    qrels = read_trec_qrels(additional_modalities[mod][0])\n",
    "    mod_cols = columns.copy()\n",
    "    mod_cols[-1] = mod_cols[-1][:-1] + additional_modalities[mod][1]\n",
    "    temp_df = pd.DataFrame(qrels, columns=mod_cols)\n",
    "    df[mod_cols[-1]] = temp_df[mod_cols[-1]]"
   ]
  },
  {
   "cell_type": "markdown",
   "metadata": {},
   "source": [
    "## Cohen's Kappa between any two fields"
   ]
  },
  {
   "cell_type": "code",
   "execution_count": 30,
   "metadata": {},
   "outputs": [],
   "source": [
    "two_field_agreement_data = []\n",
    "for mod_a in additional_modalities.keys():\n",
    "    table_col = []\n",
    "    for mod_b in additional_modalities.keys():\n",
    "        cols = [\"rel_\" + additional_modalities[mod_a][1], \"rel_\" + additional_modalities[mod_b][1]]\n",
    "\n",
    "        # Get unique categories from both raters\n",
    "        categories = sorted(set(df[cols[0]].unique()) | set(df[cols[1]].unique()))\n",
    "\n",
    "        # Create a square array with counts of ratings for both raters\n",
    "        table = pd.crosstab(df[cols[0]], df[cols[1]], rownames=[cols[0]], colnames=[cols[1]])\n",
    "        table = table.reindex(columns=categories, index=categories, fill_value=0).values\n",
    "        table_col.append(\n",
    "            cohens_kappa(\n",
    "                table, None, None\n",
    "            )\n",
    "        )\n",
    "    two_field_agreement_data.append(table_col)"
   ]
  },
  {
   "cell_type": "code",
   "execution_count": 20,
   "metadata": {},
   "outputs": [
    {
     "data": {
      "text/html": [
       "<style type=\"text/css\">\n",
       "#T_44edd_row0_col4, #T_44edd_row1_col2, #T_44edd_row1_col3, #T_44edd_row2_col1, #T_44edd_row3_col1, #T_44edd_row4_col0 {\n",
       "  background-color: yellow;\n",
       "}\n",
       "</style>\n",
       "<table id=\"T_44edd\">\n",
       "  <thead>\n",
       "    <tr>\n",
       "      <th class=\"blank level0\" >&nbsp;</th>\n",
       "      <th id=\"T_44edd_level0_col0\" class=\"col_heading level0 col0\" >entity</th>\n",
       "      <th id=\"T_44edd_level0_col1\" class=\"col_heading level0 col1\" >page_title</th>\n",
       "      <th id=\"T_44edd_level0_col2\" class=\"col_heading level0 col2\" >text_before</th>\n",
       "      <th id=\"T_44edd_level0_col3\" class=\"col_heading level0 col3\" >text_after</th>\n",
       "      <th id=\"T_44edd_level0_col4\" class=\"col_heading level0 col4\" >table</th>\n",
       "    </tr>\n",
       "  </thead>\n",
       "  <tbody>\n",
       "    <tr>\n",
       "      <th id=\"T_44edd_level0_row0\" class=\"row_heading level0 row0\" >entity</th>\n",
       "      <td id=\"T_44edd_row0_col0\" class=\"data row0 col0\" >1.000000</td>\n",
       "      <td id=\"T_44edd_row0_col1\" class=\"data row0 col1\" >0.070675</td>\n",
       "      <td id=\"T_44edd_row0_col2\" class=\"data row0 col2\" >0.037538</td>\n",
       "      <td id=\"T_44edd_row0_col3\" class=\"data row0 col3\" >0.189554</td>\n",
       "      <td id=\"T_44edd_row0_col4\" class=\"data row0 col4\" >0.350361</td>\n",
       "    </tr>\n",
       "    <tr>\n",
       "      <th id=\"T_44edd_level0_row1\" class=\"row_heading level0 row1\" >page_title</th>\n",
       "      <td id=\"T_44edd_row1_col0\" class=\"data row1 col0\" >0.070675</td>\n",
       "      <td id=\"T_44edd_row1_col1\" class=\"data row1 col1\" >1.000000</td>\n",
       "      <td id=\"T_44edd_row1_col2\" class=\"data row1 col2\" >0.306167</td>\n",
       "      <td id=\"T_44edd_row1_col3\" class=\"data row1 col3\" >0.254409</td>\n",
       "      <td id=\"T_44edd_row1_col4\" class=\"data row1 col4\" >0.161745</td>\n",
       "    </tr>\n",
       "    <tr>\n",
       "      <th id=\"T_44edd_level0_row2\" class=\"row_heading level0 row2\" >text_before</th>\n",
       "      <td id=\"T_44edd_row2_col0\" class=\"data row2 col0\" >0.037538</td>\n",
       "      <td id=\"T_44edd_row2_col1\" class=\"data row2 col1\" >0.306167</td>\n",
       "      <td id=\"T_44edd_row2_col2\" class=\"data row2 col2\" >1.000000</td>\n",
       "      <td id=\"T_44edd_row2_col3\" class=\"data row2 col3\" >0.155770</td>\n",
       "      <td id=\"T_44edd_row2_col4\" class=\"data row2 col4\" >0.130528</td>\n",
       "    </tr>\n",
       "    <tr>\n",
       "      <th id=\"T_44edd_level0_row3\" class=\"row_heading level0 row3\" >text_after</th>\n",
       "      <td id=\"T_44edd_row3_col0\" class=\"data row3 col0\" >0.189554</td>\n",
       "      <td id=\"T_44edd_row3_col1\" class=\"data row3 col1\" >0.254409</td>\n",
       "      <td id=\"T_44edd_row3_col2\" class=\"data row3 col2\" >0.155770</td>\n",
       "      <td id=\"T_44edd_row3_col3\" class=\"data row3 col3\" >1.000000</td>\n",
       "      <td id=\"T_44edd_row3_col4\" class=\"data row3 col4\" >0.239662</td>\n",
       "    </tr>\n",
       "    <tr>\n",
       "      <th id=\"T_44edd_level0_row4\" class=\"row_heading level0 row4\" >table</th>\n",
       "      <td id=\"T_44edd_row4_col0\" class=\"data row4 col0\" >0.350361</td>\n",
       "      <td id=\"T_44edd_row4_col1\" class=\"data row4 col1\" >0.161745</td>\n",
       "      <td id=\"T_44edd_row4_col2\" class=\"data row4 col2\" >0.130528</td>\n",
       "      <td id=\"T_44edd_row4_col3\" class=\"data row4 col3\" >0.239662</td>\n",
       "      <td id=\"T_44edd_row4_col4\" class=\"data row4 col4\" >1.000000</td>\n",
       "    </tr>\n",
       "  </tbody>\n",
       "</table>\n"
      ],
      "text/plain": [
       "<pandas.io.formats.style.Styler at 0x7f0baa328080>"
      ]
     },
     "execution_count": 20,
     "metadata": {},
     "output_type": "execute_result"
    }
   ],
   "source": [
    "pd.DataFrame(two_field_agreement_data, columns=additional_modalities.keys(), index=additional_modalities.keys()).style.highlight_between(axis=0, left=0.25, right=0.4)"
   ]
  },
  {
   "cell_type": "markdown",
   "metadata": {},
   "source": [
    "## Fleiss Kappa between all fields"
   ]
  },
  {
   "cell_type": "code",
   "execution_count": 44,
   "metadata": {},
   "outputs": [
    {
     "data": {
      "text/plain": [
       "0.1611969303377024"
      ]
     },
     "execution_count": 44,
     "metadata": {},
     "output_type": "execute_result"
    }
   ],
   "source": [
    "fleiss_kappa(aggregate_raters(df[df.columns[3:]])[0])"
   ]
  }
 ],
 "metadata": {
  "kernelspec": {
   "display_name": "Python 3",
   "language": "python",
   "name": "python3"
  },
  "language_info": {
   "codemirror_mode": {
    "name": "ipython",
    "version": 3
   },
   "file_extension": ".py",
   "mimetype": "text/x-python",
   "name": "python",
   "nbconvert_exporter": "python",
   "pygments_lexer": "ipython3",
   "version": "3.12.0"
  }
 },
 "nbformat": 4,
 "nbformat_minor": 2
}
