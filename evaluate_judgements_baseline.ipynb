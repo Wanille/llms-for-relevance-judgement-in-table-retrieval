{
 "cells": [
  {
   "cell_type": "code",
   "execution_count": 1,
   "metadata": {},
   "outputs": [],
   "source": [
    "from tools import read_trec_qrels\n",
    "import pandas as pd\n",
    "from sklearn.metrics import confusion_matrix, cohen_kappa_score\n",
    "from itertools import repeat"
   ]
  },
  {
   "cell_type": "markdown",
   "metadata": {},
   "source": [
    "## Read Files"
   ]
  },
  {
   "cell_type": "code",
   "execution_count": 13,
   "metadata": {},
   "outputs": [],
   "source": [
    "human_qrels = read_trec_qrels(\"rel_files/rel_table_qrels_sample_balanced.txt\")\n",
    "df = pd.DataFrame(human_qrels, columns=[\"Topic\", \"It\", \"Doc\", \"Rel_Human\"])\n",
    "\n",
    "gpt_qrels = read_trec_qrels(\"runs/first_run_with_balanced_sample.txt\")\n",
    "gpt_qrels_bin = read_trec_qrels(\"runs/first_run_with_balanced_sample_bin.txt\")\n",
    "gpt_qrels_bin_sys = read_trec_qrels(\"runs/first_run_with_balanced_sample_bin_sys.txt\")\n",
    "gpt_qrels_sys = read_trec_qrels(\"runs/first_run_with_balanced_sample_sys.txt\")\n",
    "gpt_qrels_bin_no_sys = read_trec_qrels(\"runs/first_run_with_balanced_sample_bin_no_sys.txt\")\n",
    "\n",
    "gpt_df = pd.DataFrame(gpt_qrels, columns=[\"Topic\", \"It\", \"Doc\", \"Rel_GPT\"])\n",
    "gpt_bin_df = pd.DataFrame(gpt_qrels_bin, columns=[\"Topic\", \"It\", \"Doc\", \"Rel_GPT_bin\"])\n",
    "gpt_bin_sys_df = pd.DataFrame(gpt_qrels_bin_sys, columns=[\"Topic\", \"It\", \"Doc\", \"Rel_GPT_bin_sys\"])\n",
    "gpt_sys_df = pd.DataFrame(gpt_qrels_sys, columns=[\"Topic\", \"It\", \"Doc\", \"Rel_GPT_sys\"])\n",
    "gpt_bin_no_sys_df = pd.DataFrame(gpt_qrels_bin_no_sys, columns=[\"Topic\", \"It\", \"Doc\", \"Rel_GPT_bin_no_sys\"])\n",
    "\n",
    "df[\"Rel_GPT\"] = gpt_df[\"Rel_GPT\"].astype(int)\n",
    "df[\"Rel_Human\"] = df[\"Rel_Human\"].astype(int)\n",
    "df[\"Rel_GPT_bin\"] = gpt_bin_df[\"Rel_GPT_bin\"].astype(int)\n",
    "df[\"Rel_GPT_bin_sys\"] = gpt_bin_sys_df[\"Rel_GPT_bin_sys\"].astype(int)\n",
    "df[\"Rel_GPT_sys\"] = gpt_sys_df[\"Rel_GPT_sys\"].astype(int)\n",
    "df[\"Rel_GPT_bin_no_sys\"] = gpt_bin_no_sys_df[\"Rel_GPT_bin_no_sys\"].astype(int)"
   ]
  },
  {
   "cell_type": "markdown",
   "metadata": {},
   "source": [
    "## Baseline Rating(irr, rel, high_rel)"
   ]
  },
  {
   "cell_type": "code",
   "execution_count": 14,
   "metadata": {},
   "outputs": [
    {
     "data": {
      "text/html": [
       "<style type=\"text/css\">\n",
       "#T_198e5_row0_col0, #T_198e5_row1_col1, #T_198e5_row1_col2, #T_198e5_row2_col2 {\n",
       "  font-weight: bold;\n",
       "}\n",
       "</style>\n",
       "<table id=\"T_198e5\">\n",
       "  <thead>\n",
       "    <tr>\n",
       "      <th class=\"blank\" >&nbsp;</th>\n",
       "      <th class=\"blank level0\" >&nbsp;</th>\n",
       "      <th id=\"T_198e5_level0_col0\" class=\"col_heading level0 col0\" colspan=\"3\">WTR Assesors</th>\n",
       "    </tr>\n",
       "    <tr>\n",
       "      <th class=\"blank\" >&nbsp;</th>\n",
       "      <th class=\"blank level1\" >&nbsp;</th>\n",
       "      <th id=\"T_198e5_level1_col0\" class=\"col_heading level1 col0\" >0</th>\n",
       "      <th id=\"T_198e5_level1_col1\" class=\"col_heading level1 col1\" >1</th>\n",
       "      <th id=\"T_198e5_level1_col2\" class=\"col_heading level1 col2\" >2</th>\n",
       "    </tr>\n",
       "  </thead>\n",
       "  <tbody>\n",
       "    <tr>\n",
       "      <th id=\"T_198e5_level0_row0\" class=\"row_heading level0 row0\" rowspan=\"3\">GPT-3.5</th>\n",
       "      <th id=\"T_198e5_level1_row0\" class=\"row_heading level1 row0\" >0</th>\n",
       "      <td id=\"T_198e5_row0_col0\" class=\"data row0 col0\" >13</td>\n",
       "      <td id=\"T_198e5_row0_col1\" class=\"data row0 col1\" >4</td>\n",
       "      <td id=\"T_198e5_row0_col2\" class=\"data row0 col2\" >0</td>\n",
       "    </tr>\n",
       "    <tr>\n",
       "      <th id=\"T_198e5_level1_row1\" class=\"row_heading level1 row1\" >1</th>\n",
       "      <td id=\"T_198e5_row1_col0\" class=\"data row1 col0\" >13</td>\n",
       "      <td id=\"T_198e5_row1_col1\" class=\"data row1 col1\" >19</td>\n",
       "      <td id=\"T_198e5_row1_col2\" class=\"data row1 col2\" >19</td>\n",
       "    </tr>\n",
       "    <tr>\n",
       "      <th id=\"T_198e5_level1_row2\" class=\"row_heading level1 row2\" >2</th>\n",
       "      <td id=\"T_198e5_row2_col0\" class=\"data row2 col0\" >4</td>\n",
       "      <td id=\"T_198e5_row2_col1\" class=\"data row2 col1\" >7</td>\n",
       "      <td id=\"T_198e5_row2_col2\" class=\"data row2 col2\" >11</td>\n",
       "    </tr>\n",
       "  </tbody>\n",
       "</table>\n"
      ],
      "text/plain": [
       "<pandas.io.formats.style.Styler at 0x7f129a9a0f80>"
      ]
     },
     "metadata": {},
     "output_type": "display_data"
    },
    {
     "name": "stdout",
     "output_type": "stream",
     "text": [
      "Cohen's K: 0.217\n"
     ]
    }
   ],
   "source": [
    "cm = confusion_matrix(y_true=df[\"Rel_Human\"], y_pred=df[\"Rel_GPT\"])\n",
    "cohens_k = round(cohen_kappa_score(df[\"Rel_Human\"], df[\"Rel_GPT\"]), 3)\n",
    "\n",
    "idx_rows = pd.MultiIndex.from_tuples(list(zip(repeat(\"WTR Assesors\"), sorted(df[\"Rel_Human\"].unique()))))\n",
    "idx_cols = pd.MultiIndex.from_tuples(list(zip(repeat(\"GPT-3.5\"), sorted(df[\"Rel_GPT\"].unique()))))\n",
    "\n",
    "cm_df = pd.DataFrame(\n",
    "    data=cm,\n",
    "    index = idx_rows,\n",
    "    columns=idx_cols\n",
    ")\n",
    "\n",
    "display(cm_df.T.style.highlight_max(axis=1, props='font-weight:bold'))\n",
    "print(\"Cohen's K:\", cohens_k)\n",
    "        # .to_latex(\n",
    "        #     hrules=True,\n",
    "        #     multirow_align=\"t\",\n",
    "        #     caption=\"Rater agreement between GPT-3.5 and WTR Assesors\",\n",
    "        # )\n"
   ]
  },
  {
   "cell_type": "markdown",
   "metadata": {},
   "source": [
    "## Baseline Rating(irr, rel, high_rel) mapped to bin"
   ]
  },
  {
   "cell_type": "code",
   "execution_count": 15,
   "metadata": {},
   "outputs": [
    {
     "data": {
      "text/html": [
       "<style type=\"text/css\">\n",
       "#T_cf20f_row0_col0, #T_cf20f_row1_col1 {\n",
       "  font-weight: bold;\n",
       "}\n",
       "</style>\n",
       "<table id=\"T_cf20f\">\n",
       "  <thead>\n",
       "    <tr>\n",
       "      <th class=\"blank\" >&nbsp;</th>\n",
       "      <th class=\"blank level0\" >&nbsp;</th>\n",
       "      <th id=\"T_cf20f_level0_col0\" class=\"col_heading level0 col0\" colspan=\"2\">WTR Assesors</th>\n",
       "    </tr>\n",
       "    <tr>\n",
       "      <th class=\"blank\" >&nbsp;</th>\n",
       "      <th class=\"blank level1\" >&nbsp;</th>\n",
       "      <th id=\"T_cf20f_level1_col0\" class=\"col_heading level1 col0\" >0</th>\n",
       "      <th id=\"T_cf20f_level1_col1\" class=\"col_heading level1 col1\" >1</th>\n",
       "    </tr>\n",
       "  </thead>\n",
       "  <tbody>\n",
       "    <tr>\n",
       "      <th id=\"T_cf20f_level0_row0\" class=\"row_heading level0 row0\" rowspan=\"2\">GPT-3.5</th>\n",
       "      <th id=\"T_cf20f_level1_row0\" class=\"row_heading level1 row0\" >0</th>\n",
       "      <td id=\"T_cf20f_row0_col0\" class=\"data row0 col0\" >13</td>\n",
       "      <td id=\"T_cf20f_row0_col1\" class=\"data row0 col1\" >4</td>\n",
       "    </tr>\n",
       "    <tr>\n",
       "      <th id=\"T_cf20f_level1_row1\" class=\"row_heading level1 row1\" >1</th>\n",
       "      <td id=\"T_cf20f_row1_col0\" class=\"data row1 col0\" >17</td>\n",
       "      <td id=\"T_cf20f_row1_col1\" class=\"data row1 col1\" >56</td>\n",
       "    </tr>\n",
       "  </tbody>\n",
       "</table>\n"
      ],
      "text/plain": [
       "<pandas.io.formats.style.Styler at 0x7f129fd2d3d0>"
      ]
     },
     "metadata": {},
     "output_type": "display_data"
    },
    {
     "name": "stdout",
     "output_type": "stream",
     "text": [
      "Cohen's K 0.41121495327102797\n"
     ]
    }
   ],
   "source": [
    "df.loc[df[\"Rel_Human\"] == 0, \"Rel_Human_bin\"] = 0\n",
    "df.loc[df[\"Rel_Human\"] > 0, \"Rel_Human_bin\"] = 1\n",
    "df[\"Rel_Human_bin\"] = df[\"Rel_Human_bin\"].astype(int)\n",
    "\n",
    "df.loc[df[\"Rel_GPT\"] == 0, \"Rel_GPT_bin_mapped\"] = 0\n",
    "df.loc[df[\"Rel_GPT\"] > 0, \"Rel_GPT_bin_mapped\"] = 1\n",
    "df[\"Rel_GPT_bin_mapped\"] = df[\"Rel_GPT_bin_mapped\"].astype(int)\n",
    "\n",
    "idx_rows = pd.MultiIndex.from_tuples(list(zip(repeat(\"WTR Assesors\"), sorted(df[\"Rel_Human_bin\"].unique()))))\n",
    "idx_cols = pd.MultiIndex.from_tuples(list(zip(repeat(\"GPT-3.5\"), sorted(df[\"Rel_GPT_bin_mapped\"].unique()))))\n",
    "\n",
    "display(pd.DataFrame(\n",
    "    confusion_matrix(y_true=df[\"Rel_Human_bin\"], y_pred=df[\"Rel_GPT_bin_mapped\"]),\n",
    "    index=idx_rows,\n",
    "    columns=idx_cols\n",
    ").T.style.highlight_max(axis=1, props='font-weight:bold'))\n",
    "\n",
    "print(\"Cohen's K\", cohen_kappa_score(df[\"Rel_GPT_bin_mapped\"], df[\"Rel_Human_bin\"]))\n",
    "\n"
   ]
  },
  {
   "cell_type": "markdown",
   "metadata": {},
   "source": [
    "## Baseline Rating(irr, rel, high_rel) only GPT mapped to bin"
   ]
  },
  {
   "cell_type": "code",
   "execution_count": 16,
   "metadata": {},
   "outputs": [
    {
     "data": {
      "text/html": [
       "<style type=\"text/css\">\n",
       "#T_6d76b_row0_col0, #T_6d76b_row0_col1, #T_6d76b_row0_col2 {\n",
       "  font-weight: bold;\n",
       "}\n",
       "</style>\n",
       "<table id=\"T_6d76b\">\n",
       "  <thead>\n",
       "    <tr>\n",
       "      <th class=\"blank level0\" >&nbsp;</th>\n",
       "      <th id=\"T_6d76b_level0_col0\" class=\"col_heading level0 col0\" >2</th>\n",
       "      <th id=\"T_6d76b_level0_col1\" class=\"col_heading level0 col1\" >1</th>\n",
       "      <th id=\"T_6d76b_level0_col2\" class=\"col_heading level0 col2\" >0</th>\n",
       "    </tr>\n",
       "  </thead>\n",
       "  <tbody>\n",
       "    <tr>\n",
       "      <th id=\"T_6d76b_level0_row0\" class=\"row_heading level0 row0\" >1</th>\n",
       "      <td id=\"T_6d76b_row0_col0\" class=\"data row0 col0\" >30</td>\n",
       "      <td id=\"T_6d76b_row0_col1\" class=\"data row0 col1\" >26</td>\n",
       "      <td id=\"T_6d76b_row0_col2\" class=\"data row0 col2\" >17</td>\n",
       "    </tr>\n",
       "    <tr>\n",
       "      <th id=\"T_6d76b_level0_row1\" class=\"row_heading level0 row1\" >0</th>\n",
       "      <td id=\"T_6d76b_row1_col0\" class=\"data row1 col0\" >0</td>\n",
       "      <td id=\"T_6d76b_row1_col1\" class=\"data row1 col1\" >4</td>\n",
       "      <td id=\"T_6d76b_row1_col2\" class=\"data row1 col2\" >13</td>\n",
       "    </tr>\n",
       "  </tbody>\n",
       "</table>\n"
      ],
      "text/plain": [
       "<pandas.io.formats.style.Styler at 0x7f129a60a5a0>"
      ]
     },
     "execution_count": 16,
     "metadata": {},
     "output_type": "execute_result"
    }
   ],
   "source": [
    "a = len(df.loc[(df[\"Rel_GPT_bin_mapped\"] == 1) & (df[\"Rel_Human\"] == 2)])\n",
    "b = len(df.loc[(df[\"Rel_GPT_bin_mapped\"] == 1) & (df[\"Rel_Human\"] == 1)])\n",
    "c = len(df.loc[(df[\"Rel_GPT_bin_mapped\"] == 1) & (df[\"Rel_Human\"] == 0)])\n",
    "gpt_rel = [a, b, c]\n",
    "d = len(df.loc[(df[\"Rel_GPT_bin_mapped\"] == 0) & (df[\"Rel_Human\"] == 2)])\n",
    "e = len(df.loc[(df[\"Rel_GPT_bin_mapped\"] == 0) & (df[\"Rel_Human\"] == 1)])\n",
    "f = len(df.loc[(df[\"Rel_GPT_bin_mapped\"] == 0) & (df[\"Rel_Human\"] == 0)])\n",
    "gpt_irrel = [d, e, f]\n",
    "\n",
    "pd.DataFrame([gpt_rel, gpt_irrel], columns=[2, 1, 0], index=[1, 0]).style.highlight_max(axis=0, props='font-weight:bold')"
   ]
  },
  {
   "cell_type": "markdown",
   "metadata": {},
   "source": [
    "## Baseline Rating bin only Human mapped"
   ]
  },
  {
   "cell_type": "code",
   "execution_count": 17,
   "metadata": {},
   "outputs": [
    {
     "data": {
      "text/html": [
       "<style type=\"text/css\">\n",
       "#T_9bc43_row0_col0, #T_9bc43_row1_col1 {\n",
       "  font-weight: bold;\n",
       "}\n",
       "</style>\n",
       "<table id=\"T_9bc43\">\n",
       "  <thead>\n",
       "    <tr>\n",
       "      <th class=\"blank\" >&nbsp;</th>\n",
       "      <th class=\"blank level0\" >&nbsp;</th>\n",
       "      <th id=\"T_9bc43_level0_col0\" class=\"col_heading level0 col0\" colspan=\"2\">WTR Assesors</th>\n",
       "    </tr>\n",
       "    <tr>\n",
       "      <th class=\"blank\" >&nbsp;</th>\n",
       "      <th class=\"blank level1\" >&nbsp;</th>\n",
       "      <th id=\"T_9bc43_level1_col0\" class=\"col_heading level1 col0\" >0</th>\n",
       "      <th id=\"T_9bc43_level1_col1\" class=\"col_heading level1 col1\" >1</th>\n",
       "    </tr>\n",
       "  </thead>\n",
       "  <tbody>\n",
       "    <tr>\n",
       "      <th id=\"T_9bc43_level0_row0\" class=\"row_heading level0 row0\" rowspan=\"2\">GPT-3.5</th>\n",
       "      <th id=\"T_9bc43_level1_row0\" class=\"row_heading level1 row0\" >0</th>\n",
       "      <td id=\"T_9bc43_row0_col0\" class=\"data row0 col0\" >19</td>\n",
       "      <td id=\"T_9bc43_row0_col1\" class=\"data row0 col1\" >10</td>\n",
       "    </tr>\n",
       "    <tr>\n",
       "      <th id=\"T_9bc43_level1_row1\" class=\"row_heading level1 row1\" >1</th>\n",
       "      <td id=\"T_9bc43_row1_col0\" class=\"data row1 col0\" >11</td>\n",
       "      <td id=\"T_9bc43_row1_col1\" class=\"data row1 col1\" >50</td>\n",
       "    </tr>\n",
       "  </tbody>\n",
       "</table>\n"
      ],
      "text/plain": [
       "<pandas.io.formats.style.Styler at 0x7f1200b57110>"
      ]
     },
     "metadata": {},
     "output_type": "display_data"
    },
    {
     "name": "stdout",
     "output_type": "stream",
     "text": [
      "Cohen's K 0.47058823529411764\n"
     ]
    }
   ],
   "source": [
    "df.loc[df[\"Rel_Human\"] == 0, \"Rel_Human_bin\"] = 0\n",
    "df.loc[df[\"Rel_Human\"] > 0, \"Rel_Human_bin\"] = 1\n",
    "df[\"Rel_Human_bin\"] = df[\"Rel_Human_bin\"].astype(int)\n",
    "\n",
    "# df.loc[df[\"Rel_GPT_bin\"] == 0, \"Rel_GPT_bin\"] = \"irrelevant\"\n",
    "# df.loc[df[\"Rel_GPT_bin\"] > 0, \"Rel_GPT_bin\"] = \"relevant\"\n",
    "\n",
    "idx_rows = pd.MultiIndex.from_tuples(list(zip(repeat(\"WTR Assesors\"), sorted(df[\"Rel_Human_bin\"].unique()))))\n",
    "idx_cols = pd.MultiIndex.from_tuples(list(zip(repeat(\"GPT-3.5\"), sorted(df[\"Rel_GPT_bin\"].unique()))))\n",
    "\n",
    "display(pd.DataFrame(\n",
    "    confusion_matrix(y_true=df[\"Rel_Human_bin\"], y_pred=df[\"Rel_GPT_bin\"]),\n",
    "    index=idx_rows,\n",
    "    columns=idx_cols\n",
    ").T.style.highlight_max(axis=1, props='font-weight:bold'))\n",
    "\n",
    "print(\"Cohen's K\", cohen_kappa_score(df[\"Rel_GPT_bin\"], df[\"Rel_Human_bin\"]))\n",
    "\n"
   ]
  },
  {
   "cell_type": "markdown",
   "metadata": {},
   "source": [
    "## Baseline Rating bin topic in sys only human mapped"
   ]
  },
  {
   "cell_type": "code",
   "execution_count": 18,
   "metadata": {},
   "outputs": [
    {
     "data": {
      "text/html": [
       "<style type=\"text/css\">\n",
       "#T_b8d24_row0_col0, #T_b8d24_row0_col1, #T_b8d24_row1_col1 {\n",
       "  font-weight: bold;\n",
       "}\n",
       "</style>\n",
       "<table id=\"T_b8d24\">\n",
       "  <thead>\n",
       "    <tr>\n",
       "      <th class=\"blank\" >&nbsp;</th>\n",
       "      <th class=\"blank level0\" >&nbsp;</th>\n",
       "      <th id=\"T_b8d24_level0_col0\" class=\"col_heading level0 col0\" colspan=\"2\">WTR Assesors</th>\n",
       "    </tr>\n",
       "    <tr>\n",
       "      <th class=\"blank\" >&nbsp;</th>\n",
       "      <th class=\"blank level1\" >&nbsp;</th>\n",
       "      <th id=\"T_b8d24_level1_col0\" class=\"col_heading level1 col0\" >0</th>\n",
       "      <th id=\"T_b8d24_level1_col1\" class=\"col_heading level1 col1\" >1</th>\n",
       "    </tr>\n",
       "  </thead>\n",
       "  <tbody>\n",
       "    <tr>\n",
       "      <th id=\"T_b8d24_level0_row0\" class=\"row_heading level0 row0\" rowspan=\"2\">GPT-3.5</th>\n",
       "      <th id=\"T_b8d24_level1_row0\" class=\"row_heading level1 row0\" >0</th>\n",
       "      <td id=\"T_b8d24_row0_col0\" class=\"data row0 col0\" >24</td>\n",
       "      <td id=\"T_b8d24_row0_col1\" class=\"data row0 col1\" >24</td>\n",
       "    </tr>\n",
       "    <tr>\n",
       "      <th id=\"T_b8d24_level1_row1\" class=\"row_heading level1 row1\" >1</th>\n",
       "      <td id=\"T_b8d24_row1_col0\" class=\"data row1 col0\" >6</td>\n",
       "      <td id=\"T_b8d24_row1_col1\" class=\"data row1 col1\" >36</td>\n",
       "    </tr>\n",
       "  </tbody>\n",
       "</table>\n"
      ],
      "text/plain": [
       "<pandas.io.formats.style.Styler at 0x7f129f8c1b80>"
      ]
     },
     "metadata": {},
     "output_type": "display_data"
    },
    {
     "name": "stdout",
     "output_type": "stream",
     "text": [
      "Cohen's K 0.34782608695652173\n"
     ]
    }
   ],
   "source": [
    "idx_rows = pd.MultiIndex.from_tuples(list(zip(repeat(\"WTR Assesors\"), sorted(df[\"Rel_Human_bin\"].unique()))))\n",
    "idx_cols = pd.MultiIndex.from_tuples(list(zip(repeat(\"GPT-3.5\"), sorted(df[\"Rel_GPT_bin_sys\"].unique()))))\n",
    "\n",
    "display(pd.DataFrame(\n",
    "    confusion_matrix(y_true=df[\"Rel_Human_bin\"], y_pred=df[\"Rel_GPT_bin_sys\"]),\n",
    "    index=idx_rows,\n",
    "    columns=idx_cols\n",
    ").T.style.highlight_max(axis=1, props='font-weight:bold'))\n",
    "\n",
    "print(\"Cohen's K\", cohen_kappa_score(df[\"Rel_GPT_bin_sys\"], df[\"Rel_Human_bin\"]))\n",
    "\n"
   ]
  },
  {
   "cell_type": "markdown",
   "metadata": {},
   "source": [
    "## Baseline Rating topic in sys"
   ]
  },
  {
   "cell_type": "code",
   "execution_count": 19,
   "metadata": {},
   "outputs": [
    {
     "data": {
      "text/html": [
       "<style type=\"text/css\">\n",
       "#T_0ae9e_row0_col0, #T_0ae9e_row1_col0, #T_0ae9e_row1_col2, #T_0ae9e_row2_col2 {\n",
       "  font-weight: bold;\n",
       "}\n",
       "</style>\n",
       "<table id=\"T_0ae9e\">\n",
       "  <thead>\n",
       "    <tr>\n",
       "      <th class=\"blank\" >&nbsp;</th>\n",
       "      <th class=\"blank level0\" >&nbsp;</th>\n",
       "      <th id=\"T_0ae9e_level0_col0\" class=\"col_heading level0 col0\" colspan=\"3\">WTR Assesors</th>\n",
       "    </tr>\n",
       "    <tr>\n",
       "      <th class=\"blank\" >&nbsp;</th>\n",
       "      <th class=\"blank level1\" >&nbsp;</th>\n",
       "      <th id=\"T_0ae9e_level1_col0\" class=\"col_heading level1 col0\" >0</th>\n",
       "      <th id=\"T_0ae9e_level1_col1\" class=\"col_heading level1 col1\" >1</th>\n",
       "      <th id=\"T_0ae9e_level1_col2\" class=\"col_heading level1 col2\" >2</th>\n",
       "    </tr>\n",
       "  </thead>\n",
       "  <tbody>\n",
       "    <tr>\n",
       "      <th id=\"T_0ae9e_level0_row0\" class=\"row_heading level0 row0\" rowspan=\"3\">GPT-3.5</th>\n",
       "      <th id=\"T_0ae9e_level1_row0\" class=\"row_heading level1 row0\" >0</th>\n",
       "      <td id=\"T_0ae9e_row0_col0\" class=\"data row0 col0\" >18</td>\n",
       "      <td id=\"T_0ae9e_row0_col1\" class=\"data row0 col1\" >11</td>\n",
       "      <td id=\"T_0ae9e_row0_col2\" class=\"data row0 col2\" >2</td>\n",
       "    </tr>\n",
       "    <tr>\n",
       "      <th id=\"T_0ae9e_level1_row1\" class=\"row_heading level1 row1\" >1</th>\n",
       "      <td id=\"T_0ae9e_row1_col0\" class=\"data row1 col0\" >10</td>\n",
       "      <td id=\"T_0ae9e_row1_col1\" class=\"data row1 col1\" >9</td>\n",
       "      <td id=\"T_0ae9e_row1_col2\" class=\"data row1 col2\" >10</td>\n",
       "    </tr>\n",
       "    <tr>\n",
       "      <th id=\"T_0ae9e_level1_row2\" class=\"row_heading level1 row2\" >2</th>\n",
       "      <td id=\"T_0ae9e_row2_col0\" class=\"data row2 col0\" >2</td>\n",
       "      <td id=\"T_0ae9e_row2_col1\" class=\"data row2 col1\" >10</td>\n",
       "      <td id=\"T_0ae9e_row2_col2\" class=\"data row2 col2\" >18</td>\n",
       "    </tr>\n",
       "  </tbody>\n",
       "</table>\n"
      ],
      "text/plain": [
       "<pandas.io.formats.style.Styler at 0x7f12ca2b5160>"
      ]
     },
     "metadata": {},
     "output_type": "display_data"
    },
    {
     "name": "stdout",
     "output_type": "stream",
     "text": [
      "Cohen's K 0.25\n"
     ]
    }
   ],
   "source": [
    "idx_rows = pd.MultiIndex.from_tuples(list(zip(repeat(\"WTR Assesors\"), sorted(df[\"Rel_Human\"].unique()))))\n",
    "idx_cols = pd.MultiIndex.from_tuples(list(zip(repeat(\"GPT-3.5\"), sorted(df[\"Rel_GPT_sys\"].unique()))))\n",
    "\n",
    "display(pd.DataFrame(\n",
    "    confusion_matrix(y_true=df[\"Rel_Human\"], y_pred=df[\"Rel_GPT_sys\"]),\n",
    "    index=idx_rows,\n",
    "    columns=idx_cols\n",
    ").T.style.highlight_max(axis=1, props='font-weight:bold'))\n",
    "\n",
    "print(\"Cohen's K\", cohen_kappa_score(df[\"Rel_GPT_sys\"], df[\"Rel_Human\"]))\n",
    "\n"
   ]
  },
  {
   "cell_type": "markdown",
   "metadata": {},
   "source": [
    "## Baseline Rating topic in sys mapped to binary"
   ]
  },
  {
   "cell_type": "code",
   "execution_count": 20,
   "metadata": {},
   "outputs": [
    {
     "data": {
      "text/html": [
       "<style type=\"text/css\">\n",
       "#T_5d99d_row0_col0, #T_5d99d_row1_col1 {\n",
       "  font-weight: bold;\n",
       "}\n",
       "</style>\n",
       "<table id=\"T_5d99d\">\n",
       "  <thead>\n",
       "    <tr>\n",
       "      <th class=\"blank\" >&nbsp;</th>\n",
       "      <th class=\"blank level0\" >&nbsp;</th>\n",
       "      <th id=\"T_5d99d_level0_col0\" class=\"col_heading level0 col0\" colspan=\"2\">WTR Assesors</th>\n",
       "    </tr>\n",
       "    <tr>\n",
       "      <th class=\"blank\" >&nbsp;</th>\n",
       "      <th class=\"blank level1\" >&nbsp;</th>\n",
       "      <th id=\"T_5d99d_level1_col0\" class=\"col_heading level1 col0\" >0</th>\n",
       "      <th id=\"T_5d99d_level1_col1\" class=\"col_heading level1 col1\" >1</th>\n",
       "    </tr>\n",
       "  </thead>\n",
       "  <tbody>\n",
       "    <tr>\n",
       "      <th id=\"T_5d99d_level0_row0\" class=\"row_heading level0 row0\" rowspan=\"2\">GPT-3.5</th>\n",
       "      <th id=\"T_5d99d_level1_row0\" class=\"row_heading level1 row0\" >0</th>\n",
       "      <td id=\"T_5d99d_row0_col0\" class=\"data row0 col0\" >18</td>\n",
       "      <td id=\"T_5d99d_row0_col1\" class=\"data row0 col1\" >13</td>\n",
       "    </tr>\n",
       "    <tr>\n",
       "      <th id=\"T_5d99d_level1_row1\" class=\"row_heading level1 row1\" >1</th>\n",
       "      <td id=\"T_5d99d_row1_col0\" class=\"data row1 col0\" >12</td>\n",
       "      <td id=\"T_5d99d_row1_col1\" class=\"data row1 col1\" >47</td>\n",
       "    </tr>\n",
       "  </tbody>\n",
       "</table>\n"
      ],
      "text/plain": [
       "<pandas.io.formats.style.Styler at 0x7f1250a31e20>"
      ]
     },
     "metadata": {},
     "output_type": "display_data"
    },
    {
     "name": "stdout",
     "output_type": "stream",
     "text": [
      "Cohen's K 0.3801652892561984\n"
     ]
    }
   ],
   "source": [
    "df.loc[df[\"Rel_GPT_sys\"] == 0, \"Rel_GPT_sys_bin\"] = 0\n",
    "df.loc[df[\"Rel_GPT_sys\"] > 0, \"Rel_GPT_sys_bin\"] = 1\n",
    "df[\"Rel_GPT_sys_bin\"] = df[\"Rel_GPT_sys_bin\"].astype(int)\n",
    "\n",
    "idx_rows = pd.MultiIndex.from_tuples(list(zip(repeat(\"WTR Assesors\"), sorted(df[\"Rel_Human_bin\"].unique()))))\n",
    "idx_cols = pd.MultiIndex.from_tuples(list(zip(repeat(\"GPT-3.5\"), sorted(df[\"Rel_GPT_sys_bin\"].unique()))))\n",
    "\n",
    "display(pd.DataFrame(\n",
    "    confusion_matrix(y_true=df[\"Rel_Human_bin\"], y_pred=df[\"Rel_GPT_sys_bin\"]),\n",
    "    index=idx_rows,\n",
    "    columns=idx_cols\n",
    ").T.style.highlight_max(axis=1, props='font-weight:bold'))\n",
    "\n",
    "print(\"Cohen's K\", cohen_kappa_score(df[\"Rel_GPT_sys_bin\"], df[\"Rel_Human_bin\"]))\n",
    "\n"
   ]
  },
  {
   "cell_type": "markdown",
   "metadata": {},
   "source": [
    "## Baseline Rating no system instructions in binary"
   ]
  },
  {
   "cell_type": "code",
   "execution_count": 23,
   "metadata": {},
   "outputs": [
    {
     "data": {
      "text/html": [
       "<style type=\"text/css\">\n",
       "#T_eba4a_row0_col0, #T_eba4a_row1_col1 {\n",
       "  font-weight: bold;\n",
       "}\n",
       "</style>\n",
       "<table id=\"T_eba4a\">\n",
       "  <thead>\n",
       "    <tr>\n",
       "      <th class=\"blank\" >&nbsp;</th>\n",
       "      <th class=\"blank level0\" >&nbsp;</th>\n",
       "      <th id=\"T_eba4a_level0_col0\" class=\"col_heading level0 col0\" colspan=\"2\">WTR Assesors</th>\n",
       "    </tr>\n",
       "    <tr>\n",
       "      <th class=\"blank\" >&nbsp;</th>\n",
       "      <th class=\"blank level1\" >&nbsp;</th>\n",
       "      <th id=\"T_eba4a_level1_col0\" class=\"col_heading level1 col0\" >0</th>\n",
       "      <th id=\"T_eba4a_level1_col1\" class=\"col_heading level1 col1\" >1</th>\n",
       "    </tr>\n",
       "  </thead>\n",
       "  <tbody>\n",
       "    <tr>\n",
       "      <th id=\"T_eba4a_level0_row0\" class=\"row_heading level0 row0\" rowspan=\"2\">GPT-3.5</th>\n",
       "      <th id=\"T_eba4a_level1_row0\" class=\"row_heading level1 row0\" >0</th>\n",
       "      <td id=\"T_eba4a_row0_col0\" class=\"data row0 col0\" >17</td>\n",
       "      <td id=\"T_eba4a_row0_col1\" class=\"data row0 col1\" >8</td>\n",
       "    </tr>\n",
       "    <tr>\n",
       "      <th id=\"T_eba4a_level1_row1\" class=\"row_heading level1 row1\" >1</th>\n",
       "      <td id=\"T_eba4a_row1_col0\" class=\"data row1 col0\" >13</td>\n",
       "      <td id=\"T_eba4a_row1_col1\" class=\"data row1 col1\" >52</td>\n",
       "    </tr>\n",
       "  </tbody>\n",
       "</table>\n"
      ],
      "text/plain": [
       "<pandas.io.formats.style.Styler at 0x7f129a9a0b60>"
      ]
     },
     "metadata": {},
     "output_type": "display_data"
    },
    {
     "name": "stdout",
     "output_type": "stream",
     "text": [
      "Cohen's K 0.4521739130434783\n"
     ]
    }
   ],
   "source": [
    "idx_rows = pd.MultiIndex.from_tuples(list(zip(repeat(\"WTR Assesors\"), sorted(df[\"Rel_Human_bin\"].unique()))))\n",
    "idx_cols = pd.MultiIndex.from_tuples(list(zip(repeat(\"GPT-3.5\"), sorted(df[\"Rel_GPT_bin_no_sys\"].unique()))))\n",
    "\n",
    "display(pd.DataFrame(\n",
    "    confusion_matrix(y_true=df[\"Rel_Human_bin\"], y_pred=df[\"Rel_GPT_bin_no_sys\"]),\n",
    "    index=idx_rows,\n",
    "    columns=idx_cols\n",
    ").T.style.highlight_max(axis=1, props='font-weight:bold'))\n",
    "\n",
    "print(\"Cohen's K\", cohen_kappa_score(df[\"Rel_GPT_bin_no_sys\"], df[\"Rel_Human_bin\"]))\n"
   ]
  },
  {
   "cell_type": "code",
   "execution_count": null,
   "metadata": {},
   "outputs": [],
   "source": []
  }
 ],
 "metadata": {
  "kernelspec": {
   "display_name": "Python 3",
   "language": "python",
   "name": "python3"
  },
  "language_info": {
   "codemirror_mode": {
    "name": "ipython",
    "version": 3
   },
   "file_extension": ".py",
   "mimetype": "text/x-python",
   "name": "python",
   "nbconvert_exporter": "python",
   "pygments_lexer": "ipython3",
   "version": "3.12.0"
  }
 },
 "nbformat": 4,
 "nbformat_minor": 2
}
