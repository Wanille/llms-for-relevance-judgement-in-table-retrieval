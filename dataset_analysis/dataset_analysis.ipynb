{
 "cells": [
  {
   "cell_type": "code",
   "execution_count": 1,
   "metadata": {},
   "outputs": [],
   "source": [
    "from LLmsfJiT import config, connect, read_trec_queries, read_trec_qrels, remove_empty_cols, remove_empty_rows, read_jsonl\n",
    "import json\n",
    "import tiktoken\n",
    "from dataclasses import dataclass\n",
    "import gzip\n",
    "import pandas as pd"
   ]
  },
  {
   "cell_type": "code",
   "execution_count": 2,
   "metadata": {},
   "outputs": [],
   "source": [
    "def extract_values(table_json: dict):\n",
    "\n",
    "    remove_empty_rows(table_json[\"relation\"])\n",
    "    remove_empty_cols(table_json[\"relation\"])\n",
    "\n",
    "    table = (\n",
    "        table_json[\"json_loc\"],\n",
    "        table_json[\"title\"],\n",
    "        json.dumps(table_json[\"relation\"]),\n",
    "        table_json[\"tableType\"]\n",
    "        )\n",
    "    return table\n"
   ]
  },
  {
   "cell_type": "code",
   "execution_count": 3,
   "metadata": {},
   "outputs": [],
   "source": [
    "qrels = read_trec_qrels(\"../rel_files/rel_table_qrels.txt\")\n"
   ]
  },
  {
   "cell_type": "code",
   "execution_count": 4,
   "metadata": {},
   "outputs": [],
   "source": [
    "rated_tables = list(zip(*qrels))[2]\n",
    "rated_tables_unique = set(rated_tables)"
   ]
  },
  {
   "cell_type": "code",
   "execution_count": 5,
   "metadata": {},
   "outputs": [],
   "source": [
    "from dataclasses import asdict\n",
    "@dataclass\n",
    "class table_meta:\n",
    "    json_loc: str\n",
    "    length: int\n",
    "    rated: bool\n",
    "    \n",
    "    def to_json(self):\n",
    "        return json.dumps(asdict(self))"
   ]
  },
  {
   "cell_type": "code",
   "execution_count": 6,
   "metadata": {},
   "outputs": [],
   "source": [
    "# # Insert into tables table, table_meta, text_before, text_after, table_entities\n",
    "# json_it = read_jsonl(\"../web_tables.json\")\n",
    "# \n",
    "# enc = tiktoken.encoding_for_model(\"gpt-3.5-turbo-1106\")\n",
    "# \n",
    "# file = gzip.open(\"metadata.jsonl.gz\", \"wt\")\n",
    "# \n",
    "# for idx, table_json in enumerate(json_it, start=1):\n",
    "# \n",
    "#     table = extract_values(table_json)\n",
    "#     meta = table_meta(\n",
    "#         table[0],\n",
    "#         len(enc.encode(table[2])),\n",
    "#         table[0] in rated_tables_unique\n",
    "#     )\n",
    "#     file.write(meta.to_json() + \"\\n\")"
   ]
  },
  {
   "cell_type": "code",
   "execution_count": 7,
   "metadata": {},
   "outputs": [],
   "source": [
    "metadata = []\n",
    "try:\n",
    "    with gzip.open(\"metadata.jsonl.gz\") as fp:\n",
    "        line = fp.readline()\n",
    "        while line != \"\":\n",
    "            metadata.append(table_meta(**json.loads(line)))\n",
    "            line = fp.readline()\n",
    "except:\n",
    "    pass"
   ]
  },
  {
   "cell_type": "code",
   "execution_count": 8,
   "metadata": {},
   "outputs": [],
   "source": [
    "import matplotlib.pyplot as plt\n",
    "import seaborn as sns"
   ]
  },
  {
   "cell_type": "code",
   "execution_count": 9,
   "metadata": {},
   "outputs": [],
   "source": [
    "lengths = [m.length for m in metadata]"
   ]
  },
  {
   "cell_type": "code",
   "execution_count": 12,
   "metadata": {},
   "outputs": [
    {
     "data": {
      "text/plain": [
       "<Axes: ylabel='Count'>"
      ]
     },
     "execution_count": 12,
     "metadata": {},
     "output_type": "execute_result"
    },
    {
     "data": {
      "image/png": "[encoded data removed]",
      "text/plain": [
       "<Figure size 640x480 with 1 Axes>"
      ]
     },
     "metadata": {},
     "output_type": "display_data"
    }
   ],
   "source": [
    "sns.histplot(lengths, bins=10, log_scale=True)"
   ]
  },
  {
   "cell_type": "code",
   "execution_count": 36,
   "metadata": {},
   "outputs": [],
   "source": [
    "enc = tiktoken.encoding_for_model(\"gpt-3.5-turbo-1106\")\n",
    "qs = read_trec_queries(\"../rel_files/queries.txt\")\n",
    "query_length = max([len(enc.encode(q)) for q in qs.values()]) + len(enc.encode(\"Topic: ''\\nTable: ```\\n\\n```\\nRelevant?\"))"
   ]
  },
  {
   "cell_type": "code",
   "execution_count": 40,
   "metadata": {},
   "outputs": [
    {
     "data": {
      "text/plain": [
       "20"
      ]
     },
     "execution_count": 40,
     "metadata": {},
     "output_type": "execute_result"
    }
   ],
   "source": [
    "query_length"
   ]
  },
  {
   "cell_type": "code",
   "execution_count": 41,
   "metadata": {},
   "outputs": [],
   "source": [
    "big_t = [m for m in metadata if m.length > 16385 - 50]"
   ]
  },
  {
   "cell_type": "code",
   "execution_count": 42,
   "metadata": {},
   "outputs": [],
   "source": [
    "rel_big_t = [t for t in big_t if t.rated == True]"
   ]
  },
  {
   "cell_type": "code",
   "execution_count": 43,
   "metadata": {},
   "outputs": [
    {
     "data": {
      "text/plain": [
       "26"
      ]
     },
     "execution_count": 43,
     "metadata": {},
     "output_type": "execute_result"
    }
   ],
   "source": [
    "len(rel_big_t)"
   ]
  },
  {
   "cell_type": "code",
   "execution_count": 44,
   "metadata": {},
   "outputs": [
    {
     "data": {
      "text/plain": [
       "0.3741545546121744"
      ]
     },
     "execution_count": 44,
     "metadata": {},
     "output_type": "execute_result"
    }
   ],
   "source": [
    "len(rel_big_t) / len(rated_tables) * 100"
   ]
  },
  {
   "cell_type": "code",
   "execution_count": 47,
   "metadata": {},
   "outputs": [
    {
     "data": {
      "text/plain": [
       "3.741545546121744"
      ]
     },
     "execution_count": 47,
     "metadata": {},
     "output_type": "execute_result"
    }
   ],
   "source": [
    "1000 / len(rated_tables) * 26"
   ]
  },
  {
   "cell_type": "code",
   "execution_count": 46,
   "metadata": {},
   "outputs": [
    {
     "data": {
      "text/plain": [
       "6949"
      ]
     },
     "execution_count": 46,
     "metadata": {},
     "output_type": "execute_result"
    }
   ],
   "source": [
    "len(rated_tables)"
   ]
  }
 ],
 "metadata": {
  "kernelspec": {
   "display_name": "Python 3",
   "language": "python",
   "name": "python3"
  },
  "language_info": {
   "codemirror_mode": {
    "name": "ipython",
    "version": 3
   },
   "file_extension": ".py",
   "mimetype": "text/x-python",
   "name": "python",
   "nbconvert_exporter": "python",
   "pygments_lexer": "ipython3",
   "version": "3.12.0"
  }
 },
 "nbformat": 4,
 "nbformat_minor": 2
}
