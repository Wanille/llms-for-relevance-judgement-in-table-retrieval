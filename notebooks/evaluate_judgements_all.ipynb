{
 "cells": [
  {
   "cell_type": "code",
   "execution_count": 2,
   "metadata": {},
   "outputs": [],
   "source": [
    "from LLmsfJiT import read_trec_qrels\n",
    "import pandas as pd\n",
    "from sklearn.metrics import confusion_matrix, cohen_kappa_score\n",
    "from itertools import repeat"
   ]
  },
  {
   "cell_type": "code",
   "execution_count": 3,
   "metadata": {},
   "outputs": [],
   "source": [
    "human_qrels = read_trec_qrels(\"../rel_files/rel_table_qrels.txt\")\n",
    "df = pd.DataFrame(human_qrels, columns=[\"Topic\", \"It\", \"Doc\", \"Rel_Human\"])\n",
    "\n",
    "gpt = read_trec_qrels(\"../gpt_judgements/rel_table_qrels.txt\")\n",
    "gpt_df = pd.DataFrame(gpt, columns=[\"Topic\", \"It\", \"Doc\", \"Rel_GPT\"])\n",
    "\n",
    "df[\"Rel_GPT\"] = gpt_df[\"Rel_GPT\"]\n",
    "\n",
    "df[\"Rel_GPT\"] = df[\"Rel_GPT\"].astype(float)\n",
    "df[\"Rel_Human\"] = df[\"Rel_Human\"].astype(float)\n",
    "\n",
    "df[\"Rel_GPT\"] = df[\"Rel_GPT\"].astype(int)\n",
    "df[\"Rel_Human\"] = df[\"Rel_Human\"].astype(int)\n",
    "\n",
    "df.loc[df[\"Rel_Human\"] == 0, \"Rel_Human_bin\"] = 0.\n",
    "df.loc[df[\"Rel_Human\"] > 0, \"Rel_Human_bin\"] = 1.\n",
    "df[\"Rel_Human_bin\"] = df[\"Rel_Human_bin\"].astype(int)"
   ]
  },
  {
   "cell_type": "code",
   "execution_count": 4,
   "metadata": {},
   "outputs": [
    {
     "data": {
      "text/html": [
       "<div>\n",
       "<style scoped>\n",
       "    .dataframe tbody tr th:only-of-type {\n",
       "        vertical-align: middle;\n",
       "    }\n",
       "\n",
       "    .dataframe tbody tr th {\n",
       "        vertical-align: top;\n",
       "    }\n",
       "\n",
       "    .dataframe thead th {\n",
       "        text-align: right;\n",
       "    }\n",
       "</style>\n",
       "<table border=\"1\" class=\"dataframe\">\n",
       "  <thead>\n",
       "    <tr style=\"text-align: right;\">\n",
       "      <th></th>\n",
       "      <th>Topic</th>\n",
       "      <th>It</th>\n",
       "      <th>Doc</th>\n",
       "      <th>Rel_Human</th>\n",
       "      <th>Rel_GPT</th>\n",
       "      <th>Rel_Human_bin</th>\n",
       "    </tr>\n",
       "  </thead>\n",
       "  <tbody>\n",
       "    <tr>\n",
       "      <th>0</th>\n",
       "      <td>1</td>\n",
       "      <td>0</td>\n",
       "      <td>5/1438042988718.8_20150728002308-00068-ip-10-2...</td>\n",
       "      <td>2</td>\n",
       "      <td>0</td>\n",
       "      <td>1</td>\n",
       "    </tr>\n",
       "    <tr>\n",
       "      <th>1</th>\n",
       "      <td>1</td>\n",
       "      <td>0</td>\n",
       "      <td>28/1438042990112.92_20150728002310-00241-ip-10...</td>\n",
       "      <td>2</td>\n",
       "      <td>1</td>\n",
       "      <td>1</td>\n",
       "    </tr>\n",
       "    <tr>\n",
       "      <th>2</th>\n",
       "      <td>1</td>\n",
       "      <td>0</td>\n",
       "      <td>41/1438042986451.45_20150728002306-00283-ip-10...</td>\n",
       "      <td>2</td>\n",
       "      <td>1</td>\n",
       "      <td>1</td>\n",
       "    </tr>\n",
       "    <tr>\n",
       "      <th>3</th>\n",
       "      <td>1</td>\n",
       "      <td>0</td>\n",
       "      <td>2/1438042981856.5_20150728002301-00265-ip-10-2...</td>\n",
       "      <td>2</td>\n",
       "      <td>1</td>\n",
       "      <td>1</td>\n",
       "    </tr>\n",
       "    <tr>\n",
       "      <th>4</th>\n",
       "      <td>1</td>\n",
       "      <td>0</td>\n",
       "      <td>21/1438042987174.71_20150728002307-00309-ip-10...</td>\n",
       "      <td>2</td>\n",
       "      <td>0</td>\n",
       "      <td>1</td>\n",
       "    </tr>\n",
       "    <tr>\n",
       "      <th>...</th>\n",
       "      <td>...</td>\n",
       "      <td>...</td>\n",
       "      <td>...</td>\n",
       "      <td>...</td>\n",
       "      <td>...</td>\n",
       "      <td>...</td>\n",
       "    </tr>\n",
       "    <tr>\n",
       "      <th>6944</th>\n",
       "      <td>60</td>\n",
       "      <td>0</td>\n",
       "      <td>25/1438042987155.85_20150728002307-00277-ip-10...</td>\n",
       "      <td>0</td>\n",
       "      <td>1</td>\n",
       "      <td>0</td>\n",
       "    </tr>\n",
       "    <tr>\n",
       "      <th>6945</th>\n",
       "      <td>60</td>\n",
       "      <td>0</td>\n",
       "      <td>25/1438042987155.85_20150728002307-00015-ip-10...</td>\n",
       "      <td>0</td>\n",
       "      <td>0</td>\n",
       "      <td>0</td>\n",
       "    </tr>\n",
       "    <tr>\n",
       "      <th>6946</th>\n",
       "      <td>60</td>\n",
       "      <td>0</td>\n",
       "      <td>23/1438042990609.0_20150728002310-00259-ip-10-...</td>\n",
       "      <td>0</td>\n",
       "      <td>1</td>\n",
       "      <td>0</td>\n",
       "    </tr>\n",
       "    <tr>\n",
       "      <th>6947</th>\n",
       "      <td>60</td>\n",
       "      <td>0</td>\n",
       "      <td>23/1438042989043.35_20150728002309-00291-ip-10...</td>\n",
       "      <td>0</td>\n",
       "      <td>1</td>\n",
       "      <td>0</td>\n",
       "    </tr>\n",
       "    <tr>\n",
       "      <th>6948</th>\n",
       "      <td>60</td>\n",
       "      <td>0</td>\n",
       "      <td>30/1438042986357.49_20150728002306-00077-ip-10...</td>\n",
       "      <td>0</td>\n",
       "      <td>1</td>\n",
       "      <td>0</td>\n",
       "    </tr>\n",
       "  </tbody>\n",
       "</table>\n",
       "<p>6949 rows × 6 columns</p>\n",
       "</div>"
      ],
      "text/plain": [
       "     Topic It                                                Doc  Rel_Human  \\\n",
       "0        1  0  5/1438042988718.8_20150728002308-00068-ip-10-2...          2   \n",
       "1        1  0  28/1438042990112.92_20150728002310-00241-ip-10...          2   \n",
       "2        1  0  41/1438042986451.45_20150728002306-00283-ip-10...          2   \n",
       "3        1  0  2/1438042981856.5_20150728002301-00265-ip-10-2...          2   \n",
       "4        1  0  21/1438042987174.71_20150728002307-00309-ip-10...          2   \n",
       "...    ... ..                                                ...        ...   \n",
       "6944    60  0  25/1438042987155.85_20150728002307-00277-ip-10...          0   \n",
       "6945    60  0  25/1438042987155.85_20150728002307-00015-ip-10...          0   \n",
       "6946    60  0  23/1438042990609.0_20150728002310-00259-ip-10-...          0   \n",
       "6947    60  0  23/1438042989043.35_20150728002309-00291-ip-10...          0   \n",
       "6948    60  0  30/1438042986357.49_20150728002306-00077-ip-10...          0   \n",
       "\n",
       "      Rel_GPT  Rel_Human_bin  \n",
       "0           0              1  \n",
       "1           1              1  \n",
       "2           1              1  \n",
       "3           1              1  \n",
       "4           0              1  \n",
       "...       ...            ...  \n",
       "6944        1              0  \n",
       "6945        0              0  \n",
       "6946        1              0  \n",
       "6947        1              0  \n",
       "6948        1              0  \n",
       "\n",
       "[6949 rows x 6 columns]"
      ]
     },
     "execution_count": 4,
     "metadata": {},
     "output_type": "execute_result"
    }
   ],
   "source": [
    "df"
   ]
  },
  {
   "cell_type": "code",
   "execution_count": 51,
   "metadata": {},
   "outputs": [
    {
     "data": {
      "text/html": [
       "<style type=\"text/css\">\n",
       "#T_7456b_row0_col0, #T_7456b_row1_col0 {\n",
       "  font-weight: bold;\n",
       "}\n",
       "</style>\n",
       "<table id=\"T_7456b\">\n",
       "  <thead>\n",
       "    <tr>\n",
       "      <th class=\"blank\" >&nbsp;</th>\n",
       "      <th class=\"blank level0\" >&nbsp;</th>\n",
       "      <th id=\"T_7456b_level0_col0\" class=\"col_heading level0 col0\" colspan=\"3\">WTR Assesors</th>\n",
       "    </tr>\n",
       "    <tr>\n",
       "      <th class=\"blank\" >&nbsp;</th>\n",
       "      <th class=\"blank level1\" >&nbsp;</th>\n",
       "      <th id=\"T_7456b_level1_col0\" class=\"col_heading level1 col0\" >0</th>\n",
       "      <th id=\"T_7456b_level1_col1\" class=\"col_heading level1 col1\" >1</th>\n",
       "      <th id=\"T_7456b_level1_col2\" class=\"col_heading level1 col2\" >2</th>\n",
       "    </tr>\n",
       "  </thead>\n",
       "  <tbody>\n",
       "    <tr>\n",
       "      <th id=\"T_7456b_level0_row0\" class=\"row_heading level0 row0\" rowspan=\"2\">GPT-3.5</th>\n",
       "      <th id=\"T_7456b_level1_row0\" class=\"row_heading level1 row0\" >0</th>\n",
       "      <td id=\"T_7456b_row0_col0\" class=\"data row0 col0\" >3068</td>\n",
       "      <td id=\"T_7456b_row0_col1\" class=\"data row0 col1\" >415</td>\n",
       "      <td id=\"T_7456b_row0_col2\" class=\"data row0 col2\" >171</td>\n",
       "    </tr>\n",
       "    <tr>\n",
       "      <th id=\"T_7456b_level1_row1\" class=\"row_heading level1 row1\" >1</th>\n",
       "      <td id=\"T_7456b_row1_col0\" class=\"data row1 col0\" >1635</td>\n",
       "      <td id=\"T_7456b_row1_col1\" class=\"data row1 col1\" >856</td>\n",
       "      <td id=\"T_7456b_row1_col2\" class=\"data row1 col2\" >804</td>\n",
       "    </tr>\n",
       "  </tbody>\n",
       "</table>\n"
      ],
      "text/plain": [
       "<pandas.io.formats.style.Styler at 0x7f4f4db57aa0>"
      ]
     },
     "metadata": {},
     "output_type": "display_data"
    },
    {
     "name": "stdout",
     "output_type": "stream",
     "text": [
      "Cohen's K: 0.22\n"
     ]
    }
   ],
   "source": [
    "cm = confusion_matrix(y_true=df[\"Rel_Human\"], y_pred=df[\"Rel_GPT\"]).T\n",
    "cohens_k = round(cohen_kappa_score(df[\"Rel_Human\"], df[\"Rel_GPT\"]), 2)\n",
    "\n",
    "idx_rows = pd.MultiIndex.from_tuples(list(zip(repeat(\"WTR Assesors\"), sorted(df[\"Rel_Human\"].unique()))))\n",
    "idx_cols = pd.MultiIndex.from_tuples(list(zip(repeat(\"GPT-3.5\"), sorted(df[\"Rel_GPT\"].unique()))))\n",
    "\n",
    "a = pd.DataFrame(\n",
    "    data=cm[:2],\n",
    "    index = idx_cols,\n",
    "    columns=idx_rows\n",
    ")\n",
    "\n",
    "display(a.style.highlight_max(axis=1, props='font-weight:bold'))\n",
    "print(\"Cohen's K:\", cohens_k)\n",
    "        # .to_latex(\n",
    "        #     hrules=True,\n",
    "        #     multirow_align=\"t\",\n",
    "        #     caption=\"Rater agreement between GPT-3.5 and WTR Assesors\",\n",
    "        # )\n"
   ]
  },
  {
   "cell_type": "code",
   "execution_count": 98,
   "metadata": {},
   "outputs": [
    {
     "data": {
      "text/html": [
       "<style type=\"text/css\">\n",
       "#T_4632e_row0_col0, #T_4632e_row1_col1 {\n",
       "  font-weight: bold;\n",
       "}\n",
       "</style>\n",
       "<table id=\"T_4632e\">\n",
       "  <thead>\n",
       "    <tr>\n",
       "      <th class=\"blank\" >&nbsp;</th>\n",
       "      <th class=\"blank level0\" >&nbsp;</th>\n",
       "      <th id=\"T_4632e_level0_col0\" class=\"col_heading level0 col0\" colspan=\"2\">WTR Assesors</th>\n",
       "    </tr>\n",
       "    <tr>\n",
       "      <th class=\"blank\" >&nbsp;</th>\n",
       "      <th class=\"blank level1\" >&nbsp;</th>\n",
       "      <th id=\"T_4632e_level1_col0\" class=\"col_heading level1 col0\" >0</th>\n",
       "      <th id=\"T_4632e_level1_col1\" class=\"col_heading level1 col1\" >1</th>\n",
       "    </tr>\n",
       "  </thead>\n",
       "  <tbody>\n",
       "    <tr>\n",
       "      <th id=\"T_4632e_level0_row0\" class=\"row_heading level0 row0\" rowspan=\"2\">GPT-3.5</th>\n",
       "      <th id=\"T_4632e_level1_row0\" class=\"row_heading level1 row0\" >0</th>\n",
       "      <td id=\"T_4632e_row0_col0\" class=\"data row0 col0\" >3068</td>\n",
       "      <td id=\"T_4632e_row0_col1\" class=\"data row0 col1\" >586</td>\n",
       "    </tr>\n",
       "    <tr>\n",
       "      <th id=\"T_4632e_level1_row1\" class=\"row_heading level1 row1\" >1</th>\n",
       "      <td id=\"T_4632e_row1_col0\" class=\"data row1 col0\" >1635</td>\n",
       "      <td id=\"T_4632e_row1_col1\" class=\"data row1 col1\" >1660</td>\n",
       "    </tr>\n",
       "  </tbody>\n",
       "</table>\n"
      ],
      "text/plain": [
       "<pandas.io.formats.style.Styler at 0x7f4f46dcb6b0>"
      ]
     },
     "metadata": {},
     "output_type": "display_data"
    },
    {
     "name": "stdout",
     "output_type": "stream",
     "text": [
      "Cohen's K: 0.21902185377903471\n"
     ]
    }
   ],
   "source": [
    "cm = confusion_matrix(y_true=df[\"Rel_Human_bin\"], y_pred=df[\"Rel_GPT\"]).T\n",
    "cohens_k = cohen_kappa_score(df[\"Rel_Human\"], df[\"Rel_GPT\"])\n",
    "\n",
    "idx_rows = pd.MultiIndex.from_tuples(list(zip(repeat(\"WTR Assesors\"), sorted(df[\"Rel_Human_bin\"].unique()))))\n",
    "idx_cols = pd.MultiIndex.from_tuples(list(zip(repeat(\"GPT-3.5\"), sorted(df[\"Rel_GPT\"].unique()))))\n",
    "\n",
    "diffs_col = []\n",
    "diffs_col.append(cm[0][1] / sum(cm[0]))    \n",
    "diffs_col.append(cm[1][0] / sum(cm[1]))\n",
    "\n",
    "diffs_row = []\n",
    "diffs_row.append(cm[:, 0][1] / sum(cm[:, 0]))\n",
    "diffs_row.append(cm[:, 1][0] / sum(cm[:, 1]))\n",
    "\n",
    "diff_wtr = pd.DataFrame(diffs_col, columns=[\"diff to wtr(%)\"]).round(2)\n",
    "diff_human = pd.DataFrame([diffs_row], index=[\"diff to human (%)\"])\n",
    "a = pd.DataFrame(\n",
    "    data=cm,\n",
    "    index = idx_cols,\n",
    "    columns=idx_rows\n",
    ")\n",
    "\n",
    "display(a.style.highlight_max(axis=1, props='font-weight:bold'))\n",
    "print(\"Cohen's K:\", cohens_k)\n"
   ]
  },
  {
   "cell_type": "code",
   "execution_count": 97,
   "metadata": {},
   "outputs": [
    {
     "data": {
      "text/html": [
       "<div>\n",
       "<style scoped>\n",
       "    .dataframe tbody tr th:only-of-type {\n",
       "        vertical-align: middle;\n",
       "    }\n",
       "\n",
       "    .dataframe tbody tr th {\n",
       "        vertical-align: top;\n",
       "    }\n",
       "\n",
       "    .dataframe thead th {\n",
       "        text-align: right;\n",
       "    }\n",
       "</style>\n",
       "<table border=\"1\" class=\"dataframe\">\n",
       "  <thead>\n",
       "    <tr style=\"text-align: right;\">\n",
       "      <th></th>\n",
       "      <th>0</th>\n",
       "      <th>1</th>\n",
       "    </tr>\n",
       "  </thead>\n",
       "  <tbody>\n",
       "    <tr>\n",
       "      <th>diff to human (%)</th>\n",
       "      <td>0.35</td>\n",
       "      <td>0.26</td>\n",
       "    </tr>\n",
       "  </tbody>\n",
       "</table>\n",
       "</div>"
      ],
      "text/plain": [
       "                      0     1\n",
       "diff to human (%)  0.35  0.26"
      ]
     },
     "execution_count": 97,
     "metadata": {},
     "output_type": "execute_result"
    }
   ],
   "source": [
    "diff_human.round(2)"
   ]
  },
  {
   "cell_type": "code",
   "execution_count": 96,
   "metadata": {},
   "outputs": [
    {
     "data": {
      "text/html": [
       "<div>\n",
       "<style scoped>\n",
       "    .dataframe tbody tr th:only-of-type {\n",
       "        vertical-align: middle;\n",
       "    }\n",
       "\n",
       "    .dataframe tbody tr th {\n",
       "        vertical-align: top;\n",
       "    }\n",
       "\n",
       "    .dataframe thead th {\n",
       "        text-align: right;\n",
       "    }\n",
       "</style>\n",
       "<table border=\"1\" class=\"dataframe\">\n",
       "  <thead>\n",
       "    <tr style=\"text-align: right;\">\n",
       "      <th></th>\n",
       "      <th>diff to wtr(%)</th>\n",
       "    </tr>\n",
       "  </thead>\n",
       "  <tbody>\n",
       "    <tr>\n",
       "      <th>0</th>\n",
       "      <td>0.16</td>\n",
       "    </tr>\n",
       "    <tr>\n",
       "      <th>1</th>\n",
       "      <td>0.50</td>\n",
       "    </tr>\n",
       "  </tbody>\n",
       "</table>\n",
       "</div>"
      ],
      "text/plain": [
       "   diff to wtr(%)\n",
       "0            0.16\n",
       "1            0.50"
      ]
     },
     "execution_count": 96,
     "metadata": {},
     "output_type": "execute_result"
    }
   ],
   "source": [
    "diff_wtr"
   ]
  },
  {
   "cell_type": "code",
   "execution_count": 55,
   "metadata": {},
   "outputs": [
    {
     "data": {
      "text/plain": [
       "0.34765043589198386"
      ]
     },
     "execution_count": 55,
     "metadata": {},
     "output_type": "execute_result"
    }
   ],
   "source": []
  },
  {
   "cell_type": "code",
   "execution_count": 47,
   "metadata": {},
   "outputs": [
    {
     "name": "stdout",
     "output_type": "stream",
     "text": [
      "0.16037219485495346\n"
     ]
    },
    {
     "data": {
      "text/plain": [
       "0.496206373292868"
      ]
     },
     "execution_count": 47,
     "metadata": {},
     "output_type": "execute_result"
    }
   ],
   "source": [
    "print(cm[0][1] / sum(cm[0]))\n",
    "cm[1][0] / sum(cm[1])"
   ]
  },
  {
   "cell_type": "code",
   "execution_count": 22,
   "metadata": {},
   "outputs": [],
   "source": [
    "def get_freqs(df, col):\n",
    "    vals = df[col].value_counts()\n",
    "    vals_uniq = df[col].unique()\n",
    "\n",
    "    return {val: vals[val] / sum(vals) for val in vals_uniq}"
   ]
  },
  {
   "cell_type": "code",
   "execution_count": 27,
   "metadata": {},
   "outputs": [
    {
     "data": {
      "text/plain": [
       "{0: 0.5258310548280328, 1: 0.47416894517196717}"
      ]
     },
     "execution_count": 27,
     "metadata": {},
     "output_type": "execute_result"
    }
   ],
   "source": [
    "get_freqs(df, \"Rel_GPT\")"
   ]
  },
  {
   "cell_type": "code",
   "execution_count": 26,
   "metadata": {},
   "outputs": [
    {
     "data": {
      "text/plain": [
       "{2: 0.1403079579795654, 1: 0.1829040149661822, 0: 0.6767880270542525}"
      ]
     },
     "execution_count": 26,
     "metadata": {},
     "output_type": "execute_result"
    }
   ],
   "source": [
    "get_freqs(df, \"Rel_Human\")"
   ]
  },
  {
   "cell_type": "code",
   "execution_count": 35,
   "metadata": {},
   "outputs": [
    {
     "data": {
      "text/plain": [
       "1049"
      ]
     },
     "execution_count": 35,
     "metadata": {},
     "output_type": "execute_result"
    }
   ],
   "source": [
    "(df[\"Rel_GPT\"].value_counts()[1] - df[\"Rel_Human_bin\"].value_counts()[1] )"
   ]
  },
  {
   "cell_type": "code",
   "execution_count": 29,
   "metadata": {},
   "outputs": [
    {
     "data": {
      "text/plain": [
       "3295"
      ]
     },
     "execution_count": 29,
     "metadata": {},
     "output_type": "execute_result"
    }
   ],
   "source": [
    "df[\"Rel_GPT\"].value_counts()[1]"
   ]
  },
  {
   "cell_type": "code",
   "execution_count": 31,
   "metadata": {},
   "outputs": [
    {
     "data": {
      "text/plain": [
       "2246"
      ]
     },
     "execution_count": 31,
     "metadata": {},
     "output_type": "execute_result"
    }
   ],
   "source": [
    "df[\"Rel_Human_bin\"].value_counts()[1]"
   ]
  },
  {
   "cell_type": "code",
   "execution_count": null,
   "metadata": {},
   "outputs": [],
   "source": []
  }
 ],
 "metadata": {
  "kernelspec": {
   "display_name": "Python 3",
   "language": "python",
   "name": "python3"
  },
  "language_info": {
   "codemirror_mode": {
    "name": "ipython",
    "version": 3
   },
   "file_extension": ".py",
   "mimetype": "text/x-python",
   "name": "python",
   "nbconvert_exporter": "python",
   "pygments_lexer": "ipython3",
   "version": "3.12.0"
  }
 },
 "nbformat": 4,
 "nbformat_minor": 2
}
