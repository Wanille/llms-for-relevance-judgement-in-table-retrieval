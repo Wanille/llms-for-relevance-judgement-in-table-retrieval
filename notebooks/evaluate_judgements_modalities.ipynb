{
 "cells": [
  {
   "cell_type": "markdown",
   "metadata": {},
   "source": [
    "## Evaluate GPT Judgements for all modalities"
   ]
  },
  {
   "cell_type": "code",
   "execution_count": 1,
   "metadata": {},
   "outputs": [],
   "source": [
    "import pandas as pd\n",
    "from LLmsfJiT import read_trec_qrels\n",
    "from statsmodels.stats.inter_rater import fleiss_kappa, cohens_kappa, aggregate_raters, to_table\n",
    "from itertools import repeat"
   ]
  },
  {
   "cell_type": "code",
   "execution_count": 2,
   "metadata": {},
   "outputs": [],
   "source": [
    "columns = [\"topic_id\", \"it\", \"json_loc\", \"rel_t\"]\n",
    "df = pd.DataFrame(read_trec_qrels(\"../gpt_judgements/first_run_with_balanced_sample_bin.txt\"), columns=columns)"
   ]
  },
  {
   "cell_type": "code",
   "execution_count": 3,
   "metadata": {},
   "outputs": [
    {
     "data": {
      "text/html": [
       "<div>\n",
       "<style scoped>\n",
       "    .dataframe tbody tr th:only-of-type {\n",
       "        vertical-align: middle;\n",
       "    }\n",
       "\n",
       "    .dataframe tbody tr th {\n",
       "        vertical-align: top;\n",
       "    }\n",
       "\n",
       "    .dataframe thead th {\n",
       "        text-align: right;\n",
       "    }\n",
       "</style>\n",
       "<table border=\"1\" class=\"dataframe\">\n",
       "  <thead>\n",
       "    <tr style=\"text-align: right;\">\n",
       "      <th></th>\n",
       "      <th>topic_id</th>\n",
       "      <th>it</th>\n",
       "      <th>json_loc</th>\n",
       "      <th>rel_t</th>\n",
       "    </tr>\n",
       "  </thead>\n",
       "  <tbody>\n",
       "    <tr>\n",
       "      <th>0</th>\n",
       "      <td>23</td>\n",
       "      <td>0</td>\n",
       "      <td>45/1438042989897.84_20150728002309-00081-ip-10...</td>\n",
       "      <td>1</td>\n",
       "    </tr>\n",
       "    <tr>\n",
       "      <th>1</th>\n",
       "      <td>23</td>\n",
       "      <td>0</td>\n",
       "      <td>28/1438042989301.17_20150728002309-00289-ip-10...</td>\n",
       "      <td>1</td>\n",
       "    </tr>\n",
       "    <tr>\n",
       "      <th>2</th>\n",
       "      <td>20</td>\n",
       "      <td>0</td>\n",
       "      <td>37/1438042982013.25_20150728002302-00168-ip-10...</td>\n",
       "      <td>0</td>\n",
       "    </tr>\n",
       "    <tr>\n",
       "      <th>3</th>\n",
       "      <td>29</td>\n",
       "      <td>0</td>\n",
       "      <td>36/1438042988598.68_20150728002308-00147-ip-10...</td>\n",
       "      <td>0</td>\n",
       "    </tr>\n",
       "    <tr>\n",
       "      <th>4</th>\n",
       "      <td>14</td>\n",
       "      <td>0</td>\n",
       "      <td>29/1438042987628.47_20150728002307-00142-ip-10...</td>\n",
       "      <td>0</td>\n",
       "    </tr>\n",
       "  </tbody>\n",
       "</table>\n",
       "</div>"
      ],
      "text/plain": [
       "  topic_id it                                           json_loc rel_t\n",
       "0       23  0  45/1438042989897.84_20150728002309-00081-ip-10...     1\n",
       "1       23  0  28/1438042989301.17_20150728002309-00289-ip-10...     1\n",
       "2       20  0  37/1438042982013.25_20150728002302-00168-ip-10...     0\n",
       "3       29  0  36/1438042988598.68_20150728002308-00147-ip-10...     0\n",
       "4       14  0  29/1438042987628.47_20150728002307-00142-ip-10...     0"
      ]
     },
     "execution_count": 3,
     "metadata": {},
     "output_type": "execute_result"
    }
   ],
   "source": [
    "df.head()"
   ]
  },
  {
   "cell_type": "code",
   "execution_count": 4,
   "metadata": {},
   "outputs": [],
   "source": [
    "additional_modalities = {\n",
    "    \"entity\": (\"../gpt_judgements/balanced_sample_bin_entity.txt\", \"e\"),\n",
    "    \"page_title\": (\"../gpt_judgements/balanced_sample_bin_page_title.txt\", \"pt\"),\n",
    "    \"text_before\": (\"../gpt_judgements/balanced_sample_bin_text_before.txt\", \"tb\"),\n",
    "    \"text_after\": (\"../gpt_judgements/balanced_sample_bin_text_after.txt\", \"ta\"),\n",
    "    \"table\": (\"../gpt_judgements/first_run_with_balanced_sample_bin.txt\", \"t\")\n",
    "}\n",
    "\n",
    "for mod in additional_modalities.keys():\n",
    "    qrels = read_trec_qrels(additional_modalities[mod][0])\n",
    "    mod_cols = columns.copy()\n",
    "    mod_cols[-1] = mod_cols[-1][:-1] + additional_modalities[mod][1]\n",
    "    temp_df = pd.DataFrame(qrels, columns=mod_cols)\n",
    "    df[mod_cols[-1]] = temp_df[mod_cols[-1]].astype(int)"
   ]
  },
  {
   "cell_type": "markdown",
   "metadata": {},
   "source": [
    "## Collect Qrels data for all modalities"
   ]
  },
  {
   "cell_type": "code",
   "execution_count": 5,
   "metadata": {},
   "outputs": [],
   "source": [
    "wtr_modalities = [\n",
    "    (\"../rel_files/rel_entity_qrels.txt\", \"rel_e\", \"enitity\"),\n",
    "    (\"../rel_files/rel_PageTitle_qrels.txt\", \"rel_pt\", \"page_title\"),\n",
    "    (\"../rel_files/rel_table_qrels.txt\", \"rel_t\", \"table\"),\n",
    "    (\"../rel_files/rel_textAfter_qrels.txt\", \"rel_ta\", \"text_after\"),\n",
    "    (\"../rel_files/rel_textBefore_qrels.txt\", \"rel_tb\", \"text_before\")\n",
    "]\n",
    "df_wtr = df.copy()[df.columns[:3]]\n",
    "for path, name, mod in wtr_modalities:\n",
    "    q = read_trec_qrels(path)\n",
    "    temp_df = pd.DataFrame(q, columns=[\"topic_id\", \"it\", \"json_loc\", name])\n",
    "    temp_df[name] = temp_df[name].astype(float).astype(int)\n",
    "    temp_df.loc[temp_df[name] > 1, name] = 1    \n",
    "    temp_df_merged = df[[\"topic_id\", \"json_loc\"]].merge(temp_df, on=[\"json_loc\", \"topic_id\"])\n",
    "    df_wtr[name] = temp_df_merged[name]\n",
    "df_wtr = df_wtr[df.columns.tolist()]"
   ]
  },
  {
   "cell_type": "markdown",
   "metadata": {},
   "source": [
    "## $Cohen's K$ for every modality"
   ]
  },
  {
   "cell_type": "code",
   "execution_count": 6,
   "metadata": {},
   "outputs": [],
   "source": [
    "kappas = []\n",
    "for path, name, mod in wtr_modalities:\n",
    "    ratings = pd.concat([df_wtr[name], df[name]], axis=1)\n",
    "    table = to_table(ratings)\n",
    "    kappas.append(cohens_kappa(table[0]).kappa)"
   ]
  },
  {
   "cell_type": "code",
   "execution_count": 7,
   "metadata": {},
   "outputs": [
    {
     "data": {
      "text/html": [
       "<div>\n",
       "<style scoped>\n",
       "    .dataframe tbody tr th:only-of-type {\n",
       "        vertical-align: middle;\n",
       "    }\n",
       "\n",
       "    .dataframe tbody tr th {\n",
       "        vertical-align: top;\n",
       "    }\n",
       "\n",
       "    .dataframe thead th {\n",
       "        text-align: right;\n",
       "    }\n",
       "</style>\n",
       "<table border=\"1\" class=\"dataframe\">\n",
       "  <thead>\n",
       "    <tr style=\"text-align: right;\">\n",
       "      <th></th>\n",
       "      <th>Cohen's K</th>\n",
       "    </tr>\n",
       "  </thead>\n",
       "  <tbody>\n",
       "    <tr>\n",
       "      <th>enitity</th>\n",
       "      <td>0.309623</td>\n",
       "    </tr>\n",
       "    <tr>\n",
       "      <th>page_title</th>\n",
       "      <td>0.329692</td>\n",
       "    </tr>\n",
       "    <tr>\n",
       "      <th>table</th>\n",
       "      <td>0.470588</td>\n",
       "    </tr>\n",
       "    <tr>\n",
       "      <th>text_after</th>\n",
       "      <td>0.296520</td>\n",
       "    </tr>\n",
       "    <tr>\n",
       "      <th>text_before</th>\n",
       "      <td>0.317111</td>\n",
       "    </tr>\n",
       "  </tbody>\n",
       "</table>\n",
       "</div>"
      ],
      "text/plain": [
       "             Cohen's K\n",
       "enitity       0.309623\n",
       "page_title    0.329692\n",
       "table         0.470588\n",
       "text_after    0.296520\n",
       "text_before   0.317111"
      ]
     },
     "execution_count": 7,
     "metadata": {},
     "output_type": "execute_result"
    }
   ],
   "source": [
    "index = list(zip(*wtr_modalities))[2]\n",
    "columns = [\"Cohen's K\"]\n",
    "pd.DataFrame(kappas, columns=columns, index=index)"
   ]
  },
  {
   "cell_type": "markdown",
   "metadata": {},
   "source": [
    "## Append all ratings compute a $Cohens K$"
   ]
  },
  {
   "cell_type": "code",
   "execution_count": 8,
   "metadata": {},
   "outputs": [],
   "source": [
    "df_collapsed_wtr = df_wtr[df_wtr.columns[0:3]].copy()\n",
    "df_collapsed_wtr[\"fields_collapsed\"] = df_wtr[df_wtr.columns[3:7]].values.tolist()\n",
    "df_collapsed_wtr[\"modalities\"] = list(repeat(df_wtr.columns[3:7].values.tolist(), times=90))\n",
    "df_collapsed_wtr = df_collapsed_wtr.explode([\"fields_collapsed\", \"modalities\"])"
   ]
  },
  {
   "cell_type": "code",
   "execution_count": 9,
   "metadata": {},
   "outputs": [],
   "source": [
    "df_collapsed = df[df.columns[0:3]].copy()\n",
    "df_collapsed[\"fields_collapsed\"] = df[df.columns[3:7]].values.tolist()\n",
    "df_collapsed[\"modalities\"] = list(repeat(df.columns[3:7].values.tolist(), times=90))\n",
    "df_collapsed = df_collapsed.explode([\"fields_collapsed\", \"modalities\"])"
   ]
  },
  {
   "cell_type": "code",
   "execution_count": 10,
   "metadata": {},
   "outputs": [
    {
     "data": {
      "text/plain": [
       "{'kind': 'Simple',\n",
       " 'kappa': 0.37222222222222223,\n",
       " 'kappa_max': 0.9944444444444445,\n",
       " 'weights': None,\n",
       " 'var_kappa': 0.0023928445258387106,\n",
       " 'var_kappa0': 0.002777692043895747,\n",
       " 'alpha': 0.025,\n",
       " 'alpha_ci': '  95',\n",
       " 'std_kappa': 0.048916710088053865,\n",
       " 'std_kappa0': 0.0527038143201775,\n",
       " 'z_value': 7.062529098196942,\n",
       " 'pvalue_one_sided': 8.174953155841656e-13,\n",
       " 'pvalue_two_sided': 1.6349906311683311e-12,\n",
       " 'kappa_low': 0.2763472322074495,\n",
       " 'kappa_upp': 0.46809721223699496,\n",
       " 'distribution_kappa': <scipy.stats._distn_infrastructure.rv_continuous_frozen at 0x7f2d0fae35f0>,\n",
       " 'distribution_zero_null': <scipy.stats._distn_infrastructure.rv_continuous_frozen at 0x7f2d0b662db0>}"
      ]
     },
     "execution_count": 10,
     "metadata": {},
     "output_type": "execute_result"
    }
   ],
   "source": [
    "all_ratings = pd.concat([df_collapsed[\"fields_collapsed\"], df_collapsed_wtr[\"fields_collapsed\"]], axis=1)\n",
    "all_ratings.columns = [\"gpt\", \"wtr\"]\n",
    "cohens_kappa(to_table(all_ratings)[0])"
   ]
  },
  {
   "cell_type": "markdown",
   "metadata": {},
   "source": [
    "## Confusion Matrix all modalities"
   ]
  },
  {
   "cell_type": "code",
   "execution_count": 60,
   "metadata": {},
   "outputs": [
    {
     "data": {
      "text/html": [
       "<style type=\"text/css\">\n",
       "#T_0fbef_row0_col2, #T_0fbef_row0_col4, #T_0fbef_row0_col6, #T_0fbef_row0_col7, #T_0fbef_row0_col8, #T_0fbef_row0_col9, #T_0fbef_row1_col0, #T_0fbef_row1_col1, #T_0fbef_row1_col3, #T_0fbef_row1_col5, #T_0fbef_row1_col7 {\n",
       "  font-weight: bold;\n",
       "}\n",
       "</style>\n",
       "<table id=\"T_0fbef\">\n",
       "  <thead>\n",
       "    <tr>\n",
       "      <th class=\"index_name level0\" >Modalities</th>\n",
       "      <th id=\"T_0fbef_level0_col0\" class=\"col_heading level0 col0\" colspan=\"2\">enitity</th>\n",
       "      <th id=\"T_0fbef_level0_col2\" class=\"col_heading level0 col2\" colspan=\"2\">page_title</th>\n",
       "      <th id=\"T_0fbef_level0_col4\" class=\"col_heading level0 col4\" colspan=\"2\">table</th>\n",
       "      <th id=\"T_0fbef_level0_col6\" class=\"col_heading level0 col6\" colspan=\"2\">text_after</th>\n",
       "      <th id=\"T_0fbef_level0_col8\" class=\"col_heading level0 col8\" colspan=\"2\">text_before</th>\n",
       "    </tr>\n",
       "    <tr>\n",
       "      <th class=\"index_name level1\" >WTR judgements</th>\n",
       "      <th id=\"T_0fbef_level1_col0\" class=\"col_heading level1 col0\" >0</th>\n",
       "      <th id=\"T_0fbef_level1_col1\" class=\"col_heading level1 col1\" >1</th>\n",
       "      <th id=\"T_0fbef_level1_col2\" class=\"col_heading level1 col2\" >0</th>\n",
       "      <th id=\"T_0fbef_level1_col3\" class=\"col_heading level1 col3\" >1</th>\n",
       "      <th id=\"T_0fbef_level1_col4\" class=\"col_heading level1 col4\" >0</th>\n",
       "      <th id=\"T_0fbef_level1_col5\" class=\"col_heading level1 col5\" >1</th>\n",
       "      <th id=\"T_0fbef_level1_col6\" class=\"col_heading level1 col6\" >0</th>\n",
       "      <th id=\"T_0fbef_level1_col7\" class=\"col_heading level1 col7\" >1</th>\n",
       "      <th id=\"T_0fbef_level1_col8\" class=\"col_heading level1 col8\" >0</th>\n",
       "      <th id=\"T_0fbef_level1_col9\" class=\"col_heading level1 col9\" >1</th>\n",
       "    </tr>\n",
       "    <tr>\n",
       "      <th class=\"index_name level0\" >GPT-3.5 Judgements</th>\n",
       "      <th class=\"blank col0\" >&nbsp;</th>\n",
       "      <th class=\"blank col1\" >&nbsp;</th>\n",
       "      <th class=\"blank col2\" >&nbsp;</th>\n",
       "      <th class=\"blank col3\" >&nbsp;</th>\n",
       "      <th class=\"blank col4\" >&nbsp;</th>\n",
       "      <th class=\"blank col5\" >&nbsp;</th>\n",
       "      <th class=\"blank col6\" >&nbsp;</th>\n",
       "      <th class=\"blank col7\" >&nbsp;</th>\n",
       "      <th class=\"blank col8\" >&nbsp;</th>\n",
       "      <th class=\"blank col9\" >&nbsp;</th>\n",
       "    </tr>\n",
       "  </thead>\n",
       "  <tbody>\n",
       "    <tr>\n",
       "      <th id=\"T_0fbef_level0_row0\" class=\"row_heading level0 row0\" >0</th>\n",
       "      <td id=\"T_0fbef_row0_col0\" class=\"data row0 col0\" >26</td>\n",
       "      <td id=\"T_0fbef_row0_col1\" class=\"data row0 col1\" >5</td>\n",
       "      <td id=\"T_0fbef_row0_col2\" class=\"data row0 col2\" >36</td>\n",
       "      <td id=\"T_0fbef_row0_col3\" class=\"data row0 col3\" >20</td>\n",
       "      <td id=\"T_0fbef_row0_col4\" class=\"data row0 col4\" >19</td>\n",
       "      <td id=\"T_0fbef_row0_col5\" class=\"data row0 col5\" >10</td>\n",
       "      <td id=\"T_0fbef_row0_col6\" class=\"data row0 col6\" >38</td>\n",
       "      <td id=\"T_0fbef_row0_col7\" class=\"data row0 col7\" >21</td>\n",
       "      <td id=\"T_0fbef_row0_col8\" class=\"data row0 col8\" >43</td>\n",
       "      <td id=\"T_0fbef_row0_col9\" class=\"data row0 col9\" >21</td>\n",
       "    </tr>\n",
       "    <tr>\n",
       "      <th id=\"T_0fbef_level0_row1\" class=\"row_heading level0 row1\" >1</th>\n",
       "      <td id=\"T_0fbef_row1_col0\" class=\"data row1 col0\" >28</td>\n",
       "      <td id=\"T_0fbef_row1_col1\" class=\"data row1 col1\" >31</td>\n",
       "      <td id=\"T_0fbef_row1_col2\" class=\"data row1 col2\" >10</td>\n",
       "      <td id=\"T_0fbef_row1_col3\" class=\"data row1 col3\" >24</td>\n",
       "      <td id=\"T_0fbef_row1_col4\" class=\"data row1 col4\" >11</td>\n",
       "      <td id=\"T_0fbef_row1_col5\" class=\"data row1 col5\" >50</td>\n",
       "      <td id=\"T_0fbef_row1_col6\" class=\"data row1 col6\" >10</td>\n",
       "      <td id=\"T_0fbef_row1_col7\" class=\"data row1 col7\" >21</td>\n",
       "      <td id=\"T_0fbef_row1_col8\" class=\"data row1 col8\" >8</td>\n",
       "      <td id=\"T_0fbef_row1_col9\" class=\"data row1 col9\" >18</td>\n",
       "    </tr>\n",
       "  </tbody>\n",
       "</table>\n"
      ],
      "text/plain": [
       "<pandas.io.formats.style.Styler at 0x7f2d08577a40>"
      ]
     },
     "execution_count": 60,
     "metadata": {},
     "output_type": "execute_result"
    }
   ],
   "source": [
    "conf_matricies = []\n",
    "columns = []\n",
    "for path, name, mod in wtr_modalities:\n",
    "    pred = pd.Series(df[name], name=\"GPT-3.5 Judgements\")\n",
    "    actu = pd.Series(df_wtr[name], name=\"WTR\")\n",
    "    conf_matricies.append(pd.crosstab(actu, pred).T)\n",
    "\n",
    "    for x in (0, 1):\n",
    "            columns.append((mod, x))\n",
    "\n",
    "conf_comp = pd.concat(conf_matricies, axis=1)\n",
    "conf_comp.columns = pd.MultiIndex.from_tuples(columns, names=[\"Modalities\", \"WTR judgements\"])\n",
    "conf_comp.style.highlight_max(props=\"font-weight:bold\", axis=0)"
   ]
  },
  {
   "cell_type": "markdown",
   "metadata": {},
   "source": [
    "## $Cohen's K$ between any two fields"
   ]
  },
  {
   "cell_type": "code",
   "execution_count": 6,
   "metadata": {},
   "outputs": [],
   "source": [
    "two_field_agreement_data = []\n",
    "for mod_a in additional_modalities.keys():\n",
    "    table_col = []\n",
    "    for mod_b in additional_modalities.keys():\n",
    "        cols = [\"rel_\" + additional_modalities[mod_a][1], \"rel_\" + additional_modalities[mod_b][1]]\n",
    "\n",
    "        # Get unique categories from both raters\n",
    "        categories = sorted(set(df[cols[0]].unique()) | set(df[cols[1]].unique()))\n",
    "\n",
    "        # Create a square array with counts of ratings for both raters\n",
    "        table = pd.crosstab(df[cols[0]], df[cols[1]], rownames=[cols[0]], colnames=[cols[1]])\n",
    "        table = table.reindex(columns=categories, index=categories, fill_value=0).values\n",
    "        table_col.append(\n",
    "            cohens_kappa(\n",
    "                table, None, None\n",
    "            )\n",
    "        )\n",
    "    two_field_agreement_data.append(table_col)"
   ]
  },
  {
   "cell_type": "code",
   "execution_count": 8,
   "metadata": {},
   "outputs": [
    {
     "data": {
      "text/html": [
       "<style type=\"text/css\">\n",
       "#T_a27c8_row0_col4, #T_a27c8_row1_col2, #T_a27c8_row1_col3, #T_a27c8_row2_col1, #T_a27c8_row3_col1, #T_a27c8_row4_col0 {\n",
       "  font-weight: bold;\n",
       "}\n",
       "</style>\n",
       "<table id=\"T_a27c8\">\n",
       "  <thead>\n",
       "    <tr>\n",
       "      <th class=\"blank level0\" >&nbsp;</th>\n",
       "      <th id=\"T_a27c8_level0_col0\" class=\"col_heading level0 col0\" >entity</th>\n",
       "      <th id=\"T_a27c8_level0_col1\" class=\"col_heading level0 col1\" >page_title</th>\n",
       "      <th id=\"T_a27c8_level0_col2\" class=\"col_heading level0 col2\" >text_before</th>\n",
       "      <th id=\"T_a27c8_level0_col3\" class=\"col_heading level0 col3\" >text_after</th>\n",
       "      <th id=\"T_a27c8_level0_col4\" class=\"col_heading level0 col4\" >table</th>\n",
       "    </tr>\n",
       "  </thead>\n",
       "  <tbody>\n",
       "    <tr>\n",
       "      <th id=\"T_a27c8_level0_row0\" class=\"row_heading level0 row0\" >entity</th>\n",
       "      <td id=\"T_a27c8_row0_col0\" class=\"data row0 col0\" >1.000000</td>\n",
       "      <td id=\"T_a27c8_row0_col1\" class=\"data row0 col1\" >0.070675</td>\n",
       "      <td id=\"T_a27c8_row0_col2\" class=\"data row0 col2\" >0.037538</td>\n",
       "      <td id=\"T_a27c8_row0_col3\" class=\"data row0 col3\" >0.189554</td>\n",
       "      <td id=\"T_a27c8_row0_col4\" class=\"data row0 col4\" >0.350361</td>\n",
       "    </tr>\n",
       "    <tr>\n",
       "      <th id=\"T_a27c8_level0_row1\" class=\"row_heading level0 row1\" >page_title</th>\n",
       "      <td id=\"T_a27c8_row1_col0\" class=\"data row1 col0\" >0.070675</td>\n",
       "      <td id=\"T_a27c8_row1_col1\" class=\"data row1 col1\" >1.000000</td>\n",
       "      <td id=\"T_a27c8_row1_col2\" class=\"data row1 col2\" >0.306167</td>\n",
       "      <td id=\"T_a27c8_row1_col3\" class=\"data row1 col3\" >0.254409</td>\n",
       "      <td id=\"T_a27c8_row1_col4\" class=\"data row1 col4\" >0.161745</td>\n",
       "    </tr>\n",
       "    <tr>\n",
       "      <th id=\"T_a27c8_level0_row2\" class=\"row_heading level0 row2\" >text_before</th>\n",
       "      <td id=\"T_a27c8_row2_col0\" class=\"data row2 col0\" >0.037538</td>\n",
       "      <td id=\"T_a27c8_row2_col1\" class=\"data row2 col1\" >0.306167</td>\n",
       "      <td id=\"T_a27c8_row2_col2\" class=\"data row2 col2\" >1.000000</td>\n",
       "      <td id=\"T_a27c8_row2_col3\" class=\"data row2 col3\" >0.155770</td>\n",
       "      <td id=\"T_a27c8_row2_col4\" class=\"data row2 col4\" >0.130528</td>\n",
       "    </tr>\n",
       "    <tr>\n",
       "      <th id=\"T_a27c8_level0_row3\" class=\"row_heading level0 row3\" >text_after</th>\n",
       "      <td id=\"T_a27c8_row3_col0\" class=\"data row3 col0\" >0.189554</td>\n",
       "      <td id=\"T_a27c8_row3_col1\" class=\"data row3 col1\" >0.254409</td>\n",
       "      <td id=\"T_a27c8_row3_col2\" class=\"data row3 col2\" >0.155770</td>\n",
       "      <td id=\"T_a27c8_row3_col3\" class=\"data row3 col3\" >1.000000</td>\n",
       "      <td id=\"T_a27c8_row3_col4\" class=\"data row3 col4\" >0.239662</td>\n",
       "    </tr>\n",
       "    <tr>\n",
       "      <th id=\"T_a27c8_level0_row4\" class=\"row_heading level0 row4\" >table</th>\n",
       "      <td id=\"T_a27c8_row4_col0\" class=\"data row4 col0\" >0.350361</td>\n",
       "      <td id=\"T_a27c8_row4_col1\" class=\"data row4 col1\" >0.161745</td>\n",
       "      <td id=\"T_a27c8_row4_col2\" class=\"data row4 col2\" >0.130528</td>\n",
       "      <td id=\"T_a27c8_row4_col3\" class=\"data row4 col3\" >0.239662</td>\n",
       "      <td id=\"T_a27c8_row4_col4\" class=\"data row4 col4\" >1.000000</td>\n",
       "    </tr>\n",
       "  </tbody>\n",
       "</table>\n"
      ],
      "text/plain": [
       "<pandas.io.formats.style.Styler at 0x7f493cf82480>"
      ]
     },
     "execution_count": 8,
     "metadata": {},
     "output_type": "execute_result"
    }
   ],
   "source": [
    "pd.DataFrame(two_field_agreement_data, columns=additional_modalities.keys(), index=additional_modalities.keys()).style.highlight_between(axis=0, left=0.25, right=0.4, props=\"font-weight:bold\")\n"
   ]
  },
  {
   "cell_type": "markdown",
   "metadata": {},
   "source": [
    "## Fleiss Kappa between all fields"
   ]
  },
  {
   "cell_type": "code",
   "execution_count": 44,
   "metadata": {},
   "outputs": [
    {
     "data": {
      "text/plain": [
       "0.1611969303377024"
      ]
     },
     "execution_count": 44,
     "metadata": {},
     "output_type": "execute_result"
    }
   ],
   "source": [
    "fleiss_kappa(aggregate_raters(df[df.columns[3:]])[0])"
   ]
  }
 ],
 "metadata": {
  "kernelspec": {
   "display_name": "Python 3",
   "language": "python",
   "name": "python3"
  },
  "language_info": {
   "codemirror_mode": {
    "name": "ipython",
    "version": 3
   },
   "file_extension": ".py",
   "mimetype": "text/x-python",
   "name": "python",
   "nbconvert_exporter": "python",
   "pygments_lexer": "ipython3",
   "version": "3.12.0"
  }
 },
 "nbformat": 4,
 "nbformat_minor": 2
}
