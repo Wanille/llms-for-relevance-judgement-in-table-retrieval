{
 "cells": [
  {
   "cell_type": "markdown",
   "metadata": {},
   "source": [
    "## Evaluate GPT Judgements for all modalities"
   ]
  },
  {
   "cell_type": "code",
   "execution_count": 25,
   "metadata": {},
   "outputs": [],
   "source": [
    "import pandas as pd\n",
    "from LLmsfJiT import read_trec_qrels\n",
    "from statsmodels.stats.inter_rater import fleiss_kappa, cohens_kappa, aggregate_raters, to_table\n",
    "from sklearn.metrics import cohen_kappa_score\n",
    "from itertools import repeat"
   ]
  },
  {
   "cell_type": "code",
   "execution_count": 26,
   "metadata": {},
   "outputs": [],
   "source": [
    "columns = [\"topic_id\", \"it\", \"json_loc\", \"rel_t\"]\n",
    "df = pd.DataFrame(read_trec_qrels(\"../gpt_judgements/ex_qrels_bin_no_sys.txt\"), columns=columns)"
   ]
  },
  {
   "cell_type": "code",
   "execution_count": 27,
   "metadata": {},
   "outputs": [
    {
     "data": {
      "text/html": [
       "<div>\n",
       "<style scoped>\n",
       "    .dataframe tbody tr th:only-of-type {\n",
       "        vertical-align: middle;\n",
       "    }\n",
       "\n",
       "    .dataframe tbody tr th {\n",
       "        vertical-align: top;\n",
       "    }\n",
       "\n",
       "    .dataframe thead th {\n",
       "        text-align: right;\n",
       "    }\n",
       "</style>\n",
       "<table border=\"1\" class=\"dataframe\">\n",
       "  <thead>\n",
       "    <tr style=\"text-align: right;\">\n",
       "      <th></th>\n",
       "      <th>topic_id</th>\n",
       "      <th>it</th>\n",
       "      <th>json_loc</th>\n",
       "      <th>rel_t</th>\n",
       "    </tr>\n",
       "  </thead>\n",
       "  <tbody>\n",
       "    <tr>\n",
       "      <th>0</th>\n",
       "      <td>55</td>\n",
       "      <td>0</td>\n",
       "      <td>5/1438042988718.8_20150728002308-00148-ip-10-2...</td>\n",
       "      <td>1</td>\n",
       "    </tr>\n",
       "    <tr>\n",
       "      <th>1</th>\n",
       "      <td>25</td>\n",
       "      <td>0</td>\n",
       "      <td>11/1438042981460.12_20150728002301-00113-ip-10...</td>\n",
       "      <td>0</td>\n",
       "    </tr>\n",
       "    <tr>\n",
       "      <th>2</th>\n",
       "      <td>24</td>\n",
       "      <td>0</td>\n",
       "      <td>13/1438042989891.18_20150728002309-00180-ip-10...</td>\n",
       "      <td>1</td>\n",
       "    </tr>\n",
       "    <tr>\n",
       "      <th>3</th>\n",
       "      <td>55</td>\n",
       "      <td>0</td>\n",
       "      <td>39/1438043062723.96_20150728002422-00055-ip-10...</td>\n",
       "      <td>0</td>\n",
       "    </tr>\n",
       "    <tr>\n",
       "      <th>4</th>\n",
       "      <td>32</td>\n",
       "      <td>0</td>\n",
       "      <td>48/1438042987775.70_20150728002307-00036-ip-10...</td>\n",
       "      <td>0</td>\n",
       "    </tr>\n",
       "    <tr>\n",
       "      <th>...</th>\n",
       "      <td>...</td>\n",
       "      <td>...</td>\n",
       "      <td>...</td>\n",
       "      <td>...</td>\n",
       "    </tr>\n",
       "    <tr>\n",
       "      <th>95</th>\n",
       "      <td>24</td>\n",
       "      <td>0</td>\n",
       "      <td>32/1438042990603.54_20150728002310-00051-ip-10...</td>\n",
       "      <td>1</td>\n",
       "    </tr>\n",
       "    <tr>\n",
       "      <th>96</th>\n",
       "      <td>14</td>\n",
       "      <td>0</td>\n",
       "      <td>5/1438042988718.8_20150728002308-00150-ip-10-2...</td>\n",
       "      <td>1</td>\n",
       "    </tr>\n",
       "    <tr>\n",
       "      <th>97</th>\n",
       "      <td>49</td>\n",
       "      <td>0</td>\n",
       "      <td>46/1438042988922.24_20150728002308-00185-ip-10...</td>\n",
       "      <td>0</td>\n",
       "    </tr>\n",
       "    <tr>\n",
       "      <th>98</th>\n",
       "      <td>57</td>\n",
       "      <td>0</td>\n",
       "      <td>31/1438042989018.48_20150728002309-00112-ip-10...</td>\n",
       "      <td>0</td>\n",
       "    </tr>\n",
       "    <tr>\n",
       "      <th>99</th>\n",
       "      <td>47</td>\n",
       "      <td>0</td>\n",
       "      <td>39/1438042988305.14_20150728002308-00213-ip-10...</td>\n",
       "      <td>0</td>\n",
       "    </tr>\n",
       "  </tbody>\n",
       "</table>\n",
       "<p>100 rows × 4 columns</p>\n",
       "</div>"
      ],
      "text/plain": [
       "   topic_id it                                           json_loc rel_t\n",
       "0        55  0  5/1438042988718.8_20150728002308-00148-ip-10-2...     1\n",
       "1        25  0  11/1438042981460.12_20150728002301-00113-ip-10...     0\n",
       "2        24  0  13/1438042989891.18_20150728002309-00180-ip-10...     1\n",
       "3        55  0  39/1438043062723.96_20150728002422-00055-ip-10...     0\n",
       "4        32  0  48/1438042987775.70_20150728002307-00036-ip-10...     0\n",
       "..      ... ..                                                ...   ...\n",
       "95       24  0  32/1438042990603.54_20150728002310-00051-ip-10...     1\n",
       "96       14  0  5/1438042988718.8_20150728002308-00150-ip-10-2...     1\n",
       "97       49  0  46/1438042988922.24_20150728002308-00185-ip-10...     0\n",
       "98       57  0  31/1438042989018.48_20150728002309-00112-ip-10...     0\n",
       "99       47  0  39/1438042988305.14_20150728002308-00213-ip-10...     0\n",
       "\n",
       "[100 rows x 4 columns]"
      ]
     },
     "execution_count": 27,
     "metadata": {},
     "output_type": "execute_result"
    }
   ],
   "source": [
    "df"
   ]
  },
  {
   "cell_type": "code",
   "execution_count": 28,
   "metadata": {},
   "outputs": [],
   "source": [
    "additional_modalities = {\n",
    "    \"entity\": (\"../gpt_judgements/ex_qrels_bin_entity.txt\", \"e\"),\n",
    "    \"page_title\": (\"../gpt_judgements/ex_qrels_bin_page_title.txt\", \"pt\"),\n",
    "    \"text_before\": (\"../gpt_judgements/ex_qrels_bin_text_before.txt\", \"tb\"),\n",
    "    \"text_after\": (\"../gpt_judgements/ex_qrels_bin_text_after.txt\", \"ta\"),\n",
    "    \"table\": (\"../gpt_judgements/ex_qrels_bin_no_sys.txt\", \"t\")\n",
    "}\n",
    "\n",
    "for mod in additional_modalities.keys():\n",
    "    qrels = read_trec_qrels(additional_modalities[mod][0])\n",
    "    mod_cols = columns.copy()\n",
    "    mod_cols[-1] = mod_cols[-1][:-1] + additional_modalities[mod][1]\n",
    "    temp_df = pd.DataFrame(qrels, columns=mod_cols)\n",
    "    df[mod_cols[-1]] = temp_df[mod_cols[-1]].astype(int)"
   ]
  },
  {
   "cell_type": "markdown",
   "metadata": {},
   "source": [
    "## Collect Qrels data for all modalities"
   ]
  },
  {
   "cell_type": "code",
   "execution_count": 29,
   "metadata": {},
   "outputs": [],
   "source": [
    "wtr_modalities = [\n",
    "    (\"../rel_files/rel_entity_qrels.txt\", \"rel_e\", \"enitity\"),\n",
    "    (\"../rel_files/rel_PageTitle_qrels.txt\", \"rel_pt\", \"page_title\"),\n",
    "    (\"../rel_files/rel_table_qrels.txt\", \"rel_t\", \"table\"),\n",
    "    (\"../rel_files/rel_textAfter_qrels.txt\", \"rel_ta\", \"text_after\"),\n",
    "    (\"../rel_files/rel_textBefore_qrels.txt\", \"rel_tb\", \"text_before\")\n",
    "]\n",
    "df_wtr = df.copy()[df.columns[:3]]\n",
    "for path, name, mod in wtr_modalities:\n",
    "    q = read_trec_qrels(path)\n",
    "    temp_df = pd.DataFrame(q, columns=[\"topic_id\", \"it\", \"json_loc\", name])\n",
    "    temp_df[name] = temp_df[name].astype(float).astype(int)\n",
    "    temp_df.loc[temp_df[name] > 1, name] = 1    \n",
    "    temp_df_merged = df[[\"topic_id\", \"json_loc\"]].merge(temp_df, on=[\"json_loc\", \"topic_id\"])\n",
    "    df_wtr[name] = temp_df_merged[name]\n",
    "df_wtr = df_wtr[df.columns.tolist()]"
   ]
  },
  {
   "cell_type": "markdown",
   "metadata": {},
   "source": [
    "## $Cohen's K$ for every modality"
   ]
  },
  {
   "cell_type": "code",
   "execution_count": 33,
   "metadata": {},
   "outputs": [],
   "source": [
    "kappas = []\n",
    "for path, name, mod in wtr_modalities:\n",
    "    ratings = pd.concat([df_wtr[name], df[name]], axis=1)\n",
    "    table = to_table(ratings)\n",
    "    kappas.append(cohens_kappa(table[0]).kappa)"
   ]
  },
  {
   "cell_type": "code",
   "execution_count": 50,
   "metadata": {},
   "outputs": [],
   "source": [
    "index = list(zip(*wtr_modalities))[2]\n",
    "columns = [\"Cohen's K\"]\n",
    "cohens_df = pd.DataFrame(kappas, columns=columns, index=index)"
   ]
  },
  {
   "cell_type": "code",
   "execution_count": 73,
   "metadata": {},
   "outputs": [
    {
     "data": {
      "text/html": [
       "<div>\n",
       "<style scoped>\n",
       "    .dataframe tbody tr th:only-of-type {\n",
       "        vertical-align: middle;\n",
       "    }\n",
       "\n",
       "    .dataframe tbody tr th {\n",
       "        vertical-align: top;\n",
       "    }\n",
       "\n",
       "    .dataframe thead th {\n",
       "        text-align: right;\n",
       "    }\n",
       "</style>\n",
       "<table border=\"1\" class=\"dataframe\">\n",
       "  <thead>\n",
       "    <tr style=\"text-align: right;\">\n",
       "      <th></th>\n",
       "      <th>Cohen's K</th>\n",
       "    </tr>\n",
       "  </thead>\n",
       "  <tbody>\n",
       "    <tr>\n",
       "      <th>enitity</th>\n",
       "      <td>0.20</td>\n",
       "    </tr>\n",
       "    <tr>\n",
       "      <th>page_title</th>\n",
       "      <td>0.57</td>\n",
       "    </tr>\n",
       "    <tr>\n",
       "      <th>table</th>\n",
       "      <td>0.33</td>\n",
       "    </tr>\n",
       "    <tr>\n",
       "      <th>text_after</th>\n",
       "      <td>0.36</td>\n",
       "    </tr>\n",
       "    <tr>\n",
       "      <th>text_before</th>\n",
       "      <td>0.16</td>\n",
       "    </tr>\n",
       "  </tbody>\n",
       "</table>\n",
       "</div>"
      ],
      "text/plain": [
       "             Cohen's K\n",
       "enitity           0.20\n",
       "page_title        0.57\n",
       "table             0.33\n",
       "text_after        0.36\n",
       "text_before       0.16"
      ]
     },
     "execution_count": 73,
     "metadata": {},
     "output_type": "execute_result"
    }
   ],
   "source": [
    "cohens_df.round(2)"
   ]
  },
  {
   "cell_type": "markdown",
   "metadata": {},
   "source": [
    "## Append all ratings compute a $Cohens K$"
   ]
  },
  {
   "cell_type": "code",
   "execution_count": 35,
   "metadata": {},
   "outputs": [],
   "source": [
    "df_collapsed_wtr = df_wtr[df_wtr.columns[0:3]].copy()\n",
    "df_collapsed_wtr[\"fields_collapsed\"] = df_wtr[df_wtr.columns[3:7]].values.tolist()\n",
    "df_collapsed_wtr[\"modalities\"] = list(repeat(df_wtr.columns[3:7].values.tolist(), times=100))\n",
    "df_collapsed_wtr = df_collapsed_wtr.explode([\"fields_collapsed\", \"modalities\"])"
   ]
  },
  {
   "cell_type": "code",
   "execution_count": 36,
   "metadata": {},
   "outputs": [],
   "source": [
    "df_collapsed = df[df.columns[0:3]].copy()\n",
    "df_collapsed[\"fields_collapsed\"] = df[df.columns[3:7]].values.tolist()\n",
    "df_collapsed[\"modalities\"] = list(repeat(df.columns[3:7].values.tolist(), times=100))\n",
    "df_collapsed = df_collapsed.explode([\"fields_collapsed\", \"modalities\"])"
   ]
  },
  {
   "cell_type": "code",
   "execution_count": 37,
   "metadata": {},
   "outputs": [],
   "source": [
    "all_ratings = pd.concat([df_collapsed[\"fields_collapsed\"], df_collapsed_wtr[\"fields_collapsed\"]], axis=1)\n",
    "all_ratings.columns = [\"gpt\", \"wtr\"]"
   ]
  },
  {
   "cell_type": "markdown",
   "metadata": {},
   "source": [
    "## Confusion Matrix all modalities"
   ]
  },
  {
   "cell_type": "code",
   "execution_count": 69,
   "metadata": {},
   "outputs": [
    {
     "data": {
      "text/html": [
       "<div>\n",
       "<style scoped>\n",
       "    .dataframe tbody tr th:only-of-type {\n",
       "        vertical-align: middle;\n",
       "    }\n",
       "\n",
       "    .dataframe tbody tr th {\n",
       "        vertical-align: top;\n",
       "    }\n",
       "\n",
       "    .dataframe thead th {\n",
       "        text-align: right;\n",
       "    }\n",
       "</style>\n",
       "<table border=\"1\" class=\"dataframe\">\n",
       "  <thead>\n",
       "    <tr style=\"text-align: right;\">\n",
       "      <th></th>\n",
       "      <th>GPT-3.5 Judgements</th>\n",
       "      <th>0</th>\n",
       "      <th>1</th>\n",
       "    </tr>\n",
       "    <tr>\n",
       "      <th>Modalities</th>\n",
       "      <th>WTR judgements</th>\n",
       "      <th></th>\n",
       "      <th></th>\n",
       "    </tr>\n",
       "  </thead>\n",
       "  <tbody>\n",
       "    <tr>\n",
       "      <th rowspan=\"2\" valign=\"top\">enitity</th>\n",
       "      <th>0</th>\n",
       "      <td>45</td>\n",
       "      <td>27</td>\n",
       "    </tr>\n",
       "    <tr>\n",
       "      <th>1</th>\n",
       "      <td>11</td>\n",
       "      <td>17</td>\n",
       "    </tr>\n",
       "    <tr>\n",
       "      <th rowspan=\"2\" valign=\"top\">page_title</th>\n",
       "      <th>0</th>\n",
       "      <td>58</td>\n",
       "      <td>9</td>\n",
       "    </tr>\n",
       "    <tr>\n",
       "      <th>1</th>\n",
       "      <td>10</td>\n",
       "      <td>23</td>\n",
       "    </tr>\n",
       "    <tr>\n",
       "      <th rowspan=\"2\" valign=\"top\">table</th>\n",
       "      <th>0</th>\n",
       "      <td>45</td>\n",
       "      <td>20</td>\n",
       "    </tr>\n",
       "    <tr>\n",
       "      <th>1</th>\n",
       "      <td>12</td>\n",
       "      <td>23</td>\n",
       "    </tr>\n",
       "    <tr>\n",
       "      <th rowspan=\"2\" valign=\"top\">text_after</th>\n",
       "      <th>0</th>\n",
       "      <td>64</td>\n",
       "      <td>5</td>\n",
       "    </tr>\n",
       "    <tr>\n",
       "      <th>1</th>\n",
       "      <td>19</td>\n",
       "      <td>12</td>\n",
       "    </tr>\n",
       "    <tr>\n",
       "      <th rowspan=\"2\" valign=\"top\">text_before</th>\n",
       "      <th>0</th>\n",
       "      <td>66</td>\n",
       "      <td>2</td>\n",
       "    </tr>\n",
       "    <tr>\n",
       "      <th>1</th>\n",
       "      <td>27</td>\n",
       "      <td>5</td>\n",
       "    </tr>\n",
       "  </tbody>\n",
       "</table>\n",
       "</div>"
      ],
      "text/plain": [
       "GPT-3.5 Judgements           0   1\n",
       "Modalities  WTR judgements        \n",
       "enitity     0               45  27\n",
       "            1               11  17\n",
       "page_title  0               58   9\n",
       "            1               10  23\n",
       "table       0               45  20\n",
       "            1               12  23\n",
       "text_after  0               64   5\n",
       "            1               19  12\n",
       "text_before 0               66   2\n",
       "            1               27   5"
      ]
     },
     "execution_count": 69,
     "metadata": {},
     "output_type": "execute_result"
    }
   ],
   "source": [
    "conf_matricies = []\n",
    "columns = []\n",
    "for idx, (path, name, mod) in enumerate(wtr_modalities):\n",
    "    pred = pd.Series(df[name], name=\"GPT-3.5 Judgements\")\n",
    "    actu = pd.Series(df_wtr[name], name=\"WTR\")\n",
    "    conf_matricies.append(pd.crosstab(actu, pred).T)\n",
    "\n",
    "    for x in (0, 1):\n",
    "            columns.append((mod, x))\n",
    "\n",
    "    # columns.append(\"$K$\")\n",
    "\n",
    "conf_comp = pd.concat(conf_matricies, axis=1)\n",
    "conf_comp.columns = pd.MultiIndex.from_tuples(columns, names=[\"Modalities\", \"WTR judgements\"])\n",
    "conf_comp.T"
   ]
  },
  {
   "cell_type": "code",
   "execution_count": 74,
   "metadata": {},
   "outputs": [
    {
     "data": {
      "text/html": [
       "<div>\n",
       "<style scoped>\n",
       "    .dataframe tbody tr th:only-of-type {\n",
       "        vertical-align: middle;\n",
       "    }\n",
       "\n",
       "    .dataframe tbody tr th {\n",
       "        vertical-align: top;\n",
       "    }\n",
       "\n",
       "    .dataframe thead th {\n",
       "        text-align: right;\n",
       "    }\n",
       "</style>\n",
       "<table border=\"1\" class=\"dataframe\">\n",
       "  <thead>\n",
       "    <tr style=\"text-align: right;\">\n",
       "      <th></th>\n",
       "      <th>Cohen's K</th>\n",
       "    </tr>\n",
       "  </thead>\n",
       "  <tbody>\n",
       "    <tr>\n",
       "      <th>enitity</th>\n",
       "      <td>0.20</td>\n",
       "    </tr>\n",
       "    <tr>\n",
       "      <th>page_title</th>\n",
       "      <td>0.57</td>\n",
       "    </tr>\n",
       "    <tr>\n",
       "      <th>table</th>\n",
       "      <td>0.33</td>\n",
       "    </tr>\n",
       "    <tr>\n",
       "      <th>text_after</th>\n",
       "      <td>0.36</td>\n",
       "    </tr>\n",
       "    <tr>\n",
       "      <th>text_before</th>\n",
       "      <td>0.16</td>\n",
       "    </tr>\n",
       "  </tbody>\n",
       "</table>\n",
       "</div>"
      ],
      "text/plain": [
       "             Cohen's K\n",
       "enitity           0.20\n",
       "page_title        0.57\n",
       "table             0.33\n",
       "text_after        0.36\n",
       "text_before       0.16"
      ]
     },
     "execution_count": 74,
     "metadata": {},
     "output_type": "execute_result"
    }
   ],
   "source": [
    "cohens_df.round(2)"
   ]
  },
  {
   "cell_type": "markdown",
   "metadata": {},
   "source": [
    "## $Cohen's K$ between any two fields"
   ]
  },
  {
   "cell_type": "code",
   "execution_count": 39,
   "metadata": {},
   "outputs": [],
   "source": [
    "two_field_agreement_data = []\n",
    "for mod_a in additional_modalities.keys():\n",
    "    table_col = []\n",
    "    for mod_b in additional_modalities.keys():\n",
    "        cols = [\"rel_\" + additional_modalities[mod_a][1], \"rel_\" + additional_modalities[mod_b][1]]\n",
    "\n",
    "        # Get unique categories from both raters\n",
    "        categories = sorted(set(df[cols[0]].unique()) | set(df[cols[1]].unique()))\n",
    "\n",
    "        # Create a square array with counts of ratings for both raters\n",
    "        table = pd.crosstab(df[cols[0]], df[cols[1]], rownames=[cols[0]], colnames=[cols[1]])\n",
    "        table = table.reindex(columns=categories, index=categories, fill_value=0).values\n",
    "        table_col.append(\n",
    "            cohens_kappa(\n",
    "                table, None, None\n",
    "            )\n",
    "        )\n",
    "    two_field_agreement_data.append(table_col)"
   ]
  },
  {
   "cell_type": "code",
   "execution_count": 42,
   "metadata": {},
   "outputs": [
    {
     "data": {
      "text/html": [
       "<style type=\"text/css\">\n",
       "#T_534c3_row0_col4, #T_534c3_row1_col4, #T_534c3_row2_col3, #T_534c3_row3_col2, #T_534c3_row3_col4, #T_534c3_row4_col0, #T_534c3_row4_col1, #T_534c3_row4_col3 {\n",
       "  font-weight: bold;\n",
       "}\n",
       "</style>\n",
       "<table id=\"T_534c3\">\n",
       "  <thead>\n",
       "    <tr>\n",
       "      <th class=\"blank level0\" >&nbsp;</th>\n",
       "      <th id=\"T_534c3_level0_col0\" class=\"col_heading level0 col0\" >entity</th>\n",
       "      <th id=\"T_534c3_level0_col1\" class=\"col_heading level0 col1\" >page_title</th>\n",
       "      <th id=\"T_534c3_level0_col2\" class=\"col_heading level0 col2\" >text_before</th>\n",
       "      <th id=\"T_534c3_level0_col3\" class=\"col_heading level0 col3\" >text_after</th>\n",
       "      <th id=\"T_534c3_level0_col4\" class=\"col_heading level0 col4\" >table</th>\n",
       "    </tr>\n",
       "  </thead>\n",
       "  <tbody>\n",
       "    <tr>\n",
       "      <th id=\"T_534c3_level0_row0\" class=\"row_heading level0 row0\" >entity</th>\n",
       "      <td id=\"T_534c3_row0_col0\" class=\"data row0 col0\" >1.000000</td>\n",
       "      <td id=\"T_534c3_row0_col1\" class=\"data row0 col1\" >0.247492</td>\n",
       "      <td id=\"T_534c3_row0_col2\" class=\"data row0 col2\" >0.085638</td>\n",
       "      <td id=\"T_534c3_row0_col3\" class=\"data row0 col3\" >0.109470</td>\n",
       "      <td id=\"T_534c3_row0_col4\" class=\"data row0 col4\" >0.328723</td>\n",
       "    </tr>\n",
       "    <tr>\n",
       "      <th id=\"T_534c3_level0_row1\" class=\"row_heading level0 row1\" >page_title</th>\n",
       "      <td id=\"T_534c3_row1_col0\" class=\"data row1 col0\" >0.247492</td>\n",
       "      <td id=\"T_534c3_row1_col1\" class=\"data row1 col1\" >1.000000</td>\n",
       "      <td id=\"T_534c3_row1_col2\" class=\"data row1 col2\" >0.159907</td>\n",
       "      <td id=\"T_534c3_row1_col3\" class=\"data row1 col3\" >0.239244</td>\n",
       "      <td id=\"T_534c3_row1_col4\" class=\"data row1 col4\" >0.347094</td>\n",
       "    </tr>\n",
       "    <tr>\n",
       "      <th id=\"T_534c3_level0_row2\" class=\"row_heading level0 row2\" >text_before</th>\n",
       "      <td id=\"T_534c3_row2_col0\" class=\"data row2 col0\" >0.085638</td>\n",
       "      <td id=\"T_534c3_row2_col1\" class=\"data row2 col1\" >0.159907</td>\n",
       "      <td id=\"T_534c3_row2_col2\" class=\"data row2 col2\" >1.000000</td>\n",
       "      <td id=\"T_534c3_row2_col3\" class=\"data row2 col3\" >0.259944</td>\n",
       "      <td id=\"T_534c3_row2_col4\" class=\"data row2 col4\" >0.135971</td>\n",
       "    </tr>\n",
       "    <tr>\n",
       "      <th id=\"T_534c3_level0_row3\" class=\"row_heading level0 row3\" >text_after</th>\n",
       "      <td id=\"T_534c3_row3_col0\" class=\"data row3 col0\" >0.109470</td>\n",
       "      <td id=\"T_534c3_row3_col1\" class=\"data row3 col1\" >0.239244</td>\n",
       "      <td id=\"T_534c3_row3_col2\" class=\"data row3 col2\" >0.259944</td>\n",
       "      <td id=\"T_534c3_row3_col3\" class=\"data row3 col3\" >1.000000</td>\n",
       "      <td id=\"T_534c3_row3_col4\" class=\"data row3 col4\" >0.250771</td>\n",
       "    </tr>\n",
       "    <tr>\n",
       "      <th id=\"T_534c3_level0_row4\" class=\"row_heading level0 row4\" >table</th>\n",
       "      <td id=\"T_534c3_row4_col0\" class=\"data row4 col0\" >0.328723</td>\n",
       "      <td id=\"T_534c3_row4_col1\" class=\"data row4 col1\" >0.347094</td>\n",
       "      <td id=\"T_534c3_row4_col2\" class=\"data row4 col2\" >0.135971</td>\n",
       "      <td id=\"T_534c3_row4_col3\" class=\"data row4 col3\" >0.250771</td>\n",
       "      <td id=\"T_534c3_row4_col4\" class=\"data row4 col4\" >1.000000</td>\n",
       "    </tr>\n",
       "  </tbody>\n",
       "</table>\n"
      ],
      "text/plain": [
       "<pandas.io.formats.style.Styler at 0x7ffb7dc33d10>"
      ]
     },
     "execution_count": 42,
     "metadata": {},
     "output_type": "execute_result"
    }
   ],
   "source": [
    "pd.DataFrame(two_field_agreement_data, columns=additional_modalities.keys(), index=additional_modalities.keys()).style.highlight_between(axis=0, left=0.25, right=0.4, props=\"font-weight:bold\")"
   ]
  },
  {
   "cell_type": "markdown",
   "metadata": {},
   "source": [
    "## Fleiss Kappa between all fields"
   ]
  },
  {
   "cell_type": "code",
   "execution_count": 41,
   "metadata": {},
   "outputs": [
    {
     "data": {
      "text/plain": [
       "0.1968815498227266"
      ]
     },
     "execution_count": 41,
     "metadata": {},
     "output_type": "execute_result"
    }
   ],
   "source": [
    "fleiss_kappa(aggregate_raters(df[df.columns[3:]])[0])"
   ]
  },
  {
   "cell_type": "code",
   "execution_count": null,
   "metadata": {},
   "outputs": [],
   "source": []
  }
 ],
 "metadata": {
  "kernelspec": {
   "display_name": "Python 3",
   "language": "python",
   "name": "python3"
  },
  "language_info": {
   "codemirror_mode": {
    "name": "ipython",
    "version": 3
   },
   "file_extension": ".py",
   "mimetype": "text/x-python",
   "name": "python",
   "nbconvert_exporter": "python",
   "pygments_lexer": "ipython3",
   "version": "3.12.0"
  }
 },
 "nbformat": 4,
 "nbformat_minor": 2
}
