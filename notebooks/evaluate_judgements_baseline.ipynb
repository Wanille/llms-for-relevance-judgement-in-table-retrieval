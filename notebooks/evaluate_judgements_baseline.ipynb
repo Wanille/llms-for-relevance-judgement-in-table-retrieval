{
 "cells": [
  {
   "cell_type": "code",
   "execution_count": 3,
   "metadata": {},
   "outputs": [],
   "source": [
    "from LLmsfJiT import read_trec_qrels\n",
    "import pandas as pd\n",
    "from sklearn.metrics import confusion_matrix, cohen_kappa_score\n",
    "from itertools import repeat"
   ]
  },
  {
   "cell_type": "markdown",
   "metadata": {},
   "source": [
    "## Read Files"
   ]
  },
  {
   "cell_type": "code",
   "execution_count": 42,
   "metadata": {},
   "outputs": [],
   "source": [
    "human_qrels = read_trec_qrels(\"../rel_files/rel_table_qrels_sample_100.txt\")\n",
    "df = pd.DataFrame(human_qrels, columns=[\"Topic\", \"It\", \"Doc\", \"Rel_Human\"])\n",
    "\n",
    "gpt_split = read_trec_qrels(\"../gpt_judgements/ex_qrels.txt\") # split\n",
    "gpt_split_bin = read_trec_qrels(\"../gpt_judgements/ex_qrels_bin_sys.txt\") # split binary\n",
    "gpt_split_bin_topic = read_trec_qrels(\"../gpt_judgements/ex_qrels_bin_topic_in_sys.txt\") # split binary topic\n",
    "gpt_split_topic = read_trec_qrels(\"../gpt_judgements/ex_qrels_topic_in_sys.txt\") # split topic\n",
    "gpt_bin = read_trec_qrels(\"../gpt_judgements/ex_qrels_bin_no_sys.txt\") # binary \n",
    "gpt_bin_topic = read_trec_qrels(\"../gpt_judgements/ex_qrels_bin_topic.txt\") # binary topic \n",
    "gpt_topic = read_trec_qrels(\"../gpt_judgements/ex_qrels_topic.txt\") # topic \n",
    "gpt = read_trec_qrels(\"../gpt_judgements/ex_qrels_A.txt\") # \n",
    "\n",
    "gpt_split_df = pd.DataFrame(gpt_split, columns=[\"Topic\", \"It\", \"Doc\", \"Rel_GPT_split\"])\n",
    "gpt_split_bin_df = pd.DataFrame(gpt_split_bin, columns=[\"Topic\", \"It\", \"Doc\", \"Rel_GPT_split_bin\"])\n",
    "gpt_split_bin_topic_df = pd.DataFrame(gpt_split_bin_topic, columns=[\"Topic\", \"It\", \"Doc\", \"Rel_GPT_split_bin_topic\"])\n",
    "gpt_split_topic_df = pd.DataFrame(gpt_split_topic, columns=[\"Topic\", \"It\", \"Doc\", \"Rel_GPT_split_topic\"])\n",
    "gpt_bin_df = pd.DataFrame(gpt_bin, columns=[\"Topic\", \"It\", \"Doc\", \"Rel_GPT_bin\"])\n",
    "gpt_bin_topic_df = pd.DataFrame(gpt_bin_topic, columns=[\"Topic\", \"It\", \"Doc\", \"Rel_GPT_bin_topic\"])\n",
    "gpt_topic_df = pd.DataFrame(gpt_topic, columns=[\"Topic\", \"It\", \"Doc\", \"Rel_GPT_topic\"])\n",
    "gpt_df = pd.DataFrame(gpt, columns=[\"Topic\", \"It\", \"Doc\", \"Rel_GPT\"])\n",
    "\n",
    "df[\"Rel_Human\"] = df[\"Rel_Human\"].astype(int)\n",
    "\n",
    "df[\"Rel_GPT_split\"] = gpt_split_df[\"Rel_GPT_split\"].astype(int)\n",
    "df[\"Rel_GPT_split_bin\"] = gpt_split_bin_df[\"Rel_GPT_split_bin\"].astype(int)\n",
    "df[\"Rel_GPT_split_bin_topic\"] = gpt_split_bin_topic_df[\"Rel_GPT_split_bin_topic\"].astype(int)\n",
    "df[\"Rel_GPT_split_topic\"] = gpt_split_topic_df[\"Rel_GPT_split_topic\"].astype(int)\n",
    "df[\"Rel_GPT_bin\"] = gpt_bin_df[\"Rel_GPT_bin\"].astype(int)\n",
    "df[\"Rel_GPT_bin_topic\"] = gpt_bin_topic_df[\"Rel_GPT_bin_topic\"].astype(int)\n",
    "df[\"Rel_GPT_topic\"] = gpt_topic_df[\"Rel_GPT_topic\"].astype(int)\n",
    "df[\"Rel_GPT\"] = gpt_df[\"Rel_GPT\"].astype(int)\n",
    "\n",
    "df.loc[df[\"Rel_Human\"] == 0, \"Rel_Human_bin\"] = 0\n",
    "df.loc[df[\"Rel_Human\"] > 0, \"Rel_Human_bin\"] = 1\n",
    "df[\"Rel_Human_bin\"] = df[\"Rel_Human_bin\"].astype(int)"
   ]
  },
  {
   "cell_type": "code",
   "execution_count": 43,
   "metadata": {},
   "outputs": [
    {
     "data": {
      "text/html": [
       "<div>\n",
       "<style scoped>\n",
       "    .dataframe tbody tr th:only-of-type {\n",
       "        vertical-align: middle;\n",
       "    }\n",
       "\n",
       "    .dataframe tbody tr th {\n",
       "        vertical-align: top;\n",
       "    }\n",
       "\n",
       "    .dataframe thead th {\n",
       "        text-align: right;\n",
       "    }\n",
       "</style>\n",
       "<table border=\"1\" class=\"dataframe\">\n",
       "  <thead>\n",
       "    <tr style=\"text-align: right;\">\n",
       "      <th></th>\n",
       "      <th>Topic</th>\n",
       "      <th>It</th>\n",
       "      <th>Doc</th>\n",
       "      <th>Rel_Human</th>\n",
       "      <th>Rel_GPT_split</th>\n",
       "      <th>Rel_GPT_split_bin</th>\n",
       "      <th>Rel_GPT_split_bin_topic</th>\n",
       "      <th>Rel_GPT_split_topic</th>\n",
       "      <th>Rel_GPT_bin</th>\n",
       "      <th>Rel_GPT_bin_topic</th>\n",
       "      <th>Rel_GPT_topic</th>\n",
       "      <th>Rel_GPT</th>\n",
       "      <th>Rel_Human_bin</th>\n",
       "    </tr>\n",
       "  </thead>\n",
       "  <tbody>\n",
       "    <tr>\n",
       "      <th>0</th>\n",
       "      <td>55</td>\n",
       "      <td>0</td>\n",
       "      <td>5/1438042988718.8_20150728002308-00148-ip-10-2...</td>\n",
       "      <td>1</td>\n",
       "      <td>1</td>\n",
       "      <td>1</td>\n",
       "      <td>1</td>\n",
       "      <td>1</td>\n",
       "      <td>1</td>\n",
       "      <td>1</td>\n",
       "      <td>1</td>\n",
       "      <td>1</td>\n",
       "      <td>1</td>\n",
       "    </tr>\n",
       "    <tr>\n",
       "      <th>1</th>\n",
       "      <td>25</td>\n",
       "      <td>0</td>\n",
       "      <td>11/1438042981460.12_20150728002301-00113-ip-10...</td>\n",
       "      <td>0</td>\n",
       "      <td>0</td>\n",
       "      <td>0</td>\n",
       "      <td>0</td>\n",
       "      <td>0</td>\n",
       "      <td>0</td>\n",
       "      <td>0</td>\n",
       "      <td>0</td>\n",
       "      <td>1</td>\n",
       "      <td>0</td>\n",
       "    </tr>\n",
       "    <tr>\n",
       "      <th>2</th>\n",
       "      <td>24</td>\n",
       "      <td>0</td>\n",
       "      <td>13/1438042989891.18_20150728002309-00180-ip-10...</td>\n",
       "      <td>2</td>\n",
       "      <td>1</td>\n",
       "      <td>1</td>\n",
       "      <td>1</td>\n",
       "      <td>1</td>\n",
       "      <td>1</td>\n",
       "      <td>1</td>\n",
       "      <td>1</td>\n",
       "      <td>1</td>\n",
       "      <td>1</td>\n",
       "    </tr>\n",
       "    <tr>\n",
       "      <th>3</th>\n",
       "      <td>55</td>\n",
       "      <td>0</td>\n",
       "      <td>39/1438043062723.96_20150728002422-00055-ip-10...</td>\n",
       "      <td>0</td>\n",
       "      <td>1</td>\n",
       "      <td>0</td>\n",
       "      <td>0</td>\n",
       "      <td>0</td>\n",
       "      <td>0</td>\n",
       "      <td>0</td>\n",
       "      <td>0</td>\n",
       "      <td>1</td>\n",
       "      <td>0</td>\n",
       "    </tr>\n",
       "    <tr>\n",
       "      <th>4</th>\n",
       "      <td>32</td>\n",
       "      <td>0</td>\n",
       "      <td>48/1438042987775.70_20150728002307-00036-ip-10...</td>\n",
       "      <td>0</td>\n",
       "      <td>0</td>\n",
       "      <td>0</td>\n",
       "      <td>0</td>\n",
       "      <td>0</td>\n",
       "      <td>0</td>\n",
       "      <td>0</td>\n",
       "      <td>0</td>\n",
       "      <td>0</td>\n",
       "      <td>0</td>\n",
       "    </tr>\n",
       "    <tr>\n",
       "      <th>...</th>\n",
       "      <td>...</td>\n",
       "      <td>...</td>\n",
       "      <td>...</td>\n",
       "      <td>...</td>\n",
       "      <td>...</td>\n",
       "      <td>...</td>\n",
       "      <td>...</td>\n",
       "      <td>...</td>\n",
       "      <td>...</td>\n",
       "      <td>...</td>\n",
       "      <td>...</td>\n",
       "      <td>...</td>\n",
       "      <td>...</td>\n",
       "    </tr>\n",
       "    <tr>\n",
       "      <th>95</th>\n",
       "      <td>24</td>\n",
       "      <td>0</td>\n",
       "      <td>32/1438042990603.54_20150728002310-00051-ip-10...</td>\n",
       "      <td>0</td>\n",
       "      <td>1</td>\n",
       "      <td>1</td>\n",
       "      <td>1</td>\n",
       "      <td>1</td>\n",
       "      <td>1</td>\n",
       "      <td>1</td>\n",
       "      <td>1</td>\n",
       "      <td>1</td>\n",
       "      <td>0</td>\n",
       "    </tr>\n",
       "    <tr>\n",
       "      <th>96</th>\n",
       "      <td>14</td>\n",
       "      <td>0</td>\n",
       "      <td>5/1438042988718.8_20150728002308-00150-ip-10-2...</td>\n",
       "      <td>0</td>\n",
       "      <td>2</td>\n",
       "      <td>1</td>\n",
       "      <td>1</td>\n",
       "      <td>2</td>\n",
       "      <td>1</td>\n",
       "      <td>1</td>\n",
       "      <td>2</td>\n",
       "      <td>2</td>\n",
       "      <td>0</td>\n",
       "    </tr>\n",
       "    <tr>\n",
       "      <th>97</th>\n",
       "      <td>49</td>\n",
       "      <td>0</td>\n",
       "      <td>46/1438042988922.24_20150728002308-00185-ip-10...</td>\n",
       "      <td>0</td>\n",
       "      <td>0</td>\n",
       "      <td>0</td>\n",
       "      <td>0</td>\n",
       "      <td>0</td>\n",
       "      <td>0</td>\n",
       "      <td>0</td>\n",
       "      <td>0</td>\n",
       "      <td>1</td>\n",
       "      <td>0</td>\n",
       "    </tr>\n",
       "    <tr>\n",
       "      <th>98</th>\n",
       "      <td>57</td>\n",
       "      <td>0</td>\n",
       "      <td>31/1438042989018.48_20150728002309-00112-ip-10...</td>\n",
       "      <td>0</td>\n",
       "      <td>0</td>\n",
       "      <td>0</td>\n",
       "      <td>0</td>\n",
       "      <td>0</td>\n",
       "      <td>0</td>\n",
       "      <td>0</td>\n",
       "      <td>0</td>\n",
       "      <td>1</td>\n",
       "      <td>0</td>\n",
       "    </tr>\n",
       "    <tr>\n",
       "      <th>99</th>\n",
       "      <td>47</td>\n",
       "      <td>0</td>\n",
       "      <td>39/1438042988305.14_20150728002308-00213-ip-10...</td>\n",
       "      <td>0</td>\n",
       "      <td>0</td>\n",
       "      <td>0</td>\n",
       "      <td>0</td>\n",
       "      <td>0</td>\n",
       "      <td>0</td>\n",
       "      <td>0</td>\n",
       "      <td>0</td>\n",
       "      <td>1</td>\n",
       "      <td>0</td>\n",
       "    </tr>\n",
       "  </tbody>\n",
       "</table>\n",
       "<p>100 rows × 13 columns</p>\n",
       "</div>"
      ],
      "text/plain": [
       "   Topic It                                                Doc  Rel_Human  \\\n",
       "0     55  0  5/1438042988718.8_20150728002308-00148-ip-10-2...          1   \n",
       "1     25  0  11/1438042981460.12_20150728002301-00113-ip-10...          0   \n",
       "2     24  0  13/1438042989891.18_20150728002309-00180-ip-10...          2   \n",
       "3     55  0  39/1438043062723.96_20150728002422-00055-ip-10...          0   \n",
       "4     32  0  48/1438042987775.70_20150728002307-00036-ip-10...          0   \n",
       "..   ... ..                                                ...        ...   \n",
       "95    24  0  32/1438042990603.54_20150728002310-00051-ip-10...          0   \n",
       "96    14  0  5/1438042988718.8_20150728002308-00150-ip-10-2...          0   \n",
       "97    49  0  46/1438042988922.24_20150728002308-00185-ip-10...          0   \n",
       "98    57  0  31/1438042989018.48_20150728002309-00112-ip-10...          0   \n",
       "99    47  0  39/1438042988305.14_20150728002308-00213-ip-10...          0   \n",
       "\n",
       "    Rel_GPT_split  Rel_GPT_split_bin  Rel_GPT_split_bin_topic  \\\n",
       "0               1                  1                        1   \n",
       "1               0                  0                        0   \n",
       "2               1                  1                        1   \n",
       "3               1                  0                        0   \n",
       "4               0                  0                        0   \n",
       "..            ...                ...                      ...   \n",
       "95              1                  1                        1   \n",
       "96              2                  1                        1   \n",
       "97              0                  0                        0   \n",
       "98              0                  0                        0   \n",
       "99              0                  0                        0   \n",
       "\n",
       "    Rel_GPT_split_topic  Rel_GPT_bin  Rel_GPT_bin_topic  Rel_GPT_topic  \\\n",
       "0                     1            1                  1              1   \n",
       "1                     0            0                  0              0   \n",
       "2                     1            1                  1              1   \n",
       "3                     0            0                  0              0   \n",
       "4                     0            0                  0              0   \n",
       "..                  ...          ...                ...            ...   \n",
       "95                    1            1                  1              1   \n",
       "96                    2            1                  1              2   \n",
       "97                    0            0                  0              0   \n",
       "98                    0            0                  0              0   \n",
       "99                    0            0                  0              0   \n",
       "\n",
       "    Rel_GPT  Rel_Human_bin  \n",
       "0         1              1  \n",
       "1         1              0  \n",
       "2         1              1  \n",
       "3         1              0  \n",
       "4         0              0  \n",
       "..      ...            ...  \n",
       "95        1              0  \n",
       "96        2              0  \n",
       "97        1              0  \n",
       "98        1              0  \n",
       "99        1              0  \n",
       "\n",
       "[100 rows x 13 columns]"
      ]
     },
     "execution_count": 43,
     "metadata": {},
     "output_type": "execute_result"
    }
   ],
   "source": [
    "df"
   ]
  },
  {
   "cell_type": "markdown",
   "metadata": {},
   "source": [
    "## $A$ (split)"
   ]
  },
  {
   "cell_type": "code",
   "execution_count": 60,
   "metadata": {},
   "outputs": [
    {
     "data": {
      "text/html": [
       "<style type=\"text/css\">\n",
       "#T_c0150_row0_col0, #T_c0150_row0_col1, #T_c0150_row1_col1, #T_c0150_row2_col1 {\n",
       "  font-weight: bold;\n",
       "}\n",
       "</style>\n",
       "<table id=\"T_c0150\">\n",
       "  <thead>\n",
       "    <tr>\n",
       "      <th class=\"blank\" >&nbsp;</th>\n",
       "      <th class=\"blank level0\" >&nbsp;</th>\n",
       "      <th id=\"T_c0150_level0_col0\" class=\"col_heading level0 col0\" colspan=\"3\">GPT-3.5</th>\n",
       "    </tr>\n",
       "    <tr>\n",
       "      <th class=\"blank\" >&nbsp;</th>\n",
       "      <th class=\"blank level1\" >&nbsp;</th>\n",
       "      <th id=\"T_c0150_level1_col0\" class=\"col_heading level1 col0\" >0</th>\n",
       "      <th id=\"T_c0150_level1_col1\" class=\"col_heading level1 col1\" >1</th>\n",
       "      <th id=\"T_c0150_level1_col2\" class=\"col_heading level1 col2\" >2</th>\n",
       "    </tr>\n",
       "  </thead>\n",
       "  <tbody>\n",
       "    <tr>\n",
       "      <th id=\"T_c0150_level0_row0\" class=\"row_heading level0 row0\" rowspan=\"3\">WTR Assesors</th>\n",
       "      <th id=\"T_c0150_level1_row0\" class=\"row_heading level1 row0\" >0</th>\n",
       "      <td id=\"T_c0150_row0_col0\" class=\"data row0 col0\" >30</td>\n",
       "      <td id=\"T_c0150_row0_col1\" class=\"data row0 col1\" >30</td>\n",
       "      <td id=\"T_c0150_row0_col2\" class=\"data row0 col2\" >5</td>\n",
       "    </tr>\n",
       "    <tr>\n",
       "      <th id=\"T_c0150_level1_row1\" class=\"row_heading level1 row1\" >1</th>\n",
       "      <td id=\"T_c0150_row1_col0\" class=\"data row1 col0\" >4</td>\n",
       "      <td id=\"T_c0150_row1_col1\" class=\"data row1 col1\" >11</td>\n",
       "      <td id=\"T_c0150_row1_col2\" class=\"data row1 col2\" >2</td>\n",
       "    </tr>\n",
       "    <tr>\n",
       "      <th id=\"T_c0150_level1_row2\" class=\"row_heading level1 row2\" >2</th>\n",
       "      <td id=\"T_c0150_row2_col0\" class=\"data row2 col0\" >1</td>\n",
       "      <td id=\"T_c0150_row2_col1\" class=\"data row2 col1\" >11</td>\n",
       "      <td id=\"T_c0150_row2_col2\" class=\"data row2 col2\" >6</td>\n",
       "    </tr>\n",
       "  </tbody>\n",
       "</table>\n"
      ],
      "text/plain": [
       "<pandas.io.formats.style.Styler at 0x7f23bdbd8500>"
      ]
     },
     "metadata": {},
     "output_type": "display_data"
    },
    {
     "name": "stdout",
     "output_type": "stream",
     "text": [
      "Cohen's K: 0.2\n"
     ]
    }
   ],
   "source": [
    "cm = confusion_matrix(y_true=df[\"Rel_Human\"], y_pred=df[\"Rel_GPT_split\"])\n",
    "cohens_k = round(cohen_kappa_score(df[\"Rel_Human\"], df[\"Rel_GPT_split\"]), 2)\n",
    "\n",
    "idx_rows = pd.MultiIndex.from_tuples(list(zip(repeat(\"WTR Assesors\"), sorted(df[\"Rel_Human\"].unique()))))\n",
    "idx_cols = pd.MultiIndex.from_tuples(list(zip(repeat(\"GPT-3.5\"), sorted(df[\"Rel_GPT_split\"].unique()))))\n",
    "\n",
    "a = pd.DataFrame(\n",
    "    data=cm,\n",
    "    index = idx_rows,\n",
    "    columns=idx_cols\n",
    ").T\n",
    "\n",
    "display(a.T.style.highlight_max(axis=1, props='font-weight:bold'))\n",
    "print(\"Cohen's K:\", cohens_k)\n",
    "        # .to_latex(\n",
    "        #     hrules=True,\n",
    "        #     multirow_align=\"t\",\n",
    "        #     caption=\"Rater agreement between GPT-3.5 and WTR Assesors\",\n",
    "        # )\n"
   ]
  },
  {
   "cell_type": "markdown",
   "metadata": {},
   "source": [
    "## $B$ (split | binary)"
   ]
  },
  {
   "cell_type": "code",
   "execution_count": 59,
   "metadata": {},
   "outputs": [
    {
     "data": {
      "text/html": [
       "<style type=\"text/css\">\n",
       "#T_ff83d_row0_col0, #T_ff83d_row1_col0 {\n",
       "  font-weight: bold;\n",
       "}\n",
       "</style>\n",
       "<table id=\"T_ff83d\">\n",
       "  <thead>\n",
       "    <tr>\n",
       "      <th class=\"blank\" >&nbsp;</th>\n",
       "      <th class=\"blank level0\" >&nbsp;</th>\n",
       "      <th id=\"T_ff83d_level0_col0\" class=\"col_heading level0 col0\" colspan=\"3\">WTR Assesors</th>\n",
       "    </tr>\n",
       "    <tr>\n",
       "      <th class=\"blank\" >&nbsp;</th>\n",
       "      <th class=\"blank level1\" >&nbsp;</th>\n",
       "      <th id=\"T_ff83d_level1_col0\" class=\"col_heading level1 col0\" >0</th>\n",
       "      <th id=\"T_ff83d_level1_col1\" class=\"col_heading level1 col1\" >1</th>\n",
       "      <th id=\"T_ff83d_level1_col2\" class=\"col_heading level1 col2\" >2</th>\n",
       "    </tr>\n",
       "  </thead>\n",
       "  <tbody>\n",
       "    <tr>\n",
       "      <th id=\"T_ff83d_level0_row0\" class=\"row_heading level0 row0\" rowspan=\"2\">GPT-3.5</th>\n",
       "      <th id=\"T_ff83d_level1_row0\" class=\"row_heading level1 row0\" >0</th>\n",
       "      <td id=\"T_ff83d_row0_col0\" class=\"data row0 col0\" >41</td>\n",
       "      <td id=\"T_ff83d_row0_col1\" class=\"data row0 col1\" >8</td>\n",
       "      <td id=\"T_ff83d_row0_col2\" class=\"data row0 col2\" >2</td>\n",
       "    </tr>\n",
       "    <tr>\n",
       "      <th id=\"T_ff83d_level1_row1\" class=\"row_heading level1 row1\" >1</th>\n",
       "      <td id=\"T_ff83d_row1_col0\" class=\"data row1 col0\" >24</td>\n",
       "      <td id=\"T_ff83d_row1_col1\" class=\"data row1 col1\" >9</td>\n",
       "      <td id=\"T_ff83d_row1_col2\" class=\"data row1 col2\" >16</td>\n",
       "    </tr>\n",
       "  </tbody>\n",
       "</table>\n"
      ],
      "text/plain": [
       "<pandas.io.formats.style.Styler at 0x7f23bdbdbaa0>"
      ]
     },
     "metadata": {},
     "output_type": "display_data"
    },
    {
     "name": "stdout",
     "output_type": "stream",
     "text": [
      "Cohen's K 0.32\n"
     ]
    }
   ],
   "source": [
    "idx_cols = pd.MultiIndex.from_tuples(list(zip(repeat(\"WTR Assesors\"), sorted(df[\"Rel_Human\"].unique()))))\n",
    "idx_rows = pd.MultiIndex.from_tuples(list(zip(repeat(\"GPT-3.5\"), sorted(df[\"Rel_GPT_split_bin\"].unique()))))\n",
    "\n",
    "\n",
    "b = pd.DataFrame(\n",
    "    confusion_matrix(y_true=df[\"Rel_Human\"], y_pred=df[\"Rel_GPT_split_bin\"]).T[:2, :],   \n",
    "    index=idx_rows,\n",
    "    columns=idx_cols\n",
    ")\n",
    "display(b.style.highlight_max(axis=1, props='font-weight:bold'))\n",
    "print(\"Cohen's K\", round(cohen_kappa_score(df[\"Rel_GPT_split_bin\"], df[\"Rel_Human_bin\"]), 2))\n",
    "\n"
   ]
  },
  {
   "cell_type": "markdown",
   "metadata": {},
   "source": [
    "## $C$ (split | topic)"
   ]
  },
  {
   "cell_type": "code",
   "execution_count": 58,
   "metadata": {},
   "outputs": [
    {
     "data": {
      "text/html": [
       "<style type=\"text/css\">\n",
       "#T_a54d3_row0_col0, #T_a54d3_row1_col0, #T_a54d3_row2_col0 {\n",
       "  font-weight: bold;\n",
       "}\n",
       "</style>\n",
       "<table id=\"T_a54d3\">\n",
       "  <thead>\n",
       "    <tr>\n",
       "      <th class=\"blank\" >&nbsp;</th>\n",
       "      <th class=\"blank level0\" >&nbsp;</th>\n",
       "      <th id=\"T_a54d3_level0_col0\" class=\"col_heading level0 col0\" colspan=\"3\">WTR Assesors</th>\n",
       "    </tr>\n",
       "    <tr>\n",
       "      <th class=\"blank\" >&nbsp;</th>\n",
       "      <th class=\"blank level1\" >&nbsp;</th>\n",
       "      <th id=\"T_a54d3_level1_col0\" class=\"col_heading level1 col0\" >0</th>\n",
       "      <th id=\"T_a54d3_level1_col1\" class=\"col_heading level1 col1\" >1</th>\n",
       "      <th id=\"T_a54d3_level1_col2\" class=\"col_heading level1 col2\" >2</th>\n",
       "    </tr>\n",
       "  </thead>\n",
       "  <tbody>\n",
       "    <tr>\n",
       "      <th id=\"T_a54d3_level0_row0\" class=\"row_heading level0 row0\" rowspan=\"3\">GPT-3.5</th>\n",
       "      <th id=\"T_a54d3_level1_row0\" class=\"row_heading level1 row0\" >0</th>\n",
       "      <td id=\"T_a54d3_row0_col0\" class=\"data row0 col0\" >43</td>\n",
       "      <td id=\"T_a54d3_row0_col1\" class=\"data row0 col1\" >8</td>\n",
       "      <td id=\"T_a54d3_row0_col2\" class=\"data row0 col2\" >2</td>\n",
       "    </tr>\n",
       "    <tr>\n",
       "      <th id=\"T_a54d3_level1_row1\" class=\"row_heading level1 row1\" >1</th>\n",
       "      <td id=\"T_a54d3_row1_col0\" class=\"data row1 col0\" >14</td>\n",
       "      <td id=\"T_a54d3_row1_col1\" class=\"data row1 col1\" >7</td>\n",
       "      <td id=\"T_a54d3_row1_col2\" class=\"data row1 col2\" >9</td>\n",
       "    </tr>\n",
       "    <tr>\n",
       "      <th id=\"T_a54d3_level1_row2\" class=\"row_heading level1 row2\" >2</th>\n",
       "      <td id=\"T_a54d3_row2_col0\" class=\"data row2 col0\" >8</td>\n",
       "      <td id=\"T_a54d3_row2_col1\" class=\"data row2 col1\" >2</td>\n",
       "      <td id=\"T_a54d3_row2_col2\" class=\"data row2 col2\" >7</td>\n",
       "    </tr>\n",
       "  </tbody>\n",
       "</table>\n"
      ],
      "text/plain": [
       "<pandas.io.formats.style.Styler at 0x7f23bdbd9550>"
      ]
     },
     "metadata": {},
     "output_type": "display_data"
    },
    {
     "name": "stdout",
     "output_type": "stream",
     "text": [
      "Cohen's K 0.25\n"
     ]
    }
   ],
   "source": [
    "idx_rows = pd.MultiIndex.from_tuples(list(zip(repeat(\"WTR Assesors\"), sorted(df[\"Rel_Human\"].unique()))))\n",
    "idx_cols = pd.MultiIndex.from_tuples(list(zip(repeat(\"GPT-3.5\"), sorted(df[\"Rel_GPT_split_topic\"].unique()))))\n",
    "\n",
    "c = pd.DataFrame(\n",
    "    confusion_matrix(y_true=df[\"Rel_Human\"], y_pred=df[\"Rel_GPT_split_topic\"]).T,\n",
    "    index=idx_cols,\n",
    "    columns=idx_rows\n",
    ")\n",
    "\n",
    "display(c.style.highlight_max(axis=1, props='font-weight:bold'))\n",
    "\n",
    "print(\"Cohen's K\", round(cohen_kappa_score(df[\"Rel_GPT_split_topic\"], df[\"Rel_Human\"]), 2))\n",
    "\n"
   ]
  },
  {
   "cell_type": "markdown",
   "metadata": {},
   "source": [
    "## $D$ (split | binary | topic)"
   ]
  },
  {
   "cell_type": "code",
   "execution_count": 56,
   "metadata": {},
   "outputs": [
    {
     "data": {
      "text/html": [
       "<style type=\"text/css\">\n",
       "#T_ba1a1_row0_col0, #T_ba1a1_row1_col2 {\n",
       "  font-weight: bold;\n",
       "}\n",
       "</style>\n",
       "<table id=\"T_ba1a1\">\n",
       "  <thead>\n",
       "    <tr>\n",
       "      <th class=\"blank\" >&nbsp;</th>\n",
       "      <th class=\"blank level0\" >&nbsp;</th>\n",
       "      <th id=\"T_ba1a1_level0_col0\" class=\"col_heading level0 col0\" colspan=\"3\">WTR Assesors</th>\n",
       "    </tr>\n",
       "    <tr>\n",
       "      <th class=\"blank\" >&nbsp;</th>\n",
       "      <th class=\"blank level1\" >&nbsp;</th>\n",
       "      <th id=\"T_ba1a1_level1_col0\" class=\"col_heading level1 col0\" >0</th>\n",
       "      <th id=\"T_ba1a1_level1_col1\" class=\"col_heading level1 col1\" >1</th>\n",
       "      <th id=\"T_ba1a1_level1_col2\" class=\"col_heading level1 col2\" >2</th>\n",
       "    </tr>\n",
       "  </thead>\n",
       "  <tbody>\n",
       "    <tr>\n",
       "      <th id=\"T_ba1a1_level0_row0\" class=\"row_heading level0 row0\" rowspan=\"2\">GPT-3.5</th>\n",
       "      <th id=\"T_ba1a1_level1_row0\" class=\"row_heading level1 row0\" >0</th>\n",
       "      <td id=\"T_ba1a1_row0_col0\" class=\"data row0 col0\" >54</td>\n",
       "      <td id=\"T_ba1a1_row0_col1\" class=\"data row0 col1\" >9</td>\n",
       "      <td id=\"T_ba1a1_row0_col2\" class=\"data row0 col2\" >5</td>\n",
       "    </tr>\n",
       "    <tr>\n",
       "      <th id=\"T_ba1a1_level1_row1\" class=\"row_heading level1 row1\" >1</th>\n",
       "      <td id=\"T_ba1a1_row1_col0\" class=\"data row1 col0\" >11</td>\n",
       "      <td id=\"T_ba1a1_row1_col1\" class=\"data row1 col1\" >8</td>\n",
       "      <td id=\"T_ba1a1_row1_col2\" class=\"data row1 col2\" >13</td>\n",
       "    </tr>\n",
       "  </tbody>\n",
       "</table>\n"
      ],
      "text/plain": [
       "<pandas.io.formats.style.Styler at 0x7f23bdbe9b50>"
      ]
     },
     "metadata": {},
     "output_type": "display_data"
    },
    {
     "name": "stdout",
     "output_type": "stream",
     "text": [
      "Cohen's K 0.44\n"
     ]
    }
   ],
   "source": [
    "idx_rows = pd.MultiIndex.from_tuples(list(zip(repeat(\"WTR Assesors\"), sorted(df[\"Rel_Human\"].unique()))))\n",
    "idx_cols = pd.MultiIndex.from_tuples(list(zip(repeat(\"GPT-3.5\"), sorted(df[\"Rel_GPT_split_bin_topic\"].unique()))))\n",
    "\n",
    "d = pd.DataFrame(\n",
    "    confusion_matrix(y_true=df[\"Rel_Human\"], y_pred=df[\"Rel_GPT_split_bin_topic\"]).T[:2, :],\n",
    "    index=idx_cols,\n",
    "    columns=idx_rows\n",
    ")\n",
    "display(d.style.highlight_max(axis=1, props='font-weight:bold'))\n",
    "print(\"Cohen's K\", round(cohen_kappa_score(df[\"Rel_GPT_split_bin_topic\"], df[\"Rel_Human_bin\"]), 2))\n",
    "\n"
   ]
  },
  {
   "cell_type": "markdown",
   "metadata": {},
   "source": [
    "## $A'$ (graded)"
   ]
  },
  {
   "cell_type": "code",
   "execution_count": 62,
   "metadata": {},
   "outputs": [
    {
     "data": {
      "text/html": [
       "<style type=\"text/css\">\n",
       "#T_1e702_row0_col0, #T_1e702_row1_col0, #T_1e702_row2_col0 {\n",
       "  font-weight: bold;\n",
       "}\n",
       "</style>\n",
       "<table id=\"T_1e702\">\n",
       "  <thead>\n",
       "    <tr>\n",
       "      <th class=\"blank\" >&nbsp;</th>\n",
       "      <th class=\"blank level0\" >&nbsp;</th>\n",
       "      <th id=\"T_1e702_level0_col0\" class=\"col_heading level0 col0\" colspan=\"3\">WTR Assesors</th>\n",
       "    </tr>\n",
       "    <tr>\n",
       "      <th class=\"blank\" >&nbsp;</th>\n",
       "      <th class=\"blank level1\" >&nbsp;</th>\n",
       "      <th id=\"T_1e702_level1_col0\" class=\"col_heading level1 col0\" >0</th>\n",
       "      <th id=\"T_1e702_level1_col1\" class=\"col_heading level1 col1\" >1</th>\n",
       "      <th id=\"T_1e702_level1_col2\" class=\"col_heading level1 col2\" >2</th>\n",
       "    </tr>\n",
       "  </thead>\n",
       "  <tbody>\n",
       "    <tr>\n",
       "      <th id=\"T_1e702_level0_row0\" class=\"row_heading level0 row0\" rowspan=\"3\">GPT-3.5</th>\n",
       "      <th id=\"T_1e702_level1_row0\" class=\"row_heading level1 row0\" >0</th>\n",
       "      <td id=\"T_1e702_row0_col0\" class=\"data row0 col0\" >12</td>\n",
       "      <td id=\"T_1e702_row0_col1\" class=\"data row0 col1\" >0</td>\n",
       "      <td id=\"T_1e702_row0_col2\" class=\"data row0 col2\" >0</td>\n",
       "    </tr>\n",
       "    <tr>\n",
       "      <th id=\"T_1e702_level1_row1\" class=\"row_heading level1 row1\" >1</th>\n",
       "      <td id=\"T_1e702_row1_col0\" class=\"data row1 col0\" >50</td>\n",
       "      <td id=\"T_1e702_row1_col1\" class=\"data row1 col1\" >17</td>\n",
       "      <td id=\"T_1e702_row1_col2\" class=\"data row1 col2\" >16</td>\n",
       "    </tr>\n",
       "    <tr>\n",
       "      <th id=\"T_1e702_level1_row2\" class=\"row_heading level1 row2\" >2</th>\n",
       "      <td id=\"T_1e702_row2_col0\" class=\"data row2 col0\" >3</td>\n",
       "      <td id=\"T_1e702_row2_col1\" class=\"data row2 col1\" >0</td>\n",
       "      <td id=\"T_1e702_row2_col2\" class=\"data row2 col2\" >2</td>\n",
       "    </tr>\n",
       "  </tbody>\n",
       "</table>\n"
      ],
      "text/plain": [
       "<pandas.io.formats.style.Styler at 0x7f23bdc95790>"
      ]
     },
     "metadata": {},
     "output_type": "display_data"
    },
    {
     "name": "stdout",
     "output_type": "stream",
     "text": [
      "Cohen's K 0.11\n"
     ]
    }
   ],
   "source": [
    "idx_rows = pd.MultiIndex.from_tuples(list(zip(repeat(\"WTR Assesors\"), sorted(df[\"Rel_Human\"].unique()))))\n",
    "idx_cols = pd.MultiIndex.from_tuples(list(zip(repeat(\"GPT-3.5\"), sorted(df[\"Rel_GPT\"].unique()))))\n",
    "\n",
    "a_ = pd.DataFrame(\n",
    "    confusion_matrix(y_true=df[\"Rel_Human\"], y_pred=df[\"Rel_GPT\"]).T,\n",
    "    index=idx_cols,\n",
    "    columns=idx_rows\n",
    ")\n",
    "display(a_.style.highlight_max(axis=1, props='font-weight:bold'))\n",
    "\n",
    "print(\"Cohen's K\", round(cohen_kappa_score(df[\"Rel_GPT\"], df[\"Rel_Human\"]), 2))"
   ]
  },
  {
   "cell_type": "markdown",
   "metadata": {},
   "source": [
    "## $B'$ (binary)"
   ]
  },
  {
   "cell_type": "code",
   "execution_count": 63,
   "metadata": {},
   "outputs": [
    {
     "data": {
      "text/html": [
       "<style type=\"text/css\">\n",
       "#T_bf236_row0_col0, #T_bf236_row1_col0 {\n",
       "  font-weight: bold;\n",
       "}\n",
       "</style>\n",
       "<table id=\"T_bf236\">\n",
       "  <thead>\n",
       "    <tr>\n",
       "      <th class=\"blank\" >&nbsp;</th>\n",
       "      <th class=\"blank level0\" >&nbsp;</th>\n",
       "      <th id=\"T_bf236_level0_col0\" class=\"col_heading level0 col0\" colspan=\"3\">WTR Assesors</th>\n",
       "    </tr>\n",
       "    <tr>\n",
       "      <th class=\"blank\" >&nbsp;</th>\n",
       "      <th class=\"blank level1\" >&nbsp;</th>\n",
       "      <th id=\"T_bf236_level1_col0\" class=\"col_heading level1 col0\" >0</th>\n",
       "      <th id=\"T_bf236_level1_col1\" class=\"col_heading level1 col1\" >1</th>\n",
       "      <th id=\"T_bf236_level1_col2\" class=\"col_heading level1 col2\" >2</th>\n",
       "    </tr>\n",
       "  </thead>\n",
       "  <tbody>\n",
       "    <tr>\n",
       "      <th id=\"T_bf236_level0_row0\" class=\"row_heading level0 row0\" rowspan=\"2\">GPT-3.5</th>\n",
       "      <th id=\"T_bf236_level1_row0\" class=\"row_heading level1 row0\" >0</th>\n",
       "      <td id=\"T_bf236_row0_col0\" class=\"data row0 col0\" >45</td>\n",
       "      <td id=\"T_bf236_row0_col1\" class=\"data row0 col1\" >9</td>\n",
       "      <td id=\"T_bf236_row0_col2\" class=\"data row0 col2\" >3</td>\n",
       "    </tr>\n",
       "    <tr>\n",
       "      <th id=\"T_bf236_level1_row1\" class=\"row_heading level1 row1\" >1</th>\n",
       "      <td id=\"T_bf236_row1_col0\" class=\"data row1 col0\" >20</td>\n",
       "      <td id=\"T_bf236_row1_col1\" class=\"data row1 col1\" >8</td>\n",
       "      <td id=\"T_bf236_row1_col2\" class=\"data row1 col2\" >15</td>\n",
       "    </tr>\n",
       "  </tbody>\n",
       "</table>\n"
      ],
      "text/plain": [
       "<pandas.io.formats.style.Styler at 0x7f23bdbe9940>"
      ]
     },
     "metadata": {},
     "output_type": "display_data"
    },
    {
     "name": "stdout",
     "output_type": "stream",
     "text": [
      "Cohen's K 0.33\n"
     ]
    }
   ],
   "source": [
    "idx_rows = pd.MultiIndex.from_tuples(list(zip(repeat(\"WTR Assesors\"), sorted(df[\"Rel_Human\"].unique()))))\n",
    "idx_cols = pd.MultiIndex.from_tuples(list(zip(repeat(\"GPT-3.5\"), sorted(df[\"Rel_GPT_bin\"].unique()))))\n",
    "\n",
    "b_ = pd.DataFrame(\n",
    "    confusion_matrix(y_true=df[\"Rel_Human\"], y_pred=df[\"Rel_GPT_bin\"]).T[:2, :],\n",
    "    index=idx_cols,\n",
    "    columns=idx_rows\n",
    ")\n",
    "display(b_.style.highlight_max(axis=1, props='font-weight:bold'))\n",
    "\n",
    "print(\"Cohen's K\", round(cohen_kappa_score(df[\"Rel_GPT_bin\"], df[\"Rel_Human_bin\"]), 2))"
   ]
  },
  {
   "cell_type": "markdown",
   "metadata": {},
   "source": [
    "## $C'$ (graded | topic)"
   ]
  },
  {
   "cell_type": "code",
   "execution_count": 54,
   "metadata": {},
   "outputs": [
    {
     "data": {
      "text/html": [
       "<style type=\"text/css\">\n",
       "#T_54516_row0_col0, #T_54516_row1_col0, #T_54516_row2_col2 {\n",
       "  font-weight: bold;\n",
       "}\n",
       "</style>\n",
       "<table id=\"T_54516\">\n",
       "  <thead>\n",
       "    <tr>\n",
       "      <th class=\"blank\" >&nbsp;</th>\n",
       "      <th class=\"blank level0\" >&nbsp;</th>\n",
       "      <th id=\"T_54516_level0_col0\" class=\"col_heading level0 col0\" colspan=\"3\">WTR Assesors</th>\n",
       "    </tr>\n",
       "    <tr>\n",
       "      <th class=\"blank\" >&nbsp;</th>\n",
       "      <th class=\"blank level1\" >&nbsp;</th>\n",
       "      <th id=\"T_54516_level1_col0\" class=\"col_heading level1 col0\" >0</th>\n",
       "      <th id=\"T_54516_level1_col1\" class=\"col_heading level1 col1\" >1</th>\n",
       "      <th id=\"T_54516_level1_col2\" class=\"col_heading level1 col2\" >2</th>\n",
       "    </tr>\n",
       "  </thead>\n",
       "  <tbody>\n",
       "    <tr>\n",
       "      <th id=\"T_54516_level0_row0\" class=\"row_heading level0 row0\" rowspan=\"3\">GPT-3.5</th>\n",
       "      <th id=\"T_54516_level1_row0\" class=\"row_heading level1 row0\" >0</th>\n",
       "      <td id=\"T_54516_row0_col0\" class=\"data row0 col0\" >49</td>\n",
       "      <td id=\"T_54516_row0_col1\" class=\"data row0 col1\" >8</td>\n",
       "      <td id=\"T_54516_row0_col2\" class=\"data row0 col2\" >3</td>\n",
       "    </tr>\n",
       "    <tr>\n",
       "      <th id=\"T_54516_level1_row1\" class=\"row_heading level1 row1\" >1</th>\n",
       "      <td id=\"T_54516_row1_col0\" class=\"data row1 col0\" >14</td>\n",
       "      <td id=\"T_54516_row1_col1\" class=\"data row1 col1\" >9</td>\n",
       "      <td id=\"T_54516_row1_col2\" class=\"data row1 col2\" >8</td>\n",
       "    </tr>\n",
       "    <tr>\n",
       "      <th id=\"T_54516_level1_row2\" class=\"row_heading level1 row2\" >2</th>\n",
       "      <td id=\"T_54516_row2_col0\" class=\"data row2 col0\" >2</td>\n",
       "      <td id=\"T_54516_row2_col1\" class=\"data row2 col1\" >0</td>\n",
       "      <td id=\"T_54516_row2_col2\" class=\"data row2 col2\" >7</td>\n",
       "    </tr>\n",
       "  </tbody>\n",
       "</table>\n"
      ],
      "text/plain": [
       "<pandas.io.formats.style.Styler at 0x7f23bdbe4c20>"
      ]
     },
     "metadata": {},
     "output_type": "display_data"
    },
    {
     "name": "stdout",
     "output_type": "stream",
     "text": [
      "Cohen's K 0.35\n"
     ]
    }
   ],
   "source": [
    "idx_rows = pd.MultiIndex.from_tuples(list(zip(repeat(\"WTR Assesors\"), sorted(df[\"Rel_Human\"].unique()))))\n",
    "idx_cols = pd.MultiIndex.from_tuples(list(zip(repeat(\"GPT-3.5\"), sorted(df[\"Rel_GPT_topic\"].unique()))))\n",
    "\n",
    "c_ = pd.DataFrame(\n",
    "    confusion_matrix(y_true=df[\"Rel_Human\"], y_pred=df[\"Rel_GPT_topic\"]).T,\n",
    "    index=idx_cols,\n",
    "    columns=idx_rows\n",
    ")\n",
    "display(c_.style.highlight_max(axis=1, props='font-weight:bold'))\n",
    "\n",
    "print(\"Cohen's K\", round(cohen_kappa_score(df[\"Rel_GPT_topic\"], df[\"Rel_Human\"]), 2))"
   ]
  },
  {
   "cell_type": "markdown",
   "metadata": {},
   "source": [
    "## $D'$ (binary | topic)"
   ]
  },
  {
   "cell_type": "code",
   "execution_count": 55,
   "metadata": {},
   "outputs": [
    {
     "data": {
      "text/html": [
       "<style type=\"text/css\">\n",
       "#T_0414b_row0_col0, #T_0414b_row1_col2 {\n",
       "  font-weight: bold;\n",
       "}\n",
       "</style>\n",
       "<table id=\"T_0414b\">\n",
       "  <thead>\n",
       "    <tr>\n",
       "      <th class=\"blank\" >&nbsp;</th>\n",
       "      <th class=\"blank level0\" >&nbsp;</th>\n",
       "      <th id=\"T_0414b_level0_col0\" class=\"col_heading level0 col0\" colspan=\"3\">WTR Assesors</th>\n",
       "    </tr>\n",
       "    <tr>\n",
       "      <th class=\"blank\" >&nbsp;</th>\n",
       "      <th class=\"blank level1\" >&nbsp;</th>\n",
       "      <th id=\"T_0414b_level1_col0\" class=\"col_heading level1 col0\" >0</th>\n",
       "      <th id=\"T_0414b_level1_col1\" class=\"col_heading level1 col1\" >1</th>\n",
       "      <th id=\"T_0414b_level1_col2\" class=\"col_heading level1 col2\" >2</th>\n",
       "    </tr>\n",
       "  </thead>\n",
       "  <tbody>\n",
       "    <tr>\n",
       "      <th id=\"T_0414b_level0_row0\" class=\"row_heading level0 row0\" rowspan=\"2\">GPT-3.5</th>\n",
       "      <th id=\"T_0414b_level1_row0\" class=\"row_heading level1 row0\" >0</th>\n",
       "      <td id=\"T_0414b_row0_col0\" class=\"data row0 col0\" >54</td>\n",
       "      <td id=\"T_0414b_row0_col1\" class=\"data row0 col1\" >14</td>\n",
       "      <td id=\"T_0414b_row0_col2\" class=\"data row0 col2\" >5</td>\n",
       "    </tr>\n",
       "    <tr>\n",
       "      <th id=\"T_0414b_level1_row1\" class=\"row_heading level1 row1\" >1</th>\n",
       "      <td id=\"T_0414b_row1_col0\" class=\"data row1 col0\" >11</td>\n",
       "      <td id=\"T_0414b_row1_col1\" class=\"data row1 col1\" >3</td>\n",
       "      <td id=\"T_0414b_row1_col2\" class=\"data row1 col2\" >13</td>\n",
       "    </tr>\n",
       "  </tbody>\n",
       "</table>\n"
      ],
      "text/plain": [
       "<pandas.io.formats.style.Styler at 0x7f23bdbd8e00>"
      ]
     },
     "metadata": {},
     "output_type": "display_data"
    },
    {
     "name": "stdout",
     "output_type": "stream",
     "text": [
      "Cohen's K 0.3\n"
     ]
    }
   ],
   "source": [
    "idx_rows = pd.MultiIndex.from_tuples(list(zip(repeat(\"WTR Assesors\"), sorted(df[\"Rel_Human\"].unique()))))\n",
    "idx_cols = pd.MultiIndex.from_tuples(list(zip(repeat(\"GPT-3.5\"), sorted(df[\"Rel_GPT_bin_topic\"].unique()))))\n",
    "\n",
    "d_ = pd.DataFrame(\n",
    "    confusion_matrix(y_true=df[\"Rel_Human\"], y_pred=df[\"Rel_GPT_bin_topic\"]).T[:2, :],\n",
    "    index=idx_cols,\n",
    "    columns=idx_rows\n",
    ")\n",
    "display(d_.style.highlight_max(axis=1, props='font-weight:bold'))\n",
    "\n",
    "print(\"Cohen's K\", round(cohen_kappa_score(df[\"Rel_GPT_bin_topic\"], df[\"Rel_Human_bin\"]), 2))"
   ]
  },
  {
   "cell_type": "markdown",
   "metadata": {},
   "source": [
    "## Baseline Rating(irr, rel, high_rel) mapped to bin"
   ]
  },
  {
   "cell_type": "code",
   "execution_count": 10,
   "metadata": {},
   "outputs": [
    {
     "data": {
      "text/html": [
       "<style type=\"text/css\">\n",
       "#T_60587_row0_col0, #T_60587_row1_col0 {\n",
       "  font-weight: bold;\n",
       "}\n",
       "</style>\n",
       "<table id=\"T_60587\">\n",
       "  <thead>\n",
       "    <tr>\n",
       "      <th class=\"blank\" >&nbsp;</th>\n",
       "      <th class=\"blank level0\" >&nbsp;</th>\n",
       "      <th id=\"T_60587_level0_col0\" class=\"col_heading level0 col0\" colspan=\"2\">WTR Assesors</th>\n",
       "    </tr>\n",
       "    <tr>\n",
       "      <th class=\"blank\" >&nbsp;</th>\n",
       "      <th class=\"blank level1\" >&nbsp;</th>\n",
       "      <th id=\"T_60587_level1_col0\" class=\"col_heading level1 col0\" >0</th>\n",
       "      <th id=\"T_60587_level1_col1\" class=\"col_heading level1 col1\" >1</th>\n",
       "    </tr>\n",
       "  </thead>\n",
       "  <tbody>\n",
       "    <tr>\n",
       "      <th id=\"T_60587_level0_row0\" class=\"row_heading level0 row0\" rowspan=\"2\">GPT-3.5</th>\n",
       "      <th id=\"T_60587_level1_row0\" class=\"row_heading level1 row0\" >0</th>\n",
       "      <td id=\"T_60587_row0_col0\" class=\"data row0 col0\" >30</td>\n",
       "      <td id=\"T_60587_row0_col1\" class=\"data row0 col1\" >5</td>\n",
       "    </tr>\n",
       "    <tr>\n",
       "      <th id=\"T_60587_level1_row1\" class=\"row_heading level1 row1\" >1</th>\n",
       "      <td id=\"T_60587_row1_col0\" class=\"data row1 col0\" >35</td>\n",
       "      <td id=\"T_60587_row1_col1\" class=\"data row1 col1\" >30</td>\n",
       "    </tr>\n",
       "  </tbody>\n",
       "</table>\n"
      ],
      "text/plain": [
       "<pandas.io.formats.style.Styler at 0x7f23c4143c20>"
      ]
     },
     "metadata": {},
     "output_type": "display_data"
    },
    {
     "name": "stdout",
     "output_type": "stream",
     "text": [
      "Cohen's K 0.2660550458715596\n"
     ]
    }
   ],
   "source": [
    "df.loc[df[\"Rel_GPT\"] == 0, \"Rel_GPT_bin_mapped\"] = 0\n",
    "df.loc[df[\"Rel_GPT\"] > 0, \"Rel_GPT_bin_mapped\"] = 1\n",
    "df[\"Rel_GPT_bin_mapped\"] = df[\"Rel_GPT_bin_mapped\"].astype(int)\n",
    "\n",
    "idx_rows = pd.MultiIndex.from_tuples(list(zip(repeat(\"WTR Assesors\"), sorted(df[\"Rel_Human_bin\"].unique()))))\n",
    "idx_cols = pd.MultiIndex.from_tuples(list(zip(repeat(\"GPT-3.5\"), sorted(df[\"Rel_GPT_bin_mapped\"].unique()))))\n",
    "\n",
    "cm_2 = pd.DataFrame(\n",
    "    confusion_matrix(y_true=df[\"Rel_Human_bin\"], y_pred=df[\"Rel_GPT_bin_mapped\"]),\n",
    "    index=idx_rows,\n",
    "    columns=idx_cols\n",
    ").T \n",
    "display(cm_2.style.highlight_max(axis=1, props='font-weight:bold'))\n",
    "print(\"Cohen's K\", cohen_kappa_score(df[\"Rel_GPT_bin_mapped\"], df[\"Rel_Human_bin\"]))\n",
    "\n"
   ]
  },
  {
   "cell_type": "markdown",
   "metadata": {},
   "source": [
    "## Baseline Rating no system instructions in binary"
   ]
  },
  {
   "cell_type": "code",
   "execution_count": 12,
   "metadata": {},
   "outputs": [
    {
     "data": {
      "text/html": [
       "<style type=\"text/css\">\n",
       "#T_379bf_row0_col0, #T_379bf_row1_col1 {\n",
       "  font-weight: bold;\n",
       "}\n",
       "</style>\n",
       "<table id=\"T_379bf\">\n",
       "  <thead>\n",
       "    <tr>\n",
       "      <th class=\"blank\" >&nbsp;</th>\n",
       "      <th class=\"blank level0\" >&nbsp;</th>\n",
       "      <th id=\"T_379bf_level0_col0\" class=\"col_heading level0 col0\" colspan=\"2\">WTR Assesors</th>\n",
       "    </tr>\n",
       "    <tr>\n",
       "      <th class=\"blank\" >&nbsp;</th>\n",
       "      <th class=\"blank level1\" >&nbsp;</th>\n",
       "      <th id=\"T_379bf_level1_col0\" class=\"col_heading level1 col0\" >0</th>\n",
       "      <th id=\"T_379bf_level1_col1\" class=\"col_heading level1 col1\" >1</th>\n",
       "    </tr>\n",
       "  </thead>\n",
       "  <tbody>\n",
       "    <tr>\n",
       "      <th id=\"T_379bf_level0_row0\" class=\"row_heading level0 row0\" rowspan=\"2\">GPT-3.5</th>\n",
       "      <th id=\"T_379bf_level1_row0\" class=\"row_heading level1 row0\" >0</th>\n",
       "      <td id=\"T_379bf_row0_col0\" class=\"data row0 col0\" >45</td>\n",
       "      <td id=\"T_379bf_row0_col1\" class=\"data row0 col1\" >12</td>\n",
       "    </tr>\n",
       "    <tr>\n",
       "      <th id=\"T_379bf_level1_row1\" class=\"row_heading level1 row1\" >1</th>\n",
       "      <td id=\"T_379bf_row1_col0\" class=\"data row1 col0\" >20</td>\n",
       "      <td id=\"T_379bf_row1_col1\" class=\"data row1 col1\" >23</td>\n",
       "    </tr>\n",
       "  </tbody>\n",
       "</table>\n"
      ],
      "text/plain": [
       "<pandas.io.formats.style.Styler at 0x7ffb33850ad0>"
      ]
     },
     "metadata": {},
     "output_type": "display_data"
    },
    {
     "name": "stdout",
     "output_type": "stream",
     "text": [
      "Cohen's K 0.33194154488517746\n"
     ]
    }
   ],
   "source": [
    "idx_rows = pd.MultiIndex.from_tuples(list(zip(repeat(\"WTR Assesors\"), sorted(df[\"Rel_Human_bin\"].unique()))))\n",
    "idx_cols = pd.MultiIndex.from_tuples(list(zip(repeat(\"GPT-3.5\"), sorted(df[\"Rel_GPT_bin_no_sys\"].unique()))))\n",
    "\n",
    "display(pd.DataFrame(\n",
    "    confusion_matrix(y_true=df[\"Rel_Human_bin\"], y_pred=df[\"Rel_GPT_bin_no_sys\"]),\n",
    "    index=idx_rows,\n",
    "    columns=idx_cols\n",
    ").T.style.highlight_max(axis=1, props='font-weight:bold'))\n",
    "\n",
    "print(\"Cohen's K\", cohen_kappa_score(df[\"Rel_GPT_bin_no_sys\"], df[\"Rel_Human_bin\"]))\n"
   ]
  }
 ],
 "metadata": {
  "kernelspec": {
   "display_name": "Python 3",
   "language": "python",
   "name": "python3"
  },
  "language_info": {
   "codemirror_mode": {
    "name": "ipython",
    "version": 3
   },
   "file_extension": ".py",
   "mimetype": "text/x-python",
   "name": "python",
   "nbconvert_exporter": "python",
   "pygments_lexer": "ipython3",
   "version": "3.12.0"
  }
 },
 "nbformat": 4,
 "nbformat_minor": 2
}
