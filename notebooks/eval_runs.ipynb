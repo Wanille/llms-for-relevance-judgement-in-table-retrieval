{
 "cells": [
  {
   "cell_type": "code",
   "execution_count": 37,
   "metadata": {},
   "outputs": [],
   "source": [
    "import pyterrier as pt\n",
    "import pandas as pd\n",
    "from LLmsfJiT import read_trec_queries\n",
    "import itertools\n",
    "import numpy as np\n",
    "import matplotlib.pyplot as plt\n",
    "from scipy.stats import kendalltau"
   ]
  },
  {
   "cell_type": "code",
   "execution_count": 3,
   "metadata": {},
   "outputs": [
    {
     "name": "stderr",
     "output_type": "stream",
     "text": [
      "PyTerrier 0.10.0 has loaded Terrier 5.8 (built by craigm on 2023-11-01 18:05) and terrier-helper 0.0.8\n",
      "\n",
      "No etc/terrier.properties, using terrier.default.properties for bootstrap configuration.\n"
     ]
    }
   ],
   "source": [
    "pt.init()"
   ]
  },
  {
   "cell_type": "code",
   "execution_count": 4,
   "metadata": {},
   "outputs": [],
   "source": [
    "def remap_to_bin(row: pd.core.series.Series):\n",
    "    if row.label == 2:\n",
    "        return 1\n",
    "    else:\n",
    "        return row.label"
   ]
  },
  {
   "cell_type": "code",
   "execution_count": 28,
   "metadata": {},
   "outputs": [],
   "source": [
    "topics = pd.DataFrame(list(read_trec_queries(\"../rel_files/queries.txt\").items()), columns=[\"qid\", \"query\"])\n",
    "topics[\"qid\"] = topics[\"qid\"].astype(str)\n",
    "\n",
    "qrels = pd.read_csv(\"../rel_files/rel_table_qrels.txt\", delimiter=\"\\t\", names=[\"qid\", \"iteration\", \"docno\", \"label\"]).drop(columns=[\"iteration\"])\n",
    "qrels[\"qid\"] = qrels[\"qid\"].astype(str)\n",
    "qrels[\"label\"] = qrels[\"label\"].astype(int)\n",
    "qrels[\"label\"] = qrels.apply(remap_to_bin, axis=1)\n",
    "\n",
    "qrels_gpt = pd.read_csv(\"../gpt_judgements/rel_table_qrels.txt\", delimiter=\"\\t\", names=[\"qid\", \"iteration\", \"docno\", \"label\"]).drop(columns=[\"iteration\"])\n",
    "qrels_gpt[\"qid\"] = qrels_gpt[\"qid\"].astype(str)\n",
    "qrels_gpt[\"label\"] = qrels_gpt[\"label\"].astype(int)\n",
    "qrels_gpt[\"label\"] = qrels_gpt.apply(remap_to_bin, axis=1)\n"
   ]
  },
  {
   "cell_type": "code",
   "execution_count": 29,
   "metadata": {},
   "outputs": [
    {
     "data": {
      "text/html": [
       "<div>\n",
       "<style scoped>\n",
       "    .dataframe tbody tr th:only-of-type {\n",
       "        vertical-align: middle;\n",
       "    }\n",
       "\n",
       "    .dataframe tbody tr th {\n",
       "        vertical-align: top;\n",
       "    }\n",
       "\n",
       "    .dataframe thead th {\n",
       "        text-align: right;\n",
       "    }\n",
       "</style>\n",
       "<table border=\"1\" class=\"dataframe\">\n",
       "  <thead>\n",
       "    <tr style=\"text-align: right;\">\n",
       "      <th></th>\n",
       "      <th>name</th>\n",
       "      <th>map</th>\n",
       "      <th>P_5</th>\n",
       "      <th>P_10</th>\n",
       "      <th>ndcg_cut_5</th>\n",
       "      <th>ndcg_cut_10</th>\n",
       "    </tr>\n",
       "  </thead>\n",
       "  <tbody>\n",
       "    <tr>\n",
       "      <th>0</th>\n",
       "      <td>BR(TF_IDF)</td>\n",
       "      <td>0.417092</td>\n",
       "      <td>0.543333</td>\n",
       "      <td>0.500</td>\n",
       "      <td>0.553362</td>\n",
       "      <td>0.520714</td>\n",
       "    </tr>\n",
       "    <tr>\n",
       "      <th>1</th>\n",
       "      <td>BR(BM25)</td>\n",
       "      <td>0.415749</td>\n",
       "      <td>0.536667</td>\n",
       "      <td>0.495</td>\n",
       "      <td>0.541956</td>\n",
       "      <td>0.512114</td>\n",
       "    </tr>\n",
       "    <tr>\n",
       "      <th>2</th>\n",
       "      <td>BR(DirichletLM)</td>\n",
       "      <td>0.377333</td>\n",
       "      <td>0.460000</td>\n",
       "      <td>0.440</td>\n",
       "      <td>0.462417</td>\n",
       "      <td>0.448721</td>\n",
       "    </tr>\n",
       "  </tbody>\n",
       "</table>\n",
       "</div>"
      ],
      "text/plain": [
       "              name       map       P_5   P_10  ndcg_cut_5  ndcg_cut_10\n",
       "0       BR(TF_IDF)  0.417092  0.543333  0.500    0.553362     0.520714\n",
       "1         BR(BM25)  0.415749  0.536667  0.495    0.541956     0.512114\n",
       "2  BR(DirichletLM)  0.377333  0.460000  0.440    0.462417     0.448721"
      ]
     },
     "execution_count": 29,
     "metadata": {},
     "output_type": "execute_result"
    }
   ],
   "source": [
    "index = pt.IndexFactory.of(\"../pyterrier_indexes/single_field_index_topics-20/data.properties\")\n",
    "tf_idf = pt.BatchRetrieve(index, wmodel=\"TF_IDF\")\n",
    "bm25 = pt.BatchRetrieve(index, wmodel=\"BM25\")\n",
    "DLM = pt.BatchRetrieve(index, wmodel=\"DirichletLM\")\n",
    "\n",
    "ex = pt.Experiment([tf_idf, bm25, DLM], topics, qrels, eval_metrics=[\"map\", \"P_5\", \"P_10\",  \"ndcg_cut_5\", \"ndcg_cut_10\"])\n",
    "ex"
   ]
  },
  {
   "cell_type": "code",
   "execution_count": 30,
   "metadata": {},
   "outputs": [],
   "source": [
    "experiments = []\n",
    "for x in range(topics[\"qid\"].nunique()):\n",
    "    ex = pt.Experiment([tf_idf], topics.iloc[x].to_frame().T, qrels, eval_metrics=[\"map\", \"P_5\", \"P_10\",  \"ndcg_cut_5\", \"ndcg_cut_10\"])\n",
    "    experiments.append(ex)\n",
    "experiment_df = pd.concat(experiments)\n",
    "models = experiment_df[\"name\"].unique()\n",
    "\n",
    "index_ls = []\n",
    "for q in topics[\"qid\"]:\n",
    "    index_ls.extend(list(zip(itertools.repeat(q), models) ))\n",
    "\n",
    "index = pd.MultiIndex.from_tuples(index_ls, names=[\"qid\", \"model\"])\n",
    "experiment_df.index = index\n",
    "\n",
    "experiment_df.drop(columns=[\"name\"], inplace=True)"
   ]
  },
  {
   "cell_type": "code",
   "execution_count": 31,
   "metadata": {},
   "outputs": [],
   "source": [
    "def generate_experiments_from_index(index_path, topics, qrels):\n",
    "\n",
    "    index = pt.IndexFactory.of(index_path)\n",
    "    tf_idf = pt.BatchRetrieve(index, wmodel=\"TF_IDF\")\n",
    "    # bm25 = pt.BatchRetrieve(index, wmodel=\"BM25\")\n",
    "    # DLM = pt.BatchRetrieve(index, wmodel=\"DirichletLM\")\n",
    "\n",
    "    experiments = []\n",
    "    for x in range(topics[\"qid\"].nunique()):\n",
    "        ex = pt.Experiment([tf_idf], topics.iloc[x].to_frame().T, qrels, eval_metrics=[\"map\", \"P_5\", \"P_10\",  \"ndcg_cut_5\", \"ndcg_cut_10\"])\n",
    "        experiments.append(ex)\n",
    "    experiment_df = pd.concat(experiments)\n",
    "    models = experiment_df[\"name\"].unique()\n",
    "\n",
    "    index_ls = []\n",
    "    for q in topics[\"qid\"]:\n",
    "        index_ls.extend(list(zip(itertools.repeat(q), models) ))\n",
    "\n",
    "    index = pd.MultiIndex.from_tuples(index_ls, names=[\"qid\", \"model\"])\n",
    "    experiment_df.index = index\n",
    "\n",
    "    experiment_df.drop(columns=[\"name\"], inplace=True)\n",
    "    return experiment_df"
   ]
  },
  {
   "cell_type": "code",
   "execution_count": 32,
   "metadata": {},
   "outputs": [],
   "source": [
    "ex_human = generate_experiments_from_index(\"../pyterrier_indexes/single_field_index_topics-20/data.properties\", topics, qrels)"
   ]
  },
  {
   "cell_type": "code",
   "execution_count": 33,
   "metadata": {},
   "outputs": [],
   "source": [
    "ex_gpt = generate_experiments_from_index(\"../pyterrier_indexes/single_field_index_topics-20/data.properties\", topics, qrels_gpt)"
   ]
  },
  {
   "cell_type": "code",
   "execution_count": 43,
   "metadata": {},
   "outputs": [
    {
     "data": {
      "image/png": "[encoded data removed]",
      "text/plain": [
       "<Figure size 640x480 with 1 Axes>"
      ]
     },
     "metadata": {},
     "output_type": "display_data"
    }
   ],
   "source": [
    "kt = round(kendalltau(ex_human[\"map\"], ex_gpt[\"map\"]).pvalue, 2)\n",
    "plt.scatter(ex_human[\"map\"], ex_gpt[\"map\"])\n",
    "plt.text(0.1, 0.9, f\"Kendall's $\\\\tau$ = {kt}\")\n",
    "plt.xlim(0, 1)\n",
    "plt.ylim(0, 1)\n",
    "plt.show()"
   ]
  },
  {
   "cell_type": "code",
   "execution_count": 44,
   "metadata": {},
   "outputs": [
    {
     "data": {
      "image/png": "[encoded data removed]",
      "text/plain": [
       "<Figure size 640x480 with 1 Axes>"
      ]
     },
     "metadata": {},
     "output_type": "display_data"
    }
   ],
   "source": [
    "kt = round(kendalltau(ex_human[\"ndcg_cut_10\"], ex_gpt[\"ndcg_cut_10\"]).pvalue, 2)\n",
    "plt.scatter(ex_human[\"ndcg_cut_10\"], ex_gpt[\"ndcg_cut_10\"])\n",
    "plt.text(0.1, 0.9, f\"Kendall's $\\\\tau$ = {kt}\")\n",
    "plt.xlim(0, 1)\n",
    "plt.ylim(0, 1)\n",
    "plt.show()"
   ]
  },
  {
   "cell_type": "code",
   "execution_count": null,
   "metadata": {},
   "outputs": [],
   "source": []
  }
 ],
 "metadata": {
  "kernelspec": {
   "display_name": "Python 3",
   "language": "python",
   "name": "python3"
  },
  "language_info": {
   "codemirror_mode": {
    "name": "ipython",
    "version": 3
   },
   "file_extension": ".py",
   "mimetype": "text/x-python",
   "name": "python",
   "nbconvert_exporter": "python",
   "pygments_lexer": "ipython3",
   "version": "3.12.0"
  }
 },
 "nbformat": 4,
 "nbformat_minor": 2
}
