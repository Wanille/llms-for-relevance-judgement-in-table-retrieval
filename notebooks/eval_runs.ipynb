{
 "cells": [
  {
   "cell_type": "code",
   "execution_count": 5,
   "metadata": {},
   "outputs": [
    {
     "name": "stderr",
     "output_type": "stream",
     "text": [
      "/home/vscode/.local/lib/python3.12/site-packages/tqdm/auto.py:21: TqdmWarning: IProgress not found. Please update jupyter and ipywidgets. See https://ipywidgets.readthedocs.io/en/stable/user_install.html\n",
      "  from .autonotebook import tqdm as notebook_tqdm\n"
     ]
    }
   ],
   "source": [
    "import pyterrier as pt\n",
    "import pandas as pd\n",
    "from LLmsfJiT import read_trec_queries\n",
    "import itertools\n",
    "import numpy as np\n",
    "import matplotlib.pyplot as plt\n",
    "from scipy.stats import kendalltau"
   ]
  },
  {
   "cell_type": "code",
   "execution_count": 6,
   "metadata": {},
   "outputs": [
    {
     "name": "stderr",
     "output_type": "stream",
     "text": [
      "PyTerrier 0.10.0 has loaded Terrier 5.8 (built by craigm on 2023-11-01 18:05) and terrier-helper 0.0.8\n",
      "\n",
      "No etc/terrier.properties, using terrier.default.properties for bootstrap configuration.\n"
     ]
    }
   ],
   "source": [
    "pt.init()"
   ]
  },
  {
   "cell_type": "code",
   "execution_count": 7,
   "metadata": {},
   "outputs": [],
   "source": [
    "def remap_to_bin(row: pd.core.series.Series):\n",
    "    if row.label == 2:\n",
    "        return 1\n",
    "    else:\n",
    "        return row.label"
   ]
  },
  {
   "cell_type": "code",
   "execution_count": 8,
   "metadata": {},
   "outputs": [],
   "source": [
    "topics = pd.DataFrame(list(read_trec_queries(\"../rel_files/queries.txt\").items()), columns=[\"qid\", \"query\"])\n",
    "topics[\"qid\"] = topics[\"qid\"].astype(str)\n",
    "\n",
    "qrels = pd.read_csv(\"../rel_files/rel_table_qrels.txt\", delimiter=\"\\t\", names=[\"qid\", \"iteration\", \"docno\", \"label\"]).drop(columns=[\"iteration\"])\n",
    "qrels[\"qid\"] = qrels[\"qid\"].astype(str)\n",
    "qrels[\"label\"] = qrels[\"label\"].astype(int)\n",
    "qrels[\"label\"] = qrels.apply(remap_to_bin, axis=1)\n",
    "\n",
    "qrels_gpt = pd.read_csv(\"../gpt_judgements/rel_table_qrels.txt\", delimiter=\"\\t\", names=[\"qid\", \"iteration\", \"docno\", \"label\"]).drop(columns=[\"iteration\"])\n",
    "qrels_gpt[\"qid\"] = qrels_gpt[\"qid\"].astype(str)\n",
    "qrels_gpt[\"label\"] = qrels_gpt[\"label\"].astype(int)\n",
    "qrels_gpt[\"label\"] = qrels_gpt.apply(remap_to_bin, axis=1)\n"
   ]
  },
  {
   "cell_type": "code",
   "execution_count": 60,
   "metadata": {},
   "outputs": [],
   "source": [
    "def generate_experiments_from_index(index_path, topics, qrels):\n",
    "\n",
    "    index = pt.IndexFactory.of(index_path)\n",
    "    # tf_idf = pt.BatchRetrieve(index, wmodel=\"TF_IDF\")\n",
    "    # bm25 = pt.BatchRetrieve(index, wmodel=\"BM25\")\n",
    "    # DLM = pt.BatchRetrieve(index, wmodel=\"DirichletLM\")\n",
    "    # pl2 = pt.BatchRetrieve(index, wmodel=\"PL2\")\n",
    "\n",
    "    retrievers = []\n",
    "    for wmodel in [\"TF_IDF\", \"BM25\", \"DirichletLM\", \"PL2\", \"CoordinateMatch\", \"DFIC\", \"DFIZ\", \"DFR_BM25\", \"DFRee\", \"DFReeKLIM\",\n",
    "                   \"Dl\", \"DLH\", \"DLH13\", \"DPH\", \"Hiemstra_LM\", \"IFB2\", \"In_expB2\", \"In_expC2\", \"InB2\", \"InL2\", \"Js_KLs\", \"LemurTF_IDF\", \n",
    "                   \"LGD\", \"Null\", \"Tf\"]:\n",
    "        retrievers.append(pt.BatchRetrieve(index, wmodel=wmodel))\n",
    "\n",
    "    experiments = []\n",
    "    for x in range(topics[\"qid\"].nunique()):\n",
    "        ex = pt.Experiment(retrievers, topics.iloc[x].to_frame().T, qrels, eval_metrics=[\"map\", \"P_5\", \"P_10\",  \"ndcg_cut_5\", \"ndcg_cut_10\"])\n",
    "        experiments.append(ex)\n",
    "    experiment_df = pd.concat(experiments)\n",
    "    models = experiment_df[\"name\"].unique()\n",
    "\n",
    "    index_ls = []\n",
    "    for q in topics[\"qid\"]:\n",
    "        index_ls.extend(list(zip(itertools.repeat(q), models) ))\n",
    "\n",
    "    index = pd.MultiIndex.from_tuples(index_ls, names=[\"qid\", \"model\"])\n",
    "    experiment_df.index = index\n",
    "\n",
    "    experiment_df.drop(columns=[\"name\"], inplace=True)\n",
    "    return experiment_df"
   ]
  },
  {
   "cell_type": "code",
   "execution_count": 61,
   "metadata": {},
   "outputs": [],
   "source": [
    "ex_human = generate_experiments_from_index(\"../pyterrier_indexes/single_field_index/data.properties\", topics, qrels)"
   ]
  },
  {
   "cell_type": "code",
   "execution_count": 62,
   "metadata": {},
   "outputs": [],
   "source": [
    "ex_gpt = generate_experiments_from_index(\"../pyterrier_indexes/single_field_index/data.properties\", topics, qrels_gpt)"
   ]
  },
  {
   "cell_type": "code",
   "execution_count": 63,
   "metadata": {},
   "outputs": [],
   "source": [
    "human_map = ex_human.groupby(\"model\", as_index=True).map.mean()\n",
    "gpt_map = ex_gpt.groupby(\"model\", as_index=True).map.mean()"
   ]
  },
  {
   "cell_type": "code",
   "execution_count": 64,
   "metadata": {},
   "outputs": [],
   "source": [
    "plt.rcParams.update({\n",
    "    \"font.family\": \"serif\",  # use serif/main font for text elements\n",
    "    \"text.usetex\": True,     # use inline math for ticks\n",
    "    \"pgf.rcfonts\": False,     # don't setup fonts from rc parameters\n",
    "    })"
   ]
  },
  {
   "cell_type": "code",
   "execution_count": 65,
   "metadata": {},
   "outputs": [
    {
     "data": {
      "image/png": "[encoded data removed]",
      "text/plain": [
       "<Figure size 640x480 with 1 Axes>"
      ]
     },
     "metadata": {},
     "output_type": "display_data"
    },
    {
     "data": {
      "text/plain": [
       "<Figure size 640x480 with 0 Axes>"
      ]
     },
     "metadata": {},
     "output_type": "display_data"
    }
   ],
   "source": [
    "kt = round(kendalltau(human_map, gpt_map).statistic, 2)\n",
    "plt.scatter(human_map, gpt_map, color=\"black\")\n",
    "\n",
    "max_lim = max(plt.xlim()[1], plt.ylim()[1])\n",
    "plt.text(max_lim/20, max_lim - max_lim/10, f\"Kendall's $\\\\tau$ = {kt}\", fontdict={\"size\": 12})\n",
    "plt.xlim(0, max_lim)\n",
    "plt.ylim(0, max_lim)\n",
    "plt.ylabel(\"MAP(unofficial, LLM judgements)\", size=12)\n",
    "plt.xlabel(\"MAP(official, Human judgements)\", size=12)\n",
    "plt.show()\n",
    "plt.savefig(\"map.pgf\", format=\"pgf\")"
   ]
  },
  {
   "cell_type": "code",
   "execution_count": 66,
   "metadata": {},
   "outputs": [],
   "source": [
    "human_ndcg = ex_human.groupby(\"model\", as_index=True).ndcg_cut_10.mean()\n",
    "gpt_ndcg = ex_gpt.groupby(\"model\", as_index=True).ndcg_cut_10.mean()"
   ]
  },
  {
   "cell_type": "code",
   "execution_count": 67,
   "metadata": {},
   "outputs": [
    {
     "data": {
      "image/png": "[encoded data removed]",
      "text/plain": [
       "<Figure size 640x480 with 1 Axes>"
      ]
     },
     "metadata": {},
     "output_type": "display_data"
    },
    {
     "name": "stdout",
     "output_type": "stream",
     "text": [
      "SignificanceResult(statistic=0.5986622073578595, pvalue=2.879182774036441e-05)\n"
     ]
    }
   ],
   "source": [
    "kt = kendalltau(human_ndcg, gpt_ndcg)\n",
    "plt.scatter(human_ndcg, gpt_ndcg, color=\"black\")\n",
    "max_lim = max(plt.xlim()[1], plt.ylim()[1])\n",
    "plt.xlim(0, max_lim)\n",
    "plt.ylim(0, max_lim)\n",
    "plt.text(max_lim/20, max_lim-max_lim/10, f\"Kendall's $\\\\tau$ = {kt.statistic}\", fontdict={\"size\": 12})\n",
    "plt.ylabel(\"NDCG@10(unofficial LLM judgements)\", size=12)\n",
    "plt.xlabel(\"NDCG@10(official Human judgements)\", size=12)\n",
    "plt.savefig(\"ndcg.pgf\", format=\"pgf\")\n",
    "plt.show()\n",
    "print(kt)"
   ]
  },
  {
   "cell_type": "markdown",
   "metadata": {},
   "source": [
    "## Export data to csv"
   ]
  },
  {
   "cell_type": "code",
   "execution_count": 68,
   "metadata": {},
   "outputs": [],
   "source": [
    "import csv"
   ]
  },
  {
   "cell_type": "code",
   "execution_count": 69,
   "metadata": {},
   "outputs": [],
   "source": [
    "ndcg_writer = csv.writer(open(\"ndcg_data.csv\", \"w\"))\n",
    "\n",
    "data_ndcg = [(\"h\", \"g\")]\n",
    "data_ndcg.extend(list(zip(human_ndcg, gpt_ndcg)))\n",
    "ndcg_writer.writerows(data_ndcg)"
   ]
  },
  {
   "cell_type": "code",
   "execution_count": 70,
   "metadata": {},
   "outputs": [],
   "source": [
    "map_writer = csv.writer(open(\"map_data.csv\", \"w\"))\n",
    "\n",
    "data_map = [(\"h\", \"g\")]\n",
    "data_map.extend(list(zip(human_map, gpt_map)))\n",
    "map_writer.writerows(data_map)"
   ]
  },
  {
   "cell_type": "code",
   "execution_count": 71,
   "metadata": {},
   "outputs": [],
   "source": [
    "from scipy.stats import ttest_ind\n",
    "from itertools import combinations"
   ]
  },
  {
   "cell_type": "code",
   "execution_count": 72,
   "metadata": {},
   "outputs": [],
   "source": [
    "ex_human_rst = ex_human.reset_index()\n",
    "ex_gpt_rst = ex_gpt.reset_index()\n",
    "\n",
    "def compute_sensitivity(df, measurement):\n",
    "    models = df.model.unique()\n",
    "    model_pairs = list(combinations(models, 2))\n",
    "\n",
    "    distinguished_pairs = 0\n",
    "\n",
    "    for pair in model_pairs:\n",
    "        row_a = df.loc[np.isin(df.model, pair[0]), measurement]\n",
    "        row_b = df.loc[np.isin(df.model, pair[1]), measurement]\n",
    "        if ttest_ind(row_a, row_b).pvalue < 0.05:\n",
    "            distinguished_pairs += 1\n",
    "\n",
    "    return round(distinguished_pairs / len(model_pairs), 2)"
   ]
  },
  {
   "cell_type": "code",
   "execution_count": 73,
   "metadata": {},
   "outputs": [
    {
     "data": {
      "text/plain": [
       "0.29"
      ]
     },
     "execution_count": 73,
     "metadata": {},
     "output_type": "execute_result"
    }
   ],
   "source": [
    "compute_sensitivity(ex_human_rst, \"ndcg_cut_10\")"
   ]
  },
  {
   "cell_type": "code",
   "execution_count": 74,
   "metadata": {},
   "outputs": [
    {
     "data": {
      "text/plain": [
       "0.36"
      ]
     },
     "execution_count": 74,
     "metadata": {},
     "output_type": "execute_result"
    }
   ],
   "source": [
    "compute_sensitivity(ex_gpt_rst, \"ndcg_cut_10\")"
   ]
  },
  {
   "cell_type": "code",
   "execution_count": 75,
   "metadata": {},
   "outputs": [
    {
     "data": {
      "text/plain": [
       "0.29"
      ]
     },
     "execution_count": 75,
     "metadata": {},
     "output_type": "execute_result"
    }
   ],
   "source": [
    "compute_sensitivity(ex_human_rst, \"map\")"
   ]
  },
  {
   "cell_type": "code",
   "execution_count": 76,
   "metadata": {},
   "outputs": [
    {
     "data": {
      "text/plain": [
       "0.34"
      ]
     },
     "execution_count": 76,
     "metadata": {},
     "output_type": "execute_result"
    }
   ],
   "source": [
    "compute_sensitivity(ex_gpt_rst, \"map\")"
   ]
  },
  {
   "cell_type": "code",
   "execution_count": null,
   "metadata": {},
   "outputs": [],
   "source": []
  }
 ],
 "metadata": {
  "kernelspec": {
   "display_name": "Python 3",
   "language": "python",
   "name": "python3"
  },
  "language_info": {
   "codemirror_mode": {
    "name": "ipython",
    "version": 3
   },
   "file_extension": ".py",
   "mimetype": "text/x-python",
   "name": "python",
   "nbconvert_exporter": "python",
   "pygments_lexer": "ipython3",
   "version": "3.12.0"
  }
 },
 "nbformat": 4,
 "nbformat_minor": 2
}
