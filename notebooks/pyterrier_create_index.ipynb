{
 "cells": [
  {
   "cell_type": "markdown",
   "metadata": {},
   "source": [
    "## Index tables to pyterrier"
   ]
  },
  {
   "cell_type": "code",
   "execution_count": 32,
   "metadata": {},
   "outputs": [],
   "source": [
    "import pyterrier as pt\n",
    "from LLmsfJiT import connect, config, get_tables_from_qrels\n",
    "import itertools\n",
    "import pandas as pd\n",
    "import numpy as np"
   ]
  },
  {
   "cell_type": "code",
   "execution_count": 33,
   "metadata": {},
   "outputs": [
    {
     "ename": "RuntimeError",
     "evalue": "pt.init() has already been called. Check pt.started() before calling pt.init()",
     "output_type": "error",
     "traceback": [
      "\u001b[0;31m---------------------------------------------------------------------------\u001b[0m",
      "\u001b[0;31mRuntimeError\u001b[0m                              Traceback (most recent call last)",
      "Cell \u001b[0;32mIn[33], line 1\u001b[0m\n\u001b[0;32m----> 1\u001b[0m \u001b[43mpt\u001b[49m\u001b[38;5;241;43m.\u001b[39;49m\u001b[43minit\u001b[49m\u001b[43m(\u001b[49m\u001b[43m)\u001b[49m\n",
      "File \u001b[0;32m~/.local/lib/python3.12/site-packages/pyterrier/__init__.py:81\u001b[0m, in \u001b[0;36minit\u001b[0;34m(version, mem, packages, jvm_opts, redirect_io, logging, home_dir, boot_packages, tqdm, no_download, helper_version)\u001b[0m\n\u001b[1;32m     79\u001b[0m \u001b[38;5;28;01mglobal\u001b[39;00m firstInit\n\u001b[1;32m     80\u001b[0m \u001b[38;5;28;01mif\u001b[39;00m firstInit:\n\u001b[0;32m---> 81\u001b[0m     \u001b[38;5;28;01mraise\u001b[39;00m \u001b[38;5;167;01mRuntimeError\u001b[39;00m(\u001b[38;5;124m\"\u001b[39m\u001b[38;5;124mpt.init() has already been called. Check pt.started() before calling pt.init()\u001b[39m\u001b[38;5;124m\"\u001b[39m)\n\u001b[1;32m     83\u001b[0m \u001b[38;5;66;03m# check python version\u001b[39;00m\n\u001b[1;32m     84\u001b[0m \u001b[38;5;28;01mimport\u001b[39;00m \u001b[38;5;21;01mplatform\u001b[39;00m\n",
      "\u001b[0;31mRuntimeError\u001b[0m: pt.init() has already been called. Check pt.started() before calling pt.init()"
     ]
    }
   ],
   "source": [
    "pt.init()"
   ]
  },
  {
   "cell_type": "code",
   "execution_count": 34,
   "metadata": {},
   "outputs": [
    {
     "name": "stdout",
     "output_type": "stream",
     "text": [
      "Connected to postgres\n"
     ]
    }
   ],
   "source": [
    "conf = config(\"../database.ini\")\n",
    "conn, cur = connect(conf[\"postgres\"])"
   ]
  },
  {
   "cell_type": "markdown",
   "metadata": {},
   "source": [
    "## Generate a larger subset of wtr files"
   ]
  },
  {
   "cell_type": "code",
   "execution_count": 43,
   "metadata": {},
   "outputs": [],
   "source": [
    "rated_tables = get_tables_from_qrels(conn, cur, \"../rel_files/rel_table_qrels.txt\")\n",
    "tables = [rt.table for rt in rated_tables]"
   ]
  },
  {
   "cell_type": "code",
   "execution_count": 44,
   "metadata": {},
   "outputs": [],
   "source": [
    "table_df = pd.DataFrame(tables)"
   ]
  },
  {
   "cell_type": "code",
   "execution_count": 45,
   "metadata": {},
   "outputs": [],
   "source": [
    "def extract_header(row: pd.core.series.Series):\n",
    "    header_idx = row.header_row_index\n",
    "    rows = list(map(list, zip(*row.relation)))\n",
    "    header = \" \".join(rows[header_idx]) if header_idx != -1 else \"\"\n",
    "    return header\n",
    "\n",
    "table_df[\"header\"] = table_df.apply(extract_header, axis=1)"
   ]
  },
  {
   "cell_type": "code",
   "execution_count": 46,
   "metadata": {},
   "outputs": [],
   "source": [
    "test = None\n",
    "def extract_key_column(row: pd.core.series.Series):\n",
    "    global test\n",
    "    key_col = None\n",
    "    try:\n",
    "        key_col_idx = row.key_column_index\n",
    "        key_col = \" \".join(row.relation[key_col_idx]) if key_col_idx != -1 else \"\"\n",
    "    except:\n",
    "        key_col = \" \".join(row.relation[1])\n",
    "    return key_col\n",
    "\n",
    "table_df[\"key_column\"] = table_df.apply(extract_key_column, axis=1)"
   ]
  },
  {
   "cell_type": "code",
   "execution_count": 47,
   "metadata": {},
   "outputs": [],
   "source": [
    "def extract_table_content(row: pd.core.series.Series):\n",
    "    return ' '.join(list(itertools.chain(*row['relation'])))\n",
    "\n",
    "table_df[\"table_content\"] = table_df.apply(extract_table_content, axis=1)"
   ]
  },
  {
   "cell_type": "code",
   "execution_count": 48,
   "metadata": {},
   "outputs": [],
   "source": [
    "def gen_catchall(row: pd.core.series.Series):\n",
    "    return ' '.join([row.table_content, row.text_before, row.text_after, row.page_title, row.title])\n",
    "\n",
    "table_catchall = pd.concat([table_df[\"json_loc\"], table_df.apply(gen_catchall, axis=1)], axis=1)\n",
    "table_catchall.columns = [\"docno\", \"catchall\"]"
   ]
  },
  {
   "cell_type": "code",
   "execution_count": 49,
   "metadata": {},
   "outputs": [
    {
     "data": {
      "text/html": [
       "<div>\n",
       "<style scoped>\n",
       "    .dataframe tbody tr th:only-of-type {\n",
       "        vertical-align: middle;\n",
       "    }\n",
       "\n",
       "    .dataframe tbody tr th {\n",
       "        vertical-align: top;\n",
       "    }\n",
       "\n",
       "    .dataframe thead th {\n",
       "        text-align: right;\n",
       "    }\n",
       "</style>\n",
       "<table border=\"1\" class=\"dataframe\">\n",
       "  <thead>\n",
       "    <tr style=\"text-align: right;\">\n",
       "      <th></th>\n",
       "      <th>docno</th>\n",
       "      <th>catchall</th>\n",
       "    </tr>\n",
       "  </thead>\n",
       "  <tbody>\n",
       "    <tr>\n",
       "      <th>0</th>\n",
       "      <td>5/1438042988718.8_20150728002308-00068-ip-10-2...</td>\n",
       "      <td>Country name Afghanistan Albania Algeria Ameri...</td>\n",
       "    </tr>\n",
       "    <tr>\n",
       "      <th>1</th>\n",
       "      <td>28/1438042990112.92_20150728002310-00241-ip-10...</td>\n",
       "      <td>S.No. 1 2 3 4 5 6 7 8 9 10 11 12 13 14 15 16 1...</td>\n",
       "    </tr>\n",
       "    <tr>\n",
       "      <th>2</th>\n",
       "      <td>41/1438042986451.45_20150728002306-00283-ip-10...</td>\n",
       "      <td>S.No. 1 2 3 4 5 6 7 8 9 10 11 12 13 14 15 16 1...</td>\n",
       "    </tr>\n",
       "    <tr>\n",
       "      <th>3</th>\n",
       "      <td>2/1438042981856.5_20150728002301-00265-ip-10-2...</td>\n",
       "      <td>Country Japan Singapore Bulgaria Switzerland U...</td>\n",
       "    </tr>\n",
       "    <tr>\n",
       "      <th>4</th>\n",
       "      <td>21/1438042987174.71_20150728002307-00309-ip-10...</td>\n",
       "      <td>Country name Afghanistan Albania Algeria Ameri...</td>\n",
       "    </tr>\n",
       "    <tr>\n",
       "      <th>...</th>\n",
       "      <td>...</td>\n",
       "      <td>...</td>\n",
       "    </tr>\n",
       "    <tr>\n",
       "      <th>6944</th>\n",
       "      <td>25/1438042987155.85_20150728002307-00277-ip-10...</td>\n",
       "      <td>Rank 101 102 103 104 105 106 107 108 109 110 1...</td>\n",
       "    </tr>\n",
       "    <tr>\n",
       "      <th>6945</th>\n",
       "      <td>25/1438042987155.85_20150728002307-00015-ip-10...</td>\n",
       "      <td>Region Albania Armenia Azerbaijan Belize Benin...</td>\n",
       "    </tr>\n",
       "    <tr>\n",
       "      <th>6946</th>\n",
       "      <td>23/1438042990609.0_20150728002310-00259-ip-10-...</td>\n",
       "      <td>Games 2014 Winter 2014 Winter Age 23 23 City S...</td>\n",
       "    </tr>\n",
       "    <tr>\n",
       "      <th>6947</th>\n",
       "      <td>23/1438042989043.35_20150728002309-00291-ip-10...</td>\n",
       "      <td># 31 43  Name Jaroslav Janus Evan Oberg Sabast...</td>\n",
       "    </tr>\n",
       "    <tr>\n",
       "      <th>6948</th>\n",
       "      <td>30/1438042986357.49_20150728002306-00077-ip-10...</td>\n",
       "      <td>Games 1908 Summer 1908 Summer Age 22 22 City L...</td>\n",
       "    </tr>\n",
       "  </tbody>\n",
       "</table>\n",
       "<p>6949 rows × 2 columns</p>\n",
       "</div>"
      ],
      "text/plain": [
       "                                                  docno  \\\n",
       "0     5/1438042988718.8_20150728002308-00068-ip-10-2...   \n",
       "1     28/1438042990112.92_20150728002310-00241-ip-10...   \n",
       "2     41/1438042986451.45_20150728002306-00283-ip-10...   \n",
       "3     2/1438042981856.5_20150728002301-00265-ip-10-2...   \n",
       "4     21/1438042987174.71_20150728002307-00309-ip-10...   \n",
       "...                                                 ...   \n",
       "6944  25/1438042987155.85_20150728002307-00277-ip-10...   \n",
       "6945  25/1438042987155.85_20150728002307-00015-ip-10...   \n",
       "6946  23/1438042990609.0_20150728002310-00259-ip-10-...   \n",
       "6947  23/1438042989043.35_20150728002309-00291-ip-10...   \n",
       "6948  30/1438042986357.49_20150728002306-00077-ip-10...   \n",
       "\n",
       "                                               catchall  \n",
       "0     Country name Afghanistan Albania Algeria Ameri...  \n",
       "1     S.No. 1 2 3 4 5 6 7 8 9 10 11 12 13 14 15 16 1...  \n",
       "2     S.No. 1 2 3 4 5 6 7 8 9 10 11 12 13 14 15 16 1...  \n",
       "3     Country Japan Singapore Bulgaria Switzerland U...  \n",
       "4     Country name Afghanistan Albania Algeria Ameri...  \n",
       "...                                                 ...  \n",
       "6944  Rank 101 102 103 104 105 106 107 108 109 110 1...  \n",
       "6945  Region Albania Armenia Azerbaijan Belize Benin...  \n",
       "6946  Games 2014 Winter 2014 Winter Age 23 23 City S...  \n",
       "6947  # 31 43  Name Jaroslav Janus Evan Oberg Sabast...  \n",
       "6948  Games 1908 Summer 1908 Summer Age 22 22 City L...  \n",
       "\n",
       "[6949 rows x 2 columns]"
      ]
     },
     "execution_count": 49,
     "metadata": {},
     "output_type": "execute_result"
    }
   ],
   "source": [
    "table_catchall"
   ]
  },
  {
   "cell_type": "code",
   "execution_count": 50,
   "metadata": {},
   "outputs": [
    {
     "data": {
      "text/plain": [
       "<org.terrier.querying.IndexRef at 0x7fe0dd622cb0 jclass=org/terrier/querying/IndexRef jself=<LocalRef obj=0x55d118e6c618 at 0x7fe0dc675190>>"
      ]
     },
     "execution_count": 50,
     "metadata": {},
     "output_type": "execute_result"
    }
   ],
   "source": [
    "sf_indexer = pt.DFIndexer(\"../pyterrier_indexes/single_field_index_topics-20\")\n",
    "sf_indexer.index(table_catchall[\"catchall\"], table_catchall[\"docno\"])"
   ]
  },
  {
   "cell_type": "code",
   "execution_count": 21,
   "metadata": {},
   "outputs": [],
   "source": [
    "mf_table = table_df[[\"json_loc\", \"page_title\", \"text_before\", \"table_content\", \"text_after\", \"header\"]].copy()"
   ]
  },
  {
   "cell_type": "code",
   "execution_count": 24,
   "metadata": {},
   "outputs": [],
   "source": [
    "mf_table.columns = [\"docno\", \"page_title\", \"text_before\", \"text\", \"text_after\", \"header\"]"
   ]
  },
  {
   "cell_type": "code",
   "execution_count": 27,
   "metadata": {},
   "outputs": [],
   "source": [
    "mf_dict = mf_table.to_dict(\"records\")"
   ]
  },
  {
   "cell_type": "code",
   "execution_count": 31,
   "metadata": {},
   "outputs": [
    {
     "data": {
      "text/plain": [
       "<org.terrier.querying.IndexRef at 0x7fe0ef1e7ed0 jclass=org/terrier/querying/IndexRef jself=<LocalRef obj=0x55d118e6c710 at 0x7fe0ecf5fef0>>"
      ]
     },
     "execution_count": 31,
     "metadata": {},
     "output_type": "execute_result"
    }
   ],
   "source": [
    "mf_indexer = pt.IterDictIndexer(\"../multi_field_index_topics-20\", meta={\"docno\": 100})\n",
    "mf_indexer.index(mf_dict)"
   ]
  },
  {
   "cell_type": "code",
   "execution_count": null,
   "metadata": {},
   "outputs": [],
   "source": []
  }
 ],
 "metadata": {
  "kernelspec": {
   "display_name": "Python 3",
   "language": "python",
   "name": "python3"
  },
  "language_info": {
   "codemirror_mode": {
    "name": "ipython",
    "version": 3
   },
   "file_extension": ".py",
   "mimetype": "text/x-python",
   "name": "python",
   "nbconvert_exporter": "python",
   "pygments_lexer": "ipython3",
   "version": "3.12.0"
  }
 },
 "nbformat": 4,
 "nbformat_minor": 2
}
